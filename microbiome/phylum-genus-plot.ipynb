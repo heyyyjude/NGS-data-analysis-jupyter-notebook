{
 "cells": [
  {
   "cell_type": "code",
   "execution_count": 1,
   "metadata": {},
   "outputs": [
    {
     "name": "stderr",
     "output_type": "stream",
     "text": [
      "Warning message:\n",
      "\"package 'tidyverse' was built under R version 3.4.4\"-- Attaching packages --------------------------------------- tidyverse 1.2.1 --\n",
      "√ ggplot2 2.2.1     √ purrr   0.2.4\n",
      "√ tibble  1.4.2     √ dplyr   0.7.4\n",
      "√ tidyr   0.8.0     √ stringr 1.3.0\n",
      "√ readr   1.1.1     √ forcats 0.3.0\n",
      "-- Conflicts ------------------------------------------ tidyverse_conflicts() --\n",
      "x dplyr::filter() masks stats::filter()\n",
      "x dplyr::lag()    masks stats::lag()\n",
      "\n",
      "Attaching package: 'reshape2'\n",
      "\n",
      "The following object is masked from 'package:tidyr':\n",
      "\n",
      "    smiths\n",
      "\n"
     ]
    }
   ],
   "source": [
    "library(\"tidyverse\")\n",
    "library(\"reshape2\")"
   ]
  },
  {
   "cell_type": "code",
   "execution_count": 63,
   "metadata": {},
   "outputs": [
    {
     "data": {
      "text/html": [
       "<table>\n",
       "<thead><tr><th></th><th scope=col>Korean</th><th scope=col>HMP</th></tr></thead>\n",
       "<tbody>\n",
       "\t<tr><th scope=row>k__Archaea;p__Euryarchaeota;c__Methanobacteria;o__Methanobacteriales;f__Methanobacteriaceae;g__Methanobrevibacter</th><td>0           </td><td>2.352123e-06</td></tr>\n",
       "\t<tr><th scope=row>k__Bacteria;p__;c__;o__;f__;g__</th><td>0           </td><td>1.411274e-06</td></tr>\n",
       "\t<tr><th scope=row>k__Bacteria;p__Acidobacteria;c__BPC102;o__B110;f__;g__</th><td>0           </td><td>2.352123e-07</td></tr>\n",
       "\t<tr><th scope=row>k__Bacteria;p__Actinobacteria;c__Acidimicrobiia;o__Acidimicrobiales;f__;g__</th><td>0           </td><td>4.704246e-07</td></tr>\n",
       "\t<tr><th scope=row>k__Bacteria;p__Actinobacteria;c__Acidimicrobiia;o__Acidimicrobiales;f__EB1017;g__</th><td>0           </td><td>2.352123e-07</td></tr>\n",
       "\t<tr><th scope=row>k__Bacteria;p__Actinobacteria;c__Acidimicrobiia;o__Acidimicrobiales;f__Microthrixaceae;g__Candidatus Microthrix</th><td>0           </td><td>2.352123e-07</td></tr>\n",
       "</tbody>\n",
       "</table>\n"
      ],
      "text/latex": [
       "\\begin{tabular}{r|ll}\n",
       "  & Korean & HMP\\\\\n",
       "\\hline\n",
       "\tk\\_\\_Archaea;p\\_\\_Euryarchaeota;c\\_\\_Methanobacteria;o\\_\\_Methanobacteriales;f\\_\\_Methanobacteriaceae;g\\_\\_Methanobrevibacter & 0            & 2.352123e-06\\\\\n",
       "\tk\\_\\_Bacteria;p\\_\\_;c\\_\\_;o\\_\\_;f\\_\\_;g\\_\\_ & 0            & 1.411274e-06\\\\\n",
       "\tk\\_\\_Bacteria;p\\_\\_Acidobacteria;c\\_\\_BPC102;o\\_\\_B110;f\\_\\_;g\\_\\_ & 0            & 2.352123e-07\\\\\n",
       "\tk\\_\\_Bacteria;p\\_\\_Actinobacteria;c\\_\\_Acidimicrobiia;o\\_\\_Acidimicrobiales;f\\_\\_;g\\_\\_ & 0            & 4.704246e-07\\\\\n",
       "\tk\\_\\_Bacteria;p\\_\\_Actinobacteria;c\\_\\_Acidimicrobiia;o\\_\\_Acidimicrobiales;f\\_\\_EB1017;g\\_\\_ & 0            & 2.352123e-07\\\\\n",
       "\tk\\_\\_Bacteria;p\\_\\_Actinobacteria;c\\_\\_Acidimicrobiia;o\\_\\_Acidimicrobiales;f\\_\\_Microthrixaceae;g\\_\\_Candidatus Microthrix & 0            & 2.352123e-07\\\\\n",
       "\\end{tabular}\n"
      ],
      "text/markdown": [
       "\n",
       "| <!--/--> | Korean | HMP | \n",
       "|---|---|---|---|---|---|\n",
       "| k__Archaea;p__Euryarchaeota;c__Methanobacteria;o__Methanobacteriales;f__Methanobacteriaceae;g__Methanobrevibacter | 0            | 2.352123e-06 | \n",
       "| k__Bacteria;p__;c__;o__;f__;g__ | 0            | 1.411274e-06 | \n",
       "| k__Bacteria;p__Acidobacteria;c__BPC102;o__B110;f__;g__ | 0            | 2.352123e-07 | \n",
       "| k__Bacteria;p__Actinobacteria;c__Acidimicrobiia;o__Acidimicrobiales;f__;g__ | 0            | 4.704246e-07 | \n",
       "| k__Bacteria;p__Actinobacteria;c__Acidimicrobiia;o__Acidimicrobiales;f__EB1017;g__ | 0            | 2.352123e-07 | \n",
       "| k__Bacteria;p__Actinobacteria;c__Acidimicrobiia;o__Acidimicrobiales;f__Microthrixaceae;g__Candidatus Microthrix | 0            | 2.352123e-07 | \n",
       "\n",
       "\n"
      ],
      "text/plain": [
       "                                                                                                                  Korean\n",
       "k__Archaea;p__Euryarchaeota;c__Methanobacteria;o__Methanobacteriales;f__Methanobacteriaceae;g__Methanobrevibacter 0     \n",
       "k__Bacteria;p__;c__;o__;f__;g__                                                                                   0     \n",
       "k__Bacteria;p__Acidobacteria;c__BPC102;o__B110;f__;g__                                                            0     \n",
       "k__Bacteria;p__Actinobacteria;c__Acidimicrobiia;o__Acidimicrobiales;f__;g__                                       0     \n",
       "k__Bacteria;p__Actinobacteria;c__Acidimicrobiia;o__Acidimicrobiales;f__EB1017;g__                                 0     \n",
       "k__Bacteria;p__Actinobacteria;c__Acidimicrobiia;o__Acidimicrobiales;f__Microthrixaceae;g__Candidatus Microthrix   0     \n",
       "                                                                                                                  HMP         \n",
       "k__Archaea;p__Euryarchaeota;c__Methanobacteria;o__Methanobacteriales;f__Methanobacteriaceae;g__Methanobrevibacter 2.352123e-06\n",
       "k__Bacteria;p__;c__;o__;f__;g__                                                                                   1.411274e-06\n",
       "k__Bacteria;p__Acidobacteria;c__BPC102;o__B110;f__;g__                                                            2.352123e-07\n",
       "k__Bacteria;p__Actinobacteria;c__Acidimicrobiia;o__Acidimicrobiales;f__;g__                                       4.704246e-07\n",
       "k__Bacteria;p__Actinobacteria;c__Acidimicrobiia;o__Acidimicrobiales;f__EB1017;g__                                 2.352123e-07\n",
       "k__Bacteria;p__Actinobacteria;c__Acidimicrobiia;o__Acidimicrobiales;f__Microthrixaceae;g__Candidatus Microthrix   2.352123e-07"
      ]
     },
     "metadata": {},
     "output_type": "display_data"
    }
   ],
   "source": [
    "taxa <- read.delim(\"Description_otu_table_L6.txt\", sep='\\t', row=1)\n",
    "head(taxa)"
   ]
  },
  {
   "cell_type": "code",
   "execution_count": 64,
   "metadata": {},
   "outputs": [
    {
     "data": {
      "text/html": [
       "<ol class=list-inline>\n",
       "\t<li>'k__Archaea;p__Euryarchaeota;c__Methanobacteria;o__Methanobacteriales;f__Methanobacteriaceae;g__Methanobrevibacter'</li>\n",
       "\t<li>'k__Bacteria;p__;c__;o__;f__;g__'</li>\n",
       "\t<li>'k__Bacteria;p__Acidobacteria;c__BPC102;o__B110;f__;g__'</li>\n",
       "\t<li>'k__Bacteria;p__Actinobacteria;c__Acidimicrobiia;o__Acidimicrobiales;f__;g__'</li>\n",
       "\t<li>'k__Bacteria;p__Actinobacteria;c__Acidimicrobiia;o__Acidimicrobiales;f__EB1017;g__'</li>\n",
       "\t<li>'k__Bacteria;p__Actinobacteria;c__Acidimicrobiia;o__Acidimicrobiales;f__Microthrixaceae;g__Candidatus Microthrix'</li>\n",
       "</ol>\n"
      ],
      "text/latex": [
       "\\begin{enumerate*}\n",
       "\\item 'k\\_\\_Archaea;p\\_\\_Euryarchaeota;c\\_\\_Methanobacteria;o\\_\\_Methanobacteriales;f\\_\\_Methanobacteriaceae;g\\_\\_Methanobrevibacter'\n",
       "\\item 'k\\_\\_Bacteria;p\\_\\_;c\\_\\_;o\\_\\_;f\\_\\_;g\\_\\_'\n",
       "\\item 'k\\_\\_Bacteria;p\\_\\_Acidobacteria;c\\_\\_BPC102;o\\_\\_B110;f\\_\\_;g\\_\\_'\n",
       "\\item 'k\\_\\_Bacteria;p\\_\\_Actinobacteria;c\\_\\_Acidimicrobiia;o\\_\\_Acidimicrobiales;f\\_\\_;g\\_\\_'\n",
       "\\item 'k\\_\\_Bacteria;p\\_\\_Actinobacteria;c\\_\\_Acidimicrobiia;o\\_\\_Acidimicrobiales;f\\_\\_EB1017;g\\_\\_'\n",
       "\\item 'k\\_\\_Bacteria;p\\_\\_Actinobacteria;c\\_\\_Acidimicrobiia;o\\_\\_Acidimicrobiales;f\\_\\_Microthrixaceae;g\\_\\_Candidatus Microthrix'\n",
       "\\end{enumerate*}\n"
      ],
      "text/markdown": [
       "1. 'k__Archaea;p__Euryarchaeota;c__Methanobacteria;o__Methanobacteriales;f__Methanobacteriaceae;g__Methanobrevibacter'\n",
       "2. 'k__Bacteria;p__;c__;o__;f__;g__'\n",
       "3. 'k__Bacteria;p__Acidobacteria;c__BPC102;o__B110;f__;g__'\n",
       "4. 'k__Bacteria;p__Actinobacteria;c__Acidimicrobiia;o__Acidimicrobiales;f__;g__'\n",
       "5. 'k__Bacteria;p__Actinobacteria;c__Acidimicrobiia;o__Acidimicrobiales;f__EB1017;g__'\n",
       "6. 'k__Bacteria;p__Actinobacteria;c__Acidimicrobiia;o__Acidimicrobiales;f__Microthrixaceae;g__Candidatus Microthrix'\n",
       "\n",
       "\n"
      ],
      "text/plain": [
       "[1] \"k__Archaea;p__Euryarchaeota;c__Methanobacteria;o__Methanobacteriales;f__Methanobacteriaceae;g__Methanobrevibacter\"\n",
       "[2] \"k__Bacteria;p__;c__;o__;f__;g__\"                                                                                  \n",
       "[3] \"k__Bacteria;p__Acidobacteria;c__BPC102;o__B110;f__;g__\"                                                           \n",
       "[4] \"k__Bacteria;p__Actinobacteria;c__Acidimicrobiia;o__Acidimicrobiales;f__;g__\"                                      \n",
       "[5] \"k__Bacteria;p__Actinobacteria;c__Acidimicrobiia;o__Acidimicrobiales;f__EB1017;g__\"                                \n",
       "[6] \"k__Bacteria;p__Actinobacteria;c__Acidimicrobiia;o__Acidimicrobiales;f__Microthrixaceae;g__Candidatus Microthrix\"  "
      ]
     },
     "metadata": {},
     "output_type": "display_data"
    }
   ],
   "source": [
    "split <- strsplit(rownames(taxa),\";\")\n",
    "head(rownames(taxa))"
   ]
  },
  {
   "cell_type": "code",
   "execution_count": 65,
   "metadata": {},
   "outputs": [
    {
     "data": {
      "text/html": [
       "<ol>\n",
       "\t<li><ol class=list-inline>\n",
       "\t<li>'k__Archaea'</li>\n",
       "\t<li>'p__Euryarchaeota'</li>\n",
       "\t<li>'c__Methanobacteria'</li>\n",
       "\t<li>'o__Methanobacteriales'</li>\n",
       "\t<li>'f__Methanobacteriaceae'</li>\n",
       "\t<li>'g__Methanobrevibacter'</li>\n",
       "</ol>\n",
       "</li>\n",
       "\t<li><ol class=list-inline>\n",
       "\t<li>'k__Bacteria'</li>\n",
       "\t<li>'p__'</li>\n",
       "\t<li>'c__'</li>\n",
       "\t<li>'o__'</li>\n",
       "\t<li>'f__'</li>\n",
       "\t<li>'g__'</li>\n",
       "</ol>\n",
       "</li>\n",
       "\t<li><ol class=list-inline>\n",
       "\t<li>'k__Bacteria'</li>\n",
       "\t<li>'p__Acidobacteria'</li>\n",
       "\t<li>'c__BPC102'</li>\n",
       "\t<li>'o__B110'</li>\n",
       "\t<li>'f__'</li>\n",
       "\t<li>'g__'</li>\n",
       "</ol>\n",
       "</li>\n",
       "\t<li><ol class=list-inline>\n",
       "\t<li>'k__Bacteria'</li>\n",
       "\t<li>'p__Actinobacteria'</li>\n",
       "\t<li>'c__Acidimicrobiia'</li>\n",
       "\t<li>'o__Acidimicrobiales'</li>\n",
       "\t<li>'f__'</li>\n",
       "\t<li>'g__'</li>\n",
       "</ol>\n",
       "</li>\n",
       "\t<li><ol class=list-inline>\n",
       "\t<li>'k__Bacteria'</li>\n",
       "\t<li>'p__Actinobacteria'</li>\n",
       "\t<li>'c__Acidimicrobiia'</li>\n",
       "\t<li>'o__Acidimicrobiales'</li>\n",
       "\t<li>'f__EB1017'</li>\n",
       "\t<li>'g__'</li>\n",
       "</ol>\n",
       "</li>\n",
       "\t<li><ol class=list-inline>\n",
       "\t<li>'k__Bacteria'</li>\n",
       "\t<li>'p__Actinobacteria'</li>\n",
       "\t<li>'c__Acidimicrobiia'</li>\n",
       "\t<li>'o__Acidimicrobiales'</li>\n",
       "\t<li>'f__Microthrixaceae'</li>\n",
       "\t<li>'g__Candidatus Microthrix'</li>\n",
       "</ol>\n",
       "</li>\n",
       "</ol>\n"
      ],
      "text/latex": [
       "\\begin{enumerate}\n",
       "\\item \\begin{enumerate*}\n",
       "\\item 'k\\_\\_Archaea'\n",
       "\\item 'p\\_\\_Euryarchaeota'\n",
       "\\item 'c\\_\\_Methanobacteria'\n",
       "\\item 'o\\_\\_Methanobacteriales'\n",
       "\\item 'f\\_\\_Methanobacteriaceae'\n",
       "\\item 'g\\_\\_Methanobrevibacter'\n",
       "\\end{enumerate*}\n",
       "\n",
       "\\item \\begin{enumerate*}\n",
       "\\item 'k\\_\\_Bacteria'\n",
       "\\item 'p\\_\\_'\n",
       "\\item 'c\\_\\_'\n",
       "\\item 'o\\_\\_'\n",
       "\\item 'f\\_\\_'\n",
       "\\item 'g\\_\\_'\n",
       "\\end{enumerate*}\n",
       "\n",
       "\\item \\begin{enumerate*}\n",
       "\\item 'k\\_\\_Bacteria'\n",
       "\\item 'p\\_\\_Acidobacteria'\n",
       "\\item 'c\\_\\_BPC102'\n",
       "\\item 'o\\_\\_B110'\n",
       "\\item 'f\\_\\_'\n",
       "\\item 'g\\_\\_'\n",
       "\\end{enumerate*}\n",
       "\n",
       "\\item \\begin{enumerate*}\n",
       "\\item 'k\\_\\_Bacteria'\n",
       "\\item 'p\\_\\_Actinobacteria'\n",
       "\\item 'c\\_\\_Acidimicrobiia'\n",
       "\\item 'o\\_\\_Acidimicrobiales'\n",
       "\\item 'f\\_\\_'\n",
       "\\item 'g\\_\\_'\n",
       "\\end{enumerate*}\n",
       "\n",
       "\\item \\begin{enumerate*}\n",
       "\\item 'k\\_\\_Bacteria'\n",
       "\\item 'p\\_\\_Actinobacteria'\n",
       "\\item 'c\\_\\_Acidimicrobiia'\n",
       "\\item 'o\\_\\_Acidimicrobiales'\n",
       "\\item 'f\\_\\_EB1017'\n",
       "\\item 'g\\_\\_'\n",
       "\\end{enumerate*}\n",
       "\n",
       "\\item \\begin{enumerate*}\n",
       "\\item 'k\\_\\_Bacteria'\n",
       "\\item 'p\\_\\_Actinobacteria'\n",
       "\\item 'c\\_\\_Acidimicrobiia'\n",
       "\\item 'o\\_\\_Acidimicrobiales'\n",
       "\\item 'f\\_\\_Microthrixaceae'\n",
       "\\item 'g\\_\\_Candidatus Microthrix'\n",
       "\\end{enumerate*}\n",
       "\n",
       "\\end{enumerate}\n"
      ],
      "text/markdown": [
       "1. 1. 'k__Archaea'\n",
       "2. 'p__Euryarchaeota'\n",
       "3. 'c__Methanobacteria'\n",
       "4. 'o__Methanobacteriales'\n",
       "5. 'f__Methanobacteriaceae'\n",
       "6. 'g__Methanobrevibacter'\n",
       "\n",
       "\n",
       "\n",
       "2. 1. 'k__Bacteria'\n",
       "2. 'p__'\n",
       "3. 'c__'\n",
       "4. 'o__'\n",
       "5. 'f__'\n",
       "6. 'g__'\n",
       "\n",
       "\n",
       "\n",
       "3. 1. 'k__Bacteria'\n",
       "2. 'p__Acidobacteria'\n",
       "3. 'c__BPC102'\n",
       "4. 'o__B110'\n",
       "5. 'f__'\n",
       "6. 'g__'\n",
       "\n",
       "\n",
       "\n",
       "4. 1. 'k__Bacteria'\n",
       "2. 'p__Actinobacteria'\n",
       "3. 'c__Acidimicrobiia'\n",
       "4. 'o__Acidimicrobiales'\n",
       "5. 'f__'\n",
       "6. 'g__'\n",
       "\n",
       "\n",
       "\n",
       "5. 1. 'k__Bacteria'\n",
       "2. 'p__Actinobacteria'\n",
       "3. 'c__Acidimicrobiia'\n",
       "4. 'o__Acidimicrobiales'\n",
       "5. 'f__EB1017'\n",
       "6. 'g__'\n",
       "\n",
       "\n",
       "\n",
       "6. 1. 'k__Bacteria'\n",
       "2. 'p__Actinobacteria'\n",
       "3. 'c__Acidimicrobiia'\n",
       "4. 'o__Acidimicrobiales'\n",
       "5. 'f__Microthrixaceae'\n",
       "6. 'g__Candidatus Microthrix'\n",
       "\n",
       "\n",
       "\n",
       "\n",
       "\n"
      ],
      "text/plain": [
       "[[1]]\n",
       "[1] \"k__Archaea\"             \"p__Euryarchaeota\"       \"c__Methanobacteria\"    \n",
       "[4] \"o__Methanobacteriales\"  \"f__Methanobacteriaceae\" \"g__Methanobrevibacter\" \n",
       "\n",
       "[[2]]\n",
       "[1] \"k__Bacteria\" \"p__\"         \"c__\"         \"o__\"         \"f__\"        \n",
       "[6] \"g__\"        \n",
       "\n",
       "[[3]]\n",
       "[1] \"k__Bacteria\"      \"p__Acidobacteria\" \"c__BPC102\"        \"o__B110\"         \n",
       "[5] \"f__\"              \"g__\"             \n",
       "\n",
       "[[4]]\n",
       "[1] \"k__Bacteria\"         \"p__Actinobacteria\"   \"c__Acidimicrobiia\"  \n",
       "[4] \"o__Acidimicrobiales\" \"f__\"                 \"g__\"                \n",
       "\n",
       "[[5]]\n",
       "[1] \"k__Bacteria\"         \"p__Actinobacteria\"   \"c__Acidimicrobiia\"  \n",
       "[4] \"o__Acidimicrobiales\" \"f__EB1017\"           \"g__\"                \n",
       "\n",
       "[[6]]\n",
       "[1] \"k__Bacteria\"              \"p__Actinobacteria\"       \n",
       "[3] \"c__Acidimicrobiia\"        \"o__Acidimicrobiales\"     \n",
       "[5] \"f__Microthrixaceae\"       \"g__Candidatus Microthrix\"\n"
      ]
     },
     "metadata": {},
     "output_type": "display_data"
    }
   ],
   "source": [
    "head(split)"
   ]
  },
  {
   "cell_type": "code",
   "execution_count": 66,
   "metadata": {},
   "outputs": [
    {
     "data": {
      "text/html": [
       "<table>\n",
       "<thead><tr><th></th><th scope=col>Korean</th><th scope=col>HMP</th></tr></thead>\n",
       "<tbody>\n",
       "\t<tr><th scope=row>k__Archaea;p__Euryarchaeota;c__Methanobacteria;o__Methanobacteriales;f__Methanobacteriaceae;g__Methanobrevibacter</th><td>0           </td><td>2.352123e-06</td></tr>\n",
       "\t<tr><th scope=row>k__Bacteria;p__;c__;o__;f__;g__</th><td>0           </td><td>1.411274e-06</td></tr>\n",
       "\t<tr><th scope=row>k__Bacteria;p__Acidobacteria;c__BPC102;o__B110;f__;g__</th><td>0           </td><td>2.352123e-07</td></tr>\n",
       "\t<tr><th scope=row>k__Bacteria;p__Actinobacteria;c__Acidimicrobiia;o__Acidimicrobiales;f__;g__</th><td>0           </td><td>4.704246e-07</td></tr>\n",
       "\t<tr><th scope=row>k__Bacteria;p__Actinobacteria;c__Acidimicrobiia;o__Acidimicrobiales;f__EB1017;g__</th><td>0           </td><td>2.352123e-07</td></tr>\n",
       "\t<tr><th scope=row>k__Bacteria;p__Actinobacteria;c__Acidimicrobiia;o__Acidimicrobiales;f__Microthrixaceae;g__Candidatus Microthrix</th><td>0           </td><td>2.352123e-07</td></tr>\n",
       "</tbody>\n",
       "</table>\n"
      ],
      "text/latex": [
       "\\begin{tabular}{r|ll}\n",
       "  & Korean & HMP\\\\\n",
       "\\hline\n",
       "\tk\\_\\_Archaea;p\\_\\_Euryarchaeota;c\\_\\_Methanobacteria;o\\_\\_Methanobacteriales;f\\_\\_Methanobacteriaceae;g\\_\\_Methanobrevibacter & 0            & 2.352123e-06\\\\\n",
       "\tk\\_\\_Bacteria;p\\_\\_;c\\_\\_;o\\_\\_;f\\_\\_;g\\_\\_ & 0            & 1.411274e-06\\\\\n",
       "\tk\\_\\_Bacteria;p\\_\\_Acidobacteria;c\\_\\_BPC102;o\\_\\_B110;f\\_\\_;g\\_\\_ & 0            & 2.352123e-07\\\\\n",
       "\tk\\_\\_Bacteria;p\\_\\_Actinobacteria;c\\_\\_Acidimicrobiia;o\\_\\_Acidimicrobiales;f\\_\\_;g\\_\\_ & 0            & 4.704246e-07\\\\\n",
       "\tk\\_\\_Bacteria;p\\_\\_Actinobacteria;c\\_\\_Acidimicrobiia;o\\_\\_Acidimicrobiales;f\\_\\_EB1017;g\\_\\_ & 0            & 2.352123e-07\\\\\n",
       "\tk\\_\\_Bacteria;p\\_\\_Actinobacteria;c\\_\\_Acidimicrobiia;o\\_\\_Acidimicrobiales;f\\_\\_Microthrixaceae;g\\_\\_Candidatus Microthrix & 0            & 2.352123e-07\\\\\n",
       "\\end{tabular}\n"
      ],
      "text/markdown": [
       "\n",
       "| <!--/--> | Korean | HMP | \n",
       "|---|---|---|---|---|---|\n",
       "| k__Archaea;p__Euryarchaeota;c__Methanobacteria;o__Methanobacteriales;f__Methanobacteriaceae;g__Methanobrevibacter | 0            | 2.352123e-06 | \n",
       "| k__Bacteria;p__;c__;o__;f__;g__ | 0            | 1.411274e-06 | \n",
       "| k__Bacteria;p__Acidobacteria;c__BPC102;o__B110;f__;g__ | 0            | 2.352123e-07 | \n",
       "| k__Bacteria;p__Actinobacteria;c__Acidimicrobiia;o__Acidimicrobiales;f__;g__ | 0            | 4.704246e-07 | \n",
       "| k__Bacteria;p__Actinobacteria;c__Acidimicrobiia;o__Acidimicrobiales;f__EB1017;g__ | 0            | 2.352123e-07 | \n",
       "| k__Bacteria;p__Actinobacteria;c__Acidimicrobiia;o__Acidimicrobiales;f__Microthrixaceae;g__Candidatus Microthrix | 0            | 2.352123e-07 | \n",
       "\n",
       "\n"
      ],
      "text/plain": [
       "                                                                                                                  Korean\n",
       "k__Archaea;p__Euryarchaeota;c__Methanobacteria;o__Methanobacteriales;f__Methanobacteriaceae;g__Methanobrevibacter 0     \n",
       "k__Bacteria;p__;c__;o__;f__;g__                                                                                   0     \n",
       "k__Bacteria;p__Acidobacteria;c__BPC102;o__B110;f__;g__                                                            0     \n",
       "k__Bacteria;p__Actinobacteria;c__Acidimicrobiia;o__Acidimicrobiales;f__;g__                                       0     \n",
       "k__Bacteria;p__Actinobacteria;c__Acidimicrobiia;o__Acidimicrobiales;f__EB1017;g__                                 0     \n",
       "k__Bacteria;p__Actinobacteria;c__Acidimicrobiia;o__Acidimicrobiales;f__Microthrixaceae;g__Candidatus Microthrix   0     \n",
       "                                                                                                                  HMP         \n",
       "k__Archaea;p__Euryarchaeota;c__Methanobacteria;o__Methanobacteriales;f__Methanobacteriaceae;g__Methanobrevibacter 2.352123e-06\n",
       "k__Bacteria;p__;c__;o__;f__;g__                                                                                   1.411274e-06\n",
       "k__Bacteria;p__Acidobacteria;c__BPC102;o__B110;f__;g__                                                            2.352123e-07\n",
       "k__Bacteria;p__Actinobacteria;c__Acidimicrobiia;o__Acidimicrobiales;f__;g__                                       4.704246e-07\n",
       "k__Bacteria;p__Actinobacteria;c__Acidimicrobiia;o__Acidimicrobiales;f__EB1017;g__                                 2.352123e-07\n",
       "k__Bacteria;p__Actinobacteria;c__Acidimicrobiia;o__Acidimicrobiales;f__Microthrixaceae;g__Candidatus Microthrix   2.352123e-07"
      ]
     },
     "metadata": {},
     "output_type": "display_data"
    }
   ],
   "source": [
    "head(taxa)"
   ]
  },
  {
   "cell_type": "code",
   "execution_count": 67,
   "metadata": {},
   "outputs": [],
   "source": [
    "taxaStrings <- sapply(split,function(x) paste(x[1:6],collapse=\";\"))\n",
    "gtaxa <- taxa\n",
    "splitg <- strsplit(rownames(gtaxa),\";\")                               # Split and rejoin on lv7\n",
    "gtaxaStrings <- sapply(splitg,function(x) paste(x[1:6],collapse=\";\")) # level 7 is species, 8 is strain\n",
    "gtaxa <- rowsum(gtaxa,gtaxaStrings)                                    # Collapse by taxonomy name\n",
    "gtaxa <- sweep(gtaxa,2,colSums(gtaxa),'/')\n",
    "gtaxa <- gtaxa[order(rowMeans(gtaxa),decreasing=T),]"
   ]
  },
  {
   "cell_type": "code",
   "execution_count": 68,
   "metadata": {},
   "outputs": [
    {
     "data": {
      "text/html": [
       "<table>\n",
       "<thead><tr><th></th><th scope=col>Bacteroides</th><th scope=col>Prevotella</th><th scope=col></th><th scope=col>Faecalibacterium</th><th scope=col></th><th scope=col>Parabacteroides</th><th scope=col>Sutterella</th><th scope=col></th><th scope=col></th><th scope=col>Dialister</th></tr></thead>\n",
       "<tbody>\n",
       "\t<tr><th scope=row>Korean</th><td>0.4470093 </td><td>0.21071548</td><td>0.03865312</td><td>0.04758593</td><td>0.02457201</td><td>0.01225104</td><td>0.02894322</td><td>0.01189357</td><td>0.01442304</td><td>0.02114887</td></tr>\n",
       "\t<tr><th scope=row>HMP</th><td>0.4986539 </td><td>0.03531337</td><td>0.06139982</td><td>0.02883327</td><td>0.04797696</td><td>0.04792192</td><td>0.02385759</td><td>0.03669641</td><td>0.02815186</td><td>0.01330384</td></tr>\n",
       "</tbody>\n",
       "</table>\n"
      ],
      "text/latex": [
       "\\begin{tabular}{r|llllllllll}\n",
       "  & Bacteroides & Prevotella &  & Faecalibacterium &  & Parabacteroides & Sutterella &  &  & Dialister\\\\\n",
       "\\hline\n",
       "\tKorean & 0.4470093  & 0.21071548 & 0.03865312 & 0.04758593 & 0.02457201 & 0.01225104 & 0.02894322 & 0.01189357 & 0.01442304 & 0.02114887\\\\\n",
       "\tHMP & 0.4986539  & 0.03531337 & 0.06139982 & 0.02883327 & 0.04797696 & 0.04792192 & 0.02385759 & 0.03669641 & 0.02815186 & 0.01330384\\\\\n",
       "\\end{tabular}\n"
      ],
      "text/markdown": [
       "\n",
       "| <!--/--> | Bacteroides | Prevotella |  | Faecalibacterium |  | Parabacteroides | Sutterella |  |  | Dialister | \n",
       "|---|---|\n",
       "| Korean | 0.4470093  | 0.21071548 | 0.03865312 | 0.04758593 | 0.02457201 | 0.01225104 | 0.02894322 | 0.01189357 | 0.01442304 | 0.02114887 | \n",
       "| HMP | 0.4986539  | 0.03531337 | 0.06139982 | 0.02883327 | 0.04797696 | 0.04792192 | 0.02385759 | 0.03669641 | 0.02815186 | 0.01330384 | \n",
       "\n",
       "\n"
      ],
      "text/plain": [
       "       Bacteroides Prevotella            Faecalibacterium           \n",
       "Korean 0.4470093   0.21071548 0.03865312 0.04758593       0.02457201\n",
       "HMP    0.4986539   0.03531337 0.06139982 0.02883327       0.04797696\n",
       "       Parabacteroides Sutterella                       Dialister \n",
       "Korean 0.01225104      0.02894322 0.01189357 0.01442304 0.02114887\n",
       "HMP    0.04792192      0.02385759 0.03669641 0.02815186 0.01330384"
      ]
     },
     "metadata": {},
     "output_type": "display_data"
    },
    {
     "data": {
      "text/html": [
       "'matrix'"
      ],
      "text/latex": [
       "'matrix'"
      ],
      "text/markdown": [
       "'matrix'"
      ],
      "text/plain": [
       "[1] \"matrix\""
      ]
     },
     "metadata": {},
     "output_type": "display_data"
    }
   ],
   "source": [
    "\n",
    "filtered.taxa <- gtaxa * 100\n",
    "etc <- gtaxa[gtaxa$Korean >= 0.01 & gtaxa$HMP >= 0.01,]\n",
    "#filtered.taxa <- gtaxa * 100\n",
    "#traspose to add to map for later use\n",
    "etc <- t(etc)\n",
    "colnames(etc) <- gsub(\".*;g__?\", \"\", colnames(etc))\n",
    "colnames(etc) <- gsub(\"_\", \"\", colnames(etc))\n",
    "colnames(etc) <- gsub(\";.*\",\"\",colnames(etc))\n",
    "\n",
    "etc\n",
    "class(etc)"
   ]
  },
  {
   "cell_type": "code",
   "execution_count": 69,
   "metadata": {},
   "outputs": [
    {
     "data": {
      "text/html": [
       "<table>\n",
       "<thead><tr><th></th><th scope=col>Bacteroides</th><th scope=col>Prevotella</th><th scope=col>V3</th><th scope=col>Faecalibacterium</th><th scope=col>V5</th><th scope=col>Parabacteroides</th><th scope=col>Sutterella</th><th scope=col>V8</th><th scope=col>V9</th><th scope=col>Dialister</th><th scope=col>Others</th></tr></thead>\n",
       "<tbody>\n",
       "\t<tr><th scope=row>Korean</th><td>0.4470093 </td><td>0.21071548</td><td>0.03865312</td><td>0.04758593</td><td>0.02457201</td><td>0.01225104</td><td>0.02894322</td><td>0.01189357</td><td>0.01442304</td><td>0.02114887</td><td>0.1428044 </td></tr>\n",
       "\t<tr><th scope=row>HMP</th><td>0.4986539 </td><td>0.03531337</td><td>0.06139982</td><td>0.02883327</td><td>0.04797696</td><td>0.04792192</td><td>0.02385759</td><td>0.03669641</td><td>0.02815186</td><td>0.01330384</td><td>0.1778911 </td></tr>\n",
       "</tbody>\n",
       "</table>\n"
      ],
      "text/latex": [
       "\\begin{tabular}{r|lllllllllll}\n",
       "  & Bacteroides & Prevotella & V3 & Faecalibacterium & V5 & Parabacteroides & Sutterella & V8 & V9 & Dialister & Others\\\\\n",
       "\\hline\n",
       "\tKorean & 0.4470093  & 0.21071548 & 0.03865312 & 0.04758593 & 0.02457201 & 0.01225104 & 0.02894322 & 0.01189357 & 0.01442304 & 0.02114887 & 0.1428044 \\\\\n",
       "\tHMP & 0.4986539  & 0.03531337 & 0.06139982 & 0.02883327 & 0.04797696 & 0.04792192 & 0.02385759 & 0.03669641 & 0.02815186 & 0.01330384 & 0.1778911 \\\\\n",
       "\\end{tabular}\n"
      ],
      "text/markdown": [
       "\n",
       "| <!--/--> | Bacteroides | Prevotella | V3 | Faecalibacterium | V5 | Parabacteroides | Sutterella | V8 | V9 | Dialister | Others | \n",
       "|---|---|\n",
       "| Korean | 0.4470093  | 0.21071548 | 0.03865312 | 0.04758593 | 0.02457201 | 0.01225104 | 0.02894322 | 0.01189357 | 0.01442304 | 0.02114887 | 0.1428044  | \n",
       "| HMP | 0.4986539  | 0.03531337 | 0.06139982 | 0.02883327 | 0.04797696 | 0.04792192 | 0.02385759 | 0.03669641 | 0.02815186 | 0.01330384 | 0.1778911  | \n",
       "\n",
       "\n"
      ],
      "text/plain": [
       "       Bacteroides Prevotella V3         Faecalibacterium V5        \n",
       "Korean 0.4470093   0.21071548 0.03865312 0.04758593       0.02457201\n",
       "HMP    0.4986539   0.03531337 0.06139982 0.02883327       0.04797696\n",
       "       Parabacteroides Sutterella V8         V9         Dialister  Others   \n",
       "Korean 0.01225104      0.02894322 0.01189357 0.01442304 0.02114887 0.1428044\n",
       "HMP    0.04792192      0.02385759 0.03669641 0.02815186 0.01330384 0.1778911"
      ]
     },
     "metadata": {},
     "output_type": "display_data"
    }
   ],
   "source": [
    "etc <- as.data.frame(etc)\n",
    "etc$Others <-  1- rowSums(etc)\n",
    "etc"
   ]
  },
  {
   "cell_type": "code",
   "execution_count": 70,
   "metadata": {},
   "outputs": [
    {
     "data": {
      "text/html": [
       "<table>\n",
       "<thead><tr><th></th><th scope=col>Bacteroides</th><th scope=col>Dialister</th><th scope=col>Faecalibacterium</th><th scope=col>Others</th><th scope=col>Parabacteroides</th><th scope=col>Prevotella</th><th scope=col>Sutterella</th><th scope=col>V3</th><th scope=col>V5</th><th scope=col>V8</th><th scope=col>V9</th></tr></thead>\n",
       "<tbody>\n",
       "\t<tr><th scope=row>Korean</th><td>0.4470093 </td><td>0.02114887</td><td>0.04758593</td><td>0.1428044 </td><td>0.01225104</td><td>0.21071548</td><td>0.02894322</td><td>0.03865312</td><td>0.02457201</td><td>0.01189357</td><td>0.01442304</td></tr>\n",
       "\t<tr><th scope=row>HMP</th><td>0.4986539 </td><td>0.01330384</td><td>0.02883327</td><td>0.1778911 </td><td>0.04792192</td><td>0.03531337</td><td>0.02385759</td><td>0.06139982</td><td>0.04797696</td><td>0.03669641</td><td>0.02815186</td></tr>\n",
       "</tbody>\n",
       "</table>\n"
      ],
      "text/latex": [
       "\\begin{tabular}{r|lllllllllll}\n",
       "  & Bacteroides & Dialister & Faecalibacterium & Others & Parabacteroides & Prevotella & Sutterella & V3 & V5 & V8 & V9\\\\\n",
       "\\hline\n",
       "\tKorean & 0.4470093  & 0.02114887 & 0.04758593 & 0.1428044  & 0.01225104 & 0.21071548 & 0.02894322 & 0.03865312 & 0.02457201 & 0.01189357 & 0.01442304\\\\\n",
       "\tHMP & 0.4986539  & 0.01330384 & 0.02883327 & 0.1778911  & 0.04792192 & 0.03531337 & 0.02385759 & 0.06139982 & 0.04797696 & 0.03669641 & 0.02815186\\\\\n",
       "\\end{tabular}\n"
      ],
      "text/markdown": [
       "\n",
       "| <!--/--> | Bacteroides | Dialister | Faecalibacterium | Others | Parabacteroides | Prevotella | Sutterella | V3 | V5 | V8 | V9 | \n",
       "|---|---|\n",
       "| Korean | 0.4470093  | 0.02114887 | 0.04758593 | 0.1428044  | 0.01225104 | 0.21071548 | 0.02894322 | 0.03865312 | 0.02457201 | 0.01189357 | 0.01442304 | \n",
       "| HMP | 0.4986539  | 0.01330384 | 0.02883327 | 0.1778911  | 0.04792192 | 0.03531337 | 0.02385759 | 0.06139982 | 0.04797696 | 0.03669641 | 0.02815186 | \n",
       "\n",
       "\n"
      ],
      "text/plain": [
       "       Bacteroides Dialister  Faecalibacterium Others    Parabacteroides\n",
       "Korean 0.4470093   0.02114887 0.04758593       0.1428044 0.01225104     \n",
       "HMP    0.4986539   0.01330384 0.02883327       0.1778911 0.04792192     \n",
       "       Prevotella Sutterella V3         V5         V8         V9        \n",
       "Korean 0.21071548 0.02894322 0.03865312 0.02457201 0.01189357 0.01442304\n",
       "HMP    0.03531337 0.02385759 0.06139982 0.04797696 0.03669641 0.02815186"
      ]
     },
     "metadata": {},
     "output_type": "display_data"
    }
   ],
   "source": [
    "etc[, order(colnames(etc))]"
   ]
  },
  {
   "cell_type": "code",
   "execution_count": 71,
   "metadata": {},
   "outputs": [
    {
     "data": {
      "text/html": [
       "<ol class=list-inline>\n",
       "\t<li>'Bacteroides'</li>\n",
       "\t<li>'Prevotella'</li>\n",
       "\t<li>'V3'</li>\n",
       "\t<li>'Faecalibacterium'</li>\n",
       "\t<li>'V5'</li>\n",
       "\t<li>'Parabacteroides'</li>\n",
       "\t<li>'Sutterella'</li>\n",
       "\t<li>'V8'</li>\n",
       "\t<li>'V9'</li>\n",
       "\t<li>'Dialister'</li>\n",
       "\t<li>'Others'</li>\n",
       "</ol>\n"
      ],
      "text/latex": [
       "\\begin{enumerate*}\n",
       "\\item 'Bacteroides'\n",
       "\\item 'Prevotella'\n",
       "\\item 'V3'\n",
       "\\item 'Faecalibacterium'\n",
       "\\item 'V5'\n",
       "\\item 'Parabacteroides'\n",
       "\\item 'Sutterella'\n",
       "\\item 'V8'\n",
       "\\item 'V9'\n",
       "\\item 'Dialister'\n",
       "\\item 'Others'\n",
       "\\end{enumerate*}\n"
      ],
      "text/markdown": [
       "1. 'Bacteroides'\n",
       "2. 'Prevotella'\n",
       "3. 'V3'\n",
       "4. 'Faecalibacterium'\n",
       "5. 'V5'\n",
       "6. 'Parabacteroides'\n",
       "7. 'Sutterella'\n",
       "8. 'V8'\n",
       "9. 'V9'\n",
       "10. 'Dialister'\n",
       "11. 'Others'\n",
       "\n",
       "\n"
      ],
      "text/plain": [
       " [1] \"Bacteroides\"      \"Prevotella\"       \"V3\"               \"Faecalibacterium\"\n",
       " [5] \"V5\"               \"Parabacteroides\"  \"Sutterella\"       \"V8\"              \n",
       " [9] \"V9\"               \"Dialister\"        \"Others\"          "
      ]
     },
     "metadata": {},
     "output_type": "display_data"
    },
    {
     "data": {
      "text/html": [
       "<table>\n",
       "<thead><tr><th></th><th scope=col>Bacteroides</th><th scope=col>Prevotella</th><th scope=col>V3</th><th scope=col>Faecalibacterium</th><th scope=col>V5</th><th scope=col>Parabacteroides</th><th scope=col>Sutterella</th><th scope=col>V8</th><th scope=col>V9</th><th scope=col>Dialister</th><th scope=col>Others</th></tr></thead>\n",
       "<tbody>\n",
       "\t<tr><th scope=row>Korean</th><td>0.4470093 </td><td>0.21071548</td><td>0.03865312</td><td>0.04758593</td><td>0.02457201</td><td>0.01225104</td><td>0.02894322</td><td>0.01189357</td><td>0.01442304</td><td>0.02114887</td><td>0.1428044 </td></tr>\n",
       "\t<tr><th scope=row>HMP</th><td>0.4986539 </td><td>0.03531337</td><td>0.06139982</td><td>0.02883327</td><td>0.04797696</td><td>0.04792192</td><td>0.02385759</td><td>0.03669641</td><td>0.02815186</td><td>0.01330384</td><td>0.1778911 </td></tr>\n",
       "</tbody>\n",
       "</table>\n"
      ],
      "text/latex": [
       "\\begin{tabular}{r|lllllllllll}\n",
       "  & Bacteroides & Prevotella & V3 & Faecalibacterium & V5 & Parabacteroides & Sutterella & V8 & V9 & Dialister & Others\\\\\n",
       "\\hline\n",
       "\tKorean & 0.4470093  & 0.21071548 & 0.03865312 & 0.04758593 & 0.02457201 & 0.01225104 & 0.02894322 & 0.01189357 & 0.01442304 & 0.02114887 & 0.1428044 \\\\\n",
       "\tHMP & 0.4986539  & 0.03531337 & 0.06139982 & 0.02883327 & 0.04797696 & 0.04792192 & 0.02385759 & 0.03669641 & 0.02815186 & 0.01330384 & 0.1778911 \\\\\n",
       "\\end{tabular}\n"
      ],
      "text/markdown": [
       "\n",
       "| <!--/--> | Bacteroides | Prevotella | V3 | Faecalibacterium | V5 | Parabacteroides | Sutterella | V8 | V9 | Dialister | Others | \n",
       "|---|---|\n",
       "| Korean | 0.4470093  | 0.21071548 | 0.03865312 | 0.04758593 | 0.02457201 | 0.01225104 | 0.02894322 | 0.01189357 | 0.01442304 | 0.02114887 | 0.1428044  | \n",
       "| HMP | 0.4986539  | 0.03531337 | 0.06139982 | 0.02883327 | 0.04797696 | 0.04792192 | 0.02385759 | 0.03669641 | 0.02815186 | 0.01330384 | 0.1778911  | \n",
       "\n",
       "\n"
      ],
      "text/plain": [
       "       Bacteroides Prevotella V3         Faecalibacterium V5        \n",
       "Korean 0.4470093   0.21071548 0.03865312 0.04758593       0.02457201\n",
       "HMP    0.4986539   0.03531337 0.06139982 0.02883327       0.04797696\n",
       "       Parabacteroides Sutterella V8         V9         Dialister  Others   \n",
       "Korean 0.01225104      0.02894322 0.01189357 0.01442304 0.02114887 0.1428044\n",
       "HMP    0.04792192      0.02385759 0.03669641 0.02815186 0.01330384 0.1778911"
      ]
     },
     "metadata": {},
     "output_type": "display_data"
    }
   ],
   "source": [
    "tmp <- etc[, order(colnames(etc))]\n",
    "colnames(etc)\n",
    "tmp <- t(etc)\n",
    "head(etc)"
   ]
  },
  {
   "cell_type": "code",
   "execution_count": 72,
   "metadata": {},
   "outputs": [
    {
     "data": {
      "text/html": [
       "<table>\n",
       "<thead><tr><th scope=col>Genus</th><th scope=col>Sample</th><th scope=col>Proportion</th></tr></thead>\n",
       "<tbody>\n",
       "\t<tr><td>Bacteroides     </td><td>Korean          </td><td>0.44700932      </td></tr>\n",
       "\t<tr><td>Prevotella      </td><td>Korean          </td><td>0.21071548      </td></tr>\n",
       "\t<tr><td>V3              </td><td>Korean          </td><td>0.03865312      </td></tr>\n",
       "\t<tr><td>Faecalibacterium</td><td>Korean          </td><td>0.04758593      </td></tr>\n",
       "\t<tr><td>V5              </td><td>Korean          </td><td>0.02457201      </td></tr>\n",
       "\t<tr><td>Parabacteroides </td><td>Korean          </td><td>0.01225104      </td></tr>\n",
       "</tbody>\n",
       "</table>\n"
      ],
      "text/latex": [
       "\\begin{tabular}{r|lll}\n",
       " Genus & Sample & Proportion\\\\\n",
       "\\hline\n",
       "\t Bacteroides      & Korean           & 0.44700932      \\\\\n",
       "\t Prevotella       & Korean           & 0.21071548      \\\\\n",
       "\t V3               & Korean           & 0.03865312      \\\\\n",
       "\t Faecalibacterium & Korean           & 0.04758593      \\\\\n",
       "\t V5               & Korean           & 0.02457201      \\\\\n",
       "\t Parabacteroides  & Korean           & 0.01225104      \\\\\n",
       "\\end{tabular}\n"
      ],
      "text/markdown": [
       "\n",
       "Genus | Sample | Proportion | \n",
       "|---|---|---|---|---|---|\n",
       "| Bacteroides      | Korean           | 0.44700932       | \n",
       "| Prevotella       | Korean           | 0.21071548       | \n",
       "| V3               | Korean           | 0.03865312       | \n",
       "| Faecalibacterium | Korean           | 0.04758593       | \n",
       "| V5               | Korean           | 0.02457201       | \n",
       "| Parabacteroides  | Korean           | 0.01225104       | \n",
       "\n",
       "\n"
      ],
      "text/plain": [
       "  Genus            Sample Proportion\n",
       "1 Bacteroides      Korean 0.44700932\n",
       "2 Prevotella       Korean 0.21071548\n",
       "3 V3               Korean 0.03865312\n",
       "4 Faecalibacterium Korean 0.04758593\n",
       "5 V5               Korean 0.02457201\n",
       "6 Parabacteroides  Korean 0.01225104"
      ]
     },
     "metadata": {},
     "output_type": "display_data"
    }
   ],
   "source": [
    "df <- melt(tmp, varnames=c(\"Genus\", \"Sample\"), value.name=\"Proportion\")\n",
    "head(df)"
   ]
  },
  {
   "cell_type": "code",
   "execution_count": 73,
   "metadata": {},
   "outputs": [
    {
     "data": {
      "text/html": [
       "1"
      ],
      "text/latex": [
       "1"
      ],
      "text/markdown": [
       "1"
      ],
      "text/plain": [
       "[1] 1"
      ]
     },
     "metadata": {},
     "output_type": "display_data"
    },
    {
     "data": {
      "text/html": [
       "1"
      ],
      "text/latex": [
       "1"
      ],
      "text/markdown": [
       "1"
      ],
      "text/plain": [
       "[1] 1"
      ]
     },
     "metadata": {},
     "output_type": "display_data"
    }
   ],
   "source": [
    "df %>% filter(Sample==\"Korean\") %>% select(Proportion) %>% sum\n",
    "df %>% filter(Sample==\"HMP\") %>% select(Proportion) %>% sum"
   ]
  },
  {
   "cell_type": "code",
   "execution_count": 74,
   "metadata": {},
   "outputs": [],
   "source": [
    "p <- ggplot(df) + geom_bar(aes(x=Sample, y=Proportion, fill=Genus), stat = \"identity\")"
   ]
  },
  {
   "cell_type": "code",
   "execution_count": 75,
   "metadata": {},
   "outputs": [
    {
     "data": {},
     "metadata": {},
     "output_type": "display_data"
    },
    {
     "data": {
      "image/png": "[encoded data removed]",
      "text/plain": [
       "plot without title"
      ]
     },
     "metadata": {},
     "output_type": "display_data"
    }
   ],
   "source": [
    "p"
   ]
  },
  {
   "cell_type": "code",
   "execution_count": 76,
   "metadata": {},
   "outputs": [
    {
     "data": {
      "text/html": [
       "<table>\n",
       "<thead><tr><th></th><th scope=col>Korean</th><th scope=col>HMP</th></tr></thead>\n",
       "<tbody>\n",
       "\t<tr><th scope=row>Bacteroides</th><td>0.44700932</td><td>0.49865388</td></tr>\n",
       "\t<tr><th scope=row>Prevotella</th><td>0.21071548</td><td>0.03531337</td></tr>\n",
       "\t<tr><th scope=row>V3</th><td>0.03865312</td><td>0.06139982</td></tr>\n",
       "\t<tr><th scope=row>Faecalibacterium</th><td>0.04758593</td><td>0.02883327</td></tr>\n",
       "\t<tr><th scope=row>V5</th><td>0.02457201</td><td>0.04797696</td></tr>\n",
       "\t<tr><th scope=row>Parabacteroides</th><td>0.01225104</td><td>0.04792192</td></tr>\n",
       "\t<tr><th scope=row>Sutterella</th><td>0.02894322</td><td>0.02385759</td></tr>\n",
       "\t<tr><th scope=row>V8</th><td>0.01189357</td><td>0.03669641</td></tr>\n",
       "\t<tr><th scope=row>V9</th><td>0.01442304</td><td>0.02815186</td></tr>\n",
       "\t<tr><th scope=row>Dialister</th><td>0.02114887</td><td>0.01330384</td></tr>\n",
       "\t<tr><th scope=row>Others</th><td>0.14280441</td><td>0.17789108</td></tr>\n",
       "</tbody>\n",
       "</table>\n"
      ],
      "text/latex": [
       "\\begin{tabular}{r|ll}\n",
       "  & Korean & HMP\\\\\n",
       "\\hline\n",
       "\tBacteroides & 0.44700932 & 0.49865388\\\\\n",
       "\tPrevotella & 0.21071548 & 0.03531337\\\\\n",
       "\tV3 & 0.03865312 & 0.06139982\\\\\n",
       "\tFaecalibacterium & 0.04758593 & 0.02883327\\\\\n",
       "\tV5 & 0.02457201 & 0.04797696\\\\\n",
       "\tParabacteroides & 0.01225104 & 0.04792192\\\\\n",
       "\tSutterella & 0.02894322 & 0.02385759\\\\\n",
       "\tV8 & 0.01189357 & 0.03669641\\\\\n",
       "\tV9 & 0.01442304 & 0.02815186\\\\\n",
       "\tDialister & 0.02114887 & 0.01330384\\\\\n",
       "\tOthers & 0.14280441 & 0.17789108\\\\\n",
       "\\end{tabular}\n"
      ],
      "text/markdown": [
       "\n",
       "| <!--/--> | Korean | HMP | \n",
       "|---|---|---|---|---|---|---|---|---|---|---|\n",
       "| Bacteroides | 0.44700932 | 0.49865388 | \n",
       "| Prevotella | 0.21071548 | 0.03531337 | \n",
       "| V3 | 0.03865312 | 0.06139982 | \n",
       "| Faecalibacterium | 0.04758593 | 0.02883327 | \n",
       "| V5 | 0.02457201 | 0.04797696 | \n",
       "| Parabacteroides | 0.01225104 | 0.04792192 | \n",
       "| Sutterella | 0.02894322 | 0.02385759 | \n",
       "| V8 | 0.01189357 | 0.03669641 | \n",
       "| V9 | 0.01442304 | 0.02815186 | \n",
       "| Dialister | 0.02114887 | 0.01330384 | \n",
       "| Others | 0.14280441 | 0.17789108 | \n",
       "\n",
       "\n"
      ],
      "text/plain": [
       "                 Korean     HMP       \n",
       "Bacteroides      0.44700932 0.49865388\n",
       "Prevotella       0.21071548 0.03531337\n",
       "V3               0.03865312 0.06139982\n",
       "Faecalibacterium 0.04758593 0.02883327\n",
       "V5               0.02457201 0.04797696\n",
       "Parabacteroides  0.01225104 0.04792192\n",
       "Sutterella       0.02894322 0.02385759\n",
       "V8               0.01189357 0.03669641\n",
       "V9               0.01442304 0.02815186\n",
       "Dialister        0.02114887 0.01330384\n",
       "Others           0.14280441 0.17789108"
      ]
     },
     "metadata": {},
     "output_type": "display_data"
    }
   ],
   "source": [
    "tmp"
   ]
  },
  {
   "cell_type": "code",
   "execution_count": 77,
   "metadata": {},
   "outputs": [
    {
     "data": {
      "text/html": [
       "1"
      ],
      "text/latex": [
       "1"
      ],
      "text/markdown": [
       "1"
      ],
      "text/plain": [
       "[1] 1"
      ]
     },
     "metadata": {},
     "output_type": "display_data"
    }
   ],
   "source": [
    "as.data.frame(tmp) %>% select(Korean) %>% sum"
   ]
  },
  {
   "cell_type": "code",
   "execution_count": 78,
   "metadata": {},
   "outputs": [
    {
     "data": {
      "text/html": [
       "1"
      ],
      "text/latex": [
       "1"
      ],
      "text/markdown": [
       "1"
      ],
      "text/plain": [
       "[1] 1"
      ]
     },
     "metadata": {},
     "output_type": "display_data"
    }
   ],
   "source": [
    "as.data.frame(tmp) %>% select(HMP) %>% sum"
   ]
  },
  {
   "cell_type": "code",
   "execution_count": 92,
   "metadata": {},
   "outputs": [
    {
     "data": {
      "text/html": [
       "<table>\n",
       "<thead><tr><th></th><th scope=col>Korean</th><th scope=col>HMP</th></tr></thead>\n",
       "<tbody>\n",
       "\t<tr><th scope=row>Bacteroides</th><td>0.44700932</td><td>0.49865388</td></tr>\n",
       "\t<tr><th scope=row>Prevotella</th><td>0.21071548</td><td>0.03531337</td></tr>\n",
       "\t<tr><th scope=row>Others1</th><td>0.03865312</td><td>0.06139982</td></tr>\n",
       "\t<tr><th scope=row>Faecalibacterium</th><td>0.04758593</td><td>0.02883327</td></tr>\n",
       "\t<tr><th scope=row>Others2</th><td>0.02457201</td><td>0.04797696</td></tr>\n",
       "\t<tr><th scope=row>Parabacteroides</th><td>0.01225104</td><td>0.04792192</td></tr>\n",
       "\t<tr><th scope=row>Sutterella</th><td>0.02894322</td><td>0.02385759</td></tr>\n",
       "\t<tr><th scope=row>Others3</th><td>0.01189357</td><td>0.03669641</td></tr>\n",
       "\t<tr><th scope=row>Others4</th><td>0.01442304</td><td>0.02815186</td></tr>\n",
       "\t<tr><th scope=row>Dialister</th><td>0.02114887</td><td>0.01330384</td></tr>\n",
       "\t<tr><th scope=row>Others5</th><td>0.14280441</td><td>0.17789108</td></tr>\n",
       "</tbody>\n",
       "</table>\n"
      ],
      "text/latex": [
       "\\begin{tabular}{r|ll}\n",
       "  & Korean & HMP\\\\\n",
       "\\hline\n",
       "\tBacteroides & 0.44700932 & 0.49865388\\\\\n",
       "\tPrevotella & 0.21071548 & 0.03531337\\\\\n",
       "\tOthers1 & 0.03865312 & 0.06139982\\\\\n",
       "\tFaecalibacterium & 0.04758593 & 0.02883327\\\\\n",
       "\tOthers2 & 0.02457201 & 0.04797696\\\\\n",
       "\tParabacteroides & 0.01225104 & 0.04792192\\\\\n",
       "\tSutterella & 0.02894322 & 0.02385759\\\\\n",
       "\tOthers3 & 0.01189357 & 0.03669641\\\\\n",
       "\tOthers4 & 0.01442304 & 0.02815186\\\\\n",
       "\tDialister & 0.02114887 & 0.01330384\\\\\n",
       "\tOthers5 & 0.14280441 & 0.17789108\\\\\n",
       "\\end{tabular}\n"
      ],
      "text/markdown": [
       "\n",
       "| <!--/--> | Korean | HMP | \n",
       "|---|---|---|---|---|---|---|---|---|---|---|\n",
       "| Bacteroides | 0.44700932 | 0.49865388 | \n",
       "| Prevotella | 0.21071548 | 0.03531337 | \n",
       "| Others1 | 0.03865312 | 0.06139982 | \n",
       "| Faecalibacterium | 0.04758593 | 0.02883327 | \n",
       "| Others2 | 0.02457201 | 0.04797696 | \n",
       "| Parabacteroides | 0.01225104 | 0.04792192 | \n",
       "| Sutterella | 0.02894322 | 0.02385759 | \n",
       "| Others3 | 0.01189357 | 0.03669641 | \n",
       "| Others4 | 0.01442304 | 0.02815186 | \n",
       "| Dialister | 0.02114887 | 0.01330384 | \n",
       "| Others5 | 0.14280441 | 0.17789108 | \n",
       "\n",
       "\n"
      ],
      "text/plain": [
       "                 Korean     HMP       \n",
       "Bacteroides      0.44700932 0.49865388\n",
       "Prevotella       0.21071548 0.03531337\n",
       "Others1          0.03865312 0.06139982\n",
       "Faecalibacterium 0.04758593 0.02883327\n",
       "Others2          0.02457201 0.04797696\n",
       "Parabacteroides  0.01225104 0.04792192\n",
       "Sutterella       0.02894322 0.02385759\n",
       "Others3          0.01189357 0.03669641\n",
       "Others4          0.01442304 0.02815186\n",
       "Dialister        0.02114887 0.01330384\n",
       "Others5          0.14280441 0.17789108"
      ]
     },
     "metadata": {},
     "output_type": "display_data"
    }
   ],
   "source": [
    "sth <- as.data.frame(tmp)\n",
    "sth"
   ]
  },
  {
   "cell_type": "code",
   "execution_count": 18,
   "metadata": {},
   "outputs": [
    {
     "name": "stdout",
     "output_type": "stream",
     "text": [
      "Observations: 10\n",
      "Variables: 2\n",
      "$ Korean <dbl> 0.44700932, 0.21071548, 0.03865312, 0.04758593, 0.02457201, ...\n",
      "$ HMP    <dbl> 0.49865388, 0.03531337, 0.06139982, 0.02883327, 0.04797696, ...\n"
     ]
    }
   ],
   "source": [
    "glimpse(sth)"
   ]
  },
  {
   "cell_type": "code",
   "execution_count": 80,
   "metadata": {},
   "outputs": [
    {
     "data": {
      "text/html": [
       "<table>\n",
       "<thead><tr><th></th><th scope=col>Korean</th><th scope=col>HMP</th></tr></thead>\n",
       "<tbody>\n",
       "\t<tr><th scope=row>Bacteroides</th><td>0.44700932</td><td>0.49865388</td></tr>\n",
       "\t<tr><th scope=row>Prevotella</th><td>0.21071548</td><td>0.03531337</td></tr>\n",
       "\t<tr><th scope=row>V3</th><td>0.03865312</td><td>0.06139982</td></tr>\n",
       "\t<tr><th scope=row>Faecalibacterium</th><td>0.04758593</td><td>0.02883327</td></tr>\n",
       "\t<tr><th scope=row>V5</th><td>0.02457201</td><td>0.04797696</td></tr>\n",
       "\t<tr><th scope=row>Parabacteroides</th><td>0.01225104</td><td>0.04792192</td></tr>\n",
       "</tbody>\n",
       "</table>\n"
      ],
      "text/latex": [
       "\\begin{tabular}{r|ll}\n",
       "  & Korean & HMP\\\\\n",
       "\\hline\n",
       "\tBacteroides & 0.44700932 & 0.49865388\\\\\n",
       "\tPrevotella & 0.21071548 & 0.03531337\\\\\n",
       "\tV3 & 0.03865312 & 0.06139982\\\\\n",
       "\tFaecalibacterium & 0.04758593 & 0.02883327\\\\\n",
       "\tV5 & 0.02457201 & 0.04797696\\\\\n",
       "\tParabacteroides & 0.01225104 & 0.04792192\\\\\n",
       "\\end{tabular}\n"
      ],
      "text/markdown": [
       "\n",
       "| <!--/--> | Korean | HMP | \n",
       "|---|---|---|---|---|---|\n",
       "| Bacteroides | 0.44700932 | 0.49865388 | \n",
       "| Prevotella | 0.21071548 | 0.03531337 | \n",
       "| V3 | 0.03865312 | 0.06139982 | \n",
       "| Faecalibacterium | 0.04758593 | 0.02883327 | \n",
       "| V5 | 0.02457201 | 0.04797696 | \n",
       "| Parabacteroides | 0.01225104 | 0.04792192 | \n",
       "\n",
       "\n"
      ],
      "text/plain": [
       "                 Korean     HMP       \n",
       "Bacteroides      0.44700932 0.49865388\n",
       "Prevotella       0.21071548 0.03531337\n",
       "V3               0.03865312 0.06139982\n",
       "Faecalibacterium 0.04758593 0.02883327\n",
       "V5               0.02457201 0.04797696\n",
       "Parabacteroides  0.01225104 0.04792192"
      ]
     },
     "metadata": {},
     "output_type": "display_data"
    }
   ],
   "source": [
    "head(tmp)"
   ]
  },
  {
   "cell_type": "code",
   "execution_count": 81,
   "metadata": {},
   "outputs": [
    {
     "data": {
      "text/html": [
       "<ol class=list-inline>\n",
       "\t<li>'Bacteroides'</li>\n",
       "\t<li>'Prevotella'</li>\n",
       "\t<li>'V3'</li>\n",
       "\t<li>'Faecalibacterium'</li>\n",
       "\t<li>'V5'</li>\n",
       "\t<li>'Parabacteroides'</li>\n",
       "\t<li>'Sutterella'</li>\n",
       "\t<li>'V8'</li>\n",
       "\t<li>'V9'</li>\n",
       "\t<li>'Dialister'</li>\n",
       "\t<li>'Others'</li>\n",
       "</ol>\n"
      ],
      "text/latex": [
       "\\begin{enumerate*}\n",
       "\\item 'Bacteroides'\n",
       "\\item 'Prevotella'\n",
       "\\item 'V3'\n",
       "\\item 'Faecalibacterium'\n",
       "\\item 'V5'\n",
       "\\item 'Parabacteroides'\n",
       "\\item 'Sutterella'\n",
       "\\item 'V8'\n",
       "\\item 'V9'\n",
       "\\item 'Dialister'\n",
       "\\item 'Others'\n",
       "\\end{enumerate*}\n"
      ],
      "text/markdown": [
       "1. 'Bacteroides'\n",
       "2. 'Prevotella'\n",
       "3. 'V3'\n",
       "4. 'Faecalibacterium'\n",
       "5. 'V5'\n",
       "6. 'Parabacteroides'\n",
       "7. 'Sutterella'\n",
       "8. 'V8'\n",
       "9. 'V9'\n",
       "10. 'Dialister'\n",
       "11. 'Others'\n",
       "\n",
       "\n"
      ],
      "text/plain": [
       " [1] \"Bacteroides\"      \"Prevotella\"       \"V3\"               \"Faecalibacterium\"\n",
       " [5] \"V5\"               \"Parabacteroides\"  \"Sutterella\"       \"V8\"              \n",
       " [9] \"V9\"               \"Dialister\"        \"Others\"          "
      ]
     },
     "metadata": {},
     "output_type": "display_data"
    }
   ],
   "source": [
    "row.names(tmp)"
   ]
  },
  {
   "cell_type": "code",
   "execution_count": 21,
   "metadata": {},
   "outputs": [
    {
     "data": {
      "text/html": [],
      "text/latex": [],
      "text/markdown": [],
      "text/plain": [
       "character(0)"
      ]
     },
     "metadata": {},
     "output_type": "display_data"
    }
   ],
   "source": [
    "row.names.data.frame(tmp)"
   ]
  },
  {
   "cell_type": "code",
   "execution_count": 82,
   "metadata": {},
   "outputs": [
    {
     "data": {
      "text/html": [
       "<table>\n",
       "<thead><tr><th></th><th scope=col>Korean</th><th scope=col>HMP</th></tr></thead>\n",
       "<tbody>\n",
       "\t<tr><th scope=row>Bacteroides</th><td>0.44700932</td><td>0.49865388</td></tr>\n",
       "\t<tr><th scope=row>Prevotella</th><td>0.21071548</td><td>0.03531337</td></tr>\n",
       "\t<tr><th scope=row>Others1</th><td>0.03865312</td><td>0.06139982</td></tr>\n",
       "\t<tr><th scope=row>Faecalibacterium</th><td>0.04758593</td><td>0.02883327</td></tr>\n",
       "\t<tr><th scope=row>Others2</th><td>0.02457201</td><td>0.04797696</td></tr>\n",
       "\t<tr><th scope=row>Parabacteroides</th><td>0.01225104</td><td>0.04792192</td></tr>\n",
       "\t<tr><th scope=row>Sutterella</th><td>0.02894322</td><td>0.02385759</td></tr>\n",
       "\t<tr><th scope=row>Others3</th><td>0.01189357</td><td>0.03669641</td></tr>\n",
       "\t<tr><th scope=row>Others4</th><td>0.01442304</td><td>0.02815186</td></tr>\n",
       "\t<tr><th scope=row>Dialister</th><td>0.02114887</td><td>0.01330384</td></tr>\n",
       "\t<tr><th scope=row>Others5</th><td>0.14280441</td><td>0.17789108</td></tr>\n",
       "</tbody>\n",
       "</table>\n"
      ],
      "text/latex": [
       "\\begin{tabular}{r|ll}\n",
       "  & Korean & HMP\\\\\n",
       "\\hline\n",
       "\tBacteroides & 0.44700932 & 0.49865388\\\\\n",
       "\tPrevotella & 0.21071548 & 0.03531337\\\\\n",
       "\tOthers1 & 0.03865312 & 0.06139982\\\\\n",
       "\tFaecalibacterium & 0.04758593 & 0.02883327\\\\\n",
       "\tOthers2 & 0.02457201 & 0.04797696\\\\\n",
       "\tParabacteroides & 0.01225104 & 0.04792192\\\\\n",
       "\tSutterella & 0.02894322 & 0.02385759\\\\\n",
       "\tOthers3 & 0.01189357 & 0.03669641\\\\\n",
       "\tOthers4 & 0.01442304 & 0.02815186\\\\\n",
       "\tDialister & 0.02114887 & 0.01330384\\\\\n",
       "\tOthers5 & 0.14280441 & 0.17789108\\\\\n",
       "\\end{tabular}\n"
      ],
      "text/markdown": [
       "\n",
       "| <!--/--> | Korean | HMP | \n",
       "|---|---|---|---|---|---|---|---|---|---|---|\n",
       "| Bacteroides | 0.44700932 | 0.49865388 | \n",
       "| Prevotella | 0.21071548 | 0.03531337 | \n",
       "| Others1 | 0.03865312 | 0.06139982 | \n",
       "| Faecalibacterium | 0.04758593 | 0.02883327 | \n",
       "| Others2 | 0.02457201 | 0.04797696 | \n",
       "| Parabacteroides | 0.01225104 | 0.04792192 | \n",
       "| Sutterella | 0.02894322 | 0.02385759 | \n",
       "| Others3 | 0.01189357 | 0.03669641 | \n",
       "| Others4 | 0.01442304 | 0.02815186 | \n",
       "| Dialister | 0.02114887 | 0.01330384 | \n",
       "| Others5 | 0.14280441 | 0.17789108 | \n",
       "\n",
       "\n"
      ],
      "text/plain": [
       "                 Korean     HMP       \n",
       "Bacteroides      0.44700932 0.49865388\n",
       "Prevotella       0.21071548 0.03531337\n",
       "Others1          0.03865312 0.06139982\n",
       "Faecalibacterium 0.04758593 0.02883327\n",
       "Others2          0.02457201 0.04797696\n",
       "Parabacteroides  0.01225104 0.04792192\n",
       "Sutterella       0.02894322 0.02385759\n",
       "Others3          0.01189357 0.03669641\n",
       "Others4          0.01442304 0.02815186\n",
       "Dialister        0.02114887 0.01330384\n",
       "Others5          0.14280441 0.17789108"
      ]
     },
     "metadata": {},
     "output_type": "display_data"
    }
   ],
   "source": [
    "row.names(tmp) <- c('Bacteroides','Prevotella', 'Others1', 'Faecalibacterium', 'Others2', 'Parabacteroides', 'Sutterella', 'Others3', 'Others4', 'Dialister', \"Others5\" )\n",
    "tmp"
   ]
  },
  {
   "cell_type": "code",
   "execution_count": 83,
   "metadata": {},
   "outputs": [
    {
     "ename": "ERROR",
     "evalue": "Error in tmp[c(\"etc1\", \"etc2\", \"etc3\", \"etc4\"), ]: 첨자의 허용 범위를 벗어났습니다\n",
     "output_type": "error",
     "traceback": [
      "Error in tmp[c(\"etc1\", \"etc2\", \"etc3\", \"etc4\"), ]: 첨자의 허용 범위를 벗어났습니다\nTraceback:\n"
     ]
    }
   ],
   "source": [
    "tmp[c(\"etc1\", \"etc2\", \"etc3\", \"etc4\"), ]"
   ]
  },
  {
   "cell_type": "code",
   "execution_count": 84,
   "metadata": {},
   "outputs": [],
   "source": [
    "korea.others <- 1- as.data.frame(tmp) %>% select(Korean) %>% sum"
   ]
  },
  {
   "cell_type": "code",
   "execution_count": 85,
   "metadata": {},
   "outputs": [],
   "source": [
    "hmp.others <- 1- as.data.frame(tmp) %>% select(HMP) %>% sum"
   ]
  },
  {
   "cell_type": "code",
   "execution_count": 87,
   "metadata": {},
   "outputs": [
    {
     "data": {
      "text/html": [
       "<table>\n",
       "<thead><tr><th></th><th scope=col>Korean</th><th scope=col>HMP</th></tr></thead>\n",
       "<tbody>\n",
       "\t<tr><th scope=row>Others1</th><td>0.03865312</td><td>0.06139982</td></tr>\n",
       "\t<tr><th scope=row>Others2</th><td>0.02457201</td><td>0.04797696</td></tr>\n",
       "\t<tr><th scope=row>Others3</th><td>0.01189357</td><td>0.03669641</td></tr>\n",
       "\t<tr><th scope=row>Others4</th><td>0.01442304</td><td>0.02815186</td></tr>\n",
       "\t<tr><th scope=row>Others5</th><td>0.14280441</td><td>0.17789108</td></tr>\n",
       "</tbody>\n",
       "</table>\n"
      ],
      "text/latex": [
       "\\begin{tabular}{r|ll}\n",
       "  & Korean & HMP\\\\\n",
       "\\hline\n",
       "\tOthers1 & 0.03865312 & 0.06139982\\\\\n",
       "\tOthers2 & 0.02457201 & 0.04797696\\\\\n",
       "\tOthers3 & 0.01189357 & 0.03669641\\\\\n",
       "\tOthers4 & 0.01442304 & 0.02815186\\\\\n",
       "\tOthers5 & 0.14280441 & 0.17789108\\\\\n",
       "\\end{tabular}\n"
      ],
      "text/markdown": [
       "\n",
       "| <!--/--> | Korean | HMP | \n",
       "|---|---|---|---|---|\n",
       "| Others1 | 0.03865312 | 0.06139982 | \n",
       "| Others2 | 0.02457201 | 0.04797696 | \n",
       "| Others3 | 0.01189357 | 0.03669641 | \n",
       "| Others4 | 0.01442304 | 0.02815186 | \n",
       "| Others5 | 0.14280441 | 0.17789108 | \n",
       "\n",
       "\n"
      ],
      "text/plain": [
       "        Korean     HMP       \n",
       "Others1 0.03865312 0.06139982\n",
       "Others2 0.02457201 0.04797696\n",
       "Others3 0.01189357 0.03669641\n",
       "Others4 0.01442304 0.02815186\n",
       "Others5 0.14280441 0.17789108"
      ]
     },
     "metadata": {},
     "output_type": "display_data"
    }
   ],
   "source": [
    "tmp.etc <- tmp[c(\"Others1\", \"Others2\", \"Others3\", \"Others4\", \"Others5\"), ]\n",
    "head(tmp.etc)"
   ]
  },
  {
   "cell_type": "code",
   "execution_count": 88,
   "metadata": {},
   "outputs": [],
   "source": [
    "tmp <- as.data.frame(tmp)"
   ]
  },
  {
   "cell_type": "code",
   "execution_count": 89,
   "metadata": {},
   "outputs": [],
   "source": [
    "korea.etc.final <- sum(tmp$Korean ) + korea.etc"
   ]
  },
  {
   "cell_type": "code",
   "execution_count": 90,
   "metadata": {},
   "outputs": [],
   "source": [
    "hmp.etc.final <- sum(tmp$HMP ) + hmp.etc"
   ]
  },
  {
   "cell_type": "code",
   "execution_count": 91,
   "metadata": {},
   "outputs": [
    {
     "data": {
      "text/html": [
       "<table>\n",
       "<thead><tr><th></th><th scope=col>Korean</th><th scope=col>HMP</th></tr></thead>\n",
       "<tbody>\n",
       "\t<tr><th scope=row>Bacteroides</th><td>0.44700932</td><td>0.49865388</td></tr>\n",
       "\t<tr><th scope=row>Prevotella</th><td>0.21071548</td><td>0.03531337</td></tr>\n",
       "\t<tr><th scope=row>Others1</th><td>0.03865312</td><td>0.06139982</td></tr>\n",
       "\t<tr><th scope=row>Faecalibacterium</th><td>0.04758593</td><td>0.02883327</td></tr>\n",
       "\t<tr><th scope=row>Others2</th><td>0.02457201</td><td>0.04797696</td></tr>\n",
       "\t<tr><th scope=row>Parabacteroides</th><td>0.01225104</td><td>0.04792192</td></tr>\n",
       "\t<tr><th scope=row>Sutterella</th><td>0.02894322</td><td>0.02385759</td></tr>\n",
       "\t<tr><th scope=row>Others3</th><td>0.01189357</td><td>0.03669641</td></tr>\n",
       "\t<tr><th scope=row>Others4</th><td>0.01442304</td><td>0.02815186</td></tr>\n",
       "\t<tr><th scope=row>Dialister</th><td>0.02114887</td><td>0.01330384</td></tr>\n",
       "\t<tr><th scope=row>Others5</th><td>0.14280441</td><td>0.17789108</td></tr>\n",
       "</tbody>\n",
       "</table>\n"
      ],
      "text/latex": [
       "\\begin{tabular}{r|ll}\n",
       "  & Korean & HMP\\\\\n",
       "\\hline\n",
       "\tBacteroides & 0.44700932 & 0.49865388\\\\\n",
       "\tPrevotella & 0.21071548 & 0.03531337\\\\\n",
       "\tOthers1 & 0.03865312 & 0.06139982\\\\\n",
       "\tFaecalibacterium & 0.04758593 & 0.02883327\\\\\n",
       "\tOthers2 & 0.02457201 & 0.04797696\\\\\n",
       "\tParabacteroides & 0.01225104 & 0.04792192\\\\\n",
       "\tSutterella & 0.02894322 & 0.02385759\\\\\n",
       "\tOthers3 & 0.01189357 & 0.03669641\\\\\n",
       "\tOthers4 & 0.01442304 & 0.02815186\\\\\n",
       "\tDialister & 0.02114887 & 0.01330384\\\\\n",
       "\tOthers5 & 0.14280441 & 0.17789108\\\\\n",
       "\\end{tabular}\n"
      ],
      "text/markdown": [
       "\n",
       "| <!--/--> | Korean | HMP | \n",
       "|---|---|---|---|---|---|---|---|---|---|---|\n",
       "| Bacteroides | 0.44700932 | 0.49865388 | \n",
       "| Prevotella | 0.21071548 | 0.03531337 | \n",
       "| Others1 | 0.03865312 | 0.06139982 | \n",
       "| Faecalibacterium | 0.04758593 | 0.02883327 | \n",
       "| Others2 | 0.02457201 | 0.04797696 | \n",
       "| Parabacteroides | 0.01225104 | 0.04792192 | \n",
       "| Sutterella | 0.02894322 | 0.02385759 | \n",
       "| Others3 | 0.01189357 | 0.03669641 | \n",
       "| Others4 | 0.01442304 | 0.02815186 | \n",
       "| Dialister | 0.02114887 | 0.01330384 | \n",
       "| Others5 | 0.14280441 | 0.17789108 | \n",
       "\n",
       "\n"
      ],
      "text/plain": [
       "                 Korean     HMP       \n",
       "Bacteroides      0.44700932 0.49865388\n",
       "Prevotella       0.21071548 0.03531337\n",
       "Others1          0.03865312 0.06139982\n",
       "Faecalibacterium 0.04758593 0.02883327\n",
       "Others2          0.02457201 0.04797696\n",
       "Parabacteroides  0.01225104 0.04792192\n",
       "Sutterella       0.02894322 0.02385759\n",
       "Others3          0.01189357 0.03669641\n",
       "Others4          0.01442304 0.02815186\n",
       "Dialister        0.02114887 0.01330384\n",
       "Others5          0.14280441 0.17789108"
      ]
     },
     "metadata": {},
     "output_type": "display_data"
    }
   ],
   "source": [
    "final <- tmp\n",
    "final"
   ]
  },
  {
   "cell_type": "code",
   "execution_count": 31,
   "metadata": {},
   "outputs": [],
   "source": [
    "exclude.list <- c(\"etc1\", 'etc2', 'etc3', 'etc4')"
   ]
  },
  {
   "cell_type": "code",
   "execution_count": 32,
   "metadata": {},
   "outputs": [
    {
     "data": {
      "text/html": [
       "<table>\n",
       "<thead><tr><th></th><th scope=col>Korean</th><th scope=col>HMP</th></tr></thead>\n",
       "<tbody>\n",
       "\t<tr><th scope=row>etc1</th><td>0.03865312</td><td>0.06139982</td></tr>\n",
       "\t<tr><th scope=row>etc2</th><td>0.02457201</td><td>0.04797696</td></tr>\n",
       "\t<tr><th scope=row>etc3</th><td>0.01189357</td><td>0.03669641</td></tr>\n",
       "\t<tr><th scope=row>etc4</th><td>0.01442304</td><td>0.02815186</td></tr>\n",
       "</tbody>\n",
       "</table>\n"
      ],
      "text/latex": [
       "\\begin{tabular}{r|ll}\n",
       "  & Korean & HMP\\\\\n",
       "\\hline\n",
       "\tetc1 & 0.03865312 & 0.06139982\\\\\n",
       "\tetc2 & 0.02457201 & 0.04797696\\\\\n",
       "\tetc3 & 0.01189357 & 0.03669641\\\\\n",
       "\tetc4 & 0.01442304 & 0.02815186\\\\\n",
       "\\end{tabular}\n"
      ],
      "text/markdown": [
       "\n",
       "| <!--/--> | Korean | HMP | \n",
       "|---|---|---|---|\n",
       "| etc1 | 0.03865312 | 0.06139982 | \n",
       "| etc2 | 0.02457201 | 0.04797696 | \n",
       "| etc3 | 0.01189357 | 0.03669641 | \n",
       "| etc4 | 0.01442304 | 0.02815186 | \n",
       "\n",
       "\n"
      ],
      "text/plain": [
       "     Korean     HMP       \n",
       "etc1 0.03865312 0.06139982\n",
       "etc2 0.02457201 0.04797696\n",
       "etc3 0.01189357 0.03669641\n",
       "etc4 0.01442304 0.02815186"
      ]
     },
     "metadata": {},
     "output_type": "display_data"
    }
   ],
   "source": [
    "subset(final, rownames(final) %in% exclude.list)"
   ]
  },
  {
   "cell_type": "code",
   "execution_count": 94,
   "metadata": {},
   "outputs": [],
   "source": [
    "write.csv(final, \"otu-final.csv\")"
   ]
  },
  {
   "cell_type": "code",
   "execution_count": 95,
   "metadata": {},
   "outputs": [
    {
     "data": {
      "text/html": [
       "<table>\n",
       "<thead><tr><th scope=col>taxon</th><th scope=col>Korean</th><th scope=col>HMP</th></tr></thead>\n",
       "<tbody>\n",
       "\t<tr><td>Bacteroides     </td><td>44.700932       </td><td>49.865388       </td></tr>\n",
       "\t<tr><td>Dialister       </td><td> 2.114887       </td><td> 1.330384       </td></tr>\n",
       "\t<tr><td>Faecalibacterium</td><td> 4.758593       </td><td> 2.883327       </td></tr>\n",
       "\t<tr><td>Parabacteroides </td><td> 1.225104       </td><td> 4.792192       </td></tr>\n",
       "\t<tr><td>Prevotella      </td><td>21.071548       </td><td> 3.531337       </td></tr>\n",
       "\t<tr><td>Sutterella      </td><td> 2.894322       </td><td> 2.385759       </td></tr>\n",
       "\t<tr><td>Others          </td><td>23.234615       </td><td>35.211613       </td></tr>\n",
       "</tbody>\n",
       "</table>\n"
      ],
      "text/latex": [
       "\\begin{tabular}{r|lll}\n",
       " taxon & Korean & HMP\\\\\n",
       "\\hline\n",
       "\t Bacteroides      & 44.700932        & 49.865388       \\\\\n",
       "\t Dialister        &  2.114887        &  1.330384       \\\\\n",
       "\t Faecalibacterium &  4.758593        &  2.883327       \\\\\n",
       "\t Parabacteroides  &  1.225104        &  4.792192       \\\\\n",
       "\t Prevotella       & 21.071548        &  3.531337       \\\\\n",
       "\t Sutterella       &  2.894322        &  2.385759       \\\\\n",
       "\t Others           & 23.234615        & 35.211613       \\\\\n",
       "\\end{tabular}\n"
      ],
      "text/markdown": [
       "\n",
       "taxon | Korean | HMP | \n",
       "|---|---|---|---|---|---|---|\n",
       "| Bacteroides      | 44.700932        | 49.865388        | \n",
       "| Dialister        |  2.114887        |  1.330384        | \n",
       "| Faecalibacterium |  4.758593        |  2.883327        | \n",
       "| Parabacteroides  |  1.225104        |  4.792192        | \n",
       "| Prevotella       | 21.071548        |  3.531337        | \n",
       "| Sutterella       |  2.894322        |  2.385759        | \n",
       "| Others           | 23.234615        | 35.211613        | \n",
       "\n",
       "\n"
      ],
      "text/plain": [
       "  taxon            Korean    HMP      \n",
       "1 Bacteroides      44.700932 49.865388\n",
       "2 Dialister         2.114887  1.330384\n",
       "3 Faecalibacterium  4.758593  2.883327\n",
       "4 Parabacteroides   1.225104  4.792192\n",
       "5 Prevotella       21.071548  3.531337\n",
       "6 Sutterella        2.894322  2.385759\n",
       "7 Others           23.234615 35.211613"
      ]
     },
     "metadata": {},
     "output_type": "display_data"
    }
   ],
   "source": [
    "df <- read.csv(\"otu-final.csv\")\n",
    "df$Korean <- df$Korean * 100\n",
    "df$HMP <- df$HMP * 100\n",
    "#df <- as.matrix(df)\n",
    "#class(df)\n",
    "#df\n",
    "df"
   ]
  },
  {
   "cell_type": "code",
   "execution_count": 96,
   "metadata": {},
   "outputs": [
    {
     "data": {
      "text/html": [
       "<table>\n",
       "<thead><tr><th scope=col>Genus</th><th scope=col>Sample</th><th scope=col>Proportion</th></tr></thead>\n",
       "<tbody>\n",
       "\t<tr><td>Bacteroides     </td><td>Korean          </td><td>44.700932       </td></tr>\n",
       "\t<tr><td>Dialister       </td><td>Korean          </td><td> 2.114887       </td></tr>\n",
       "\t<tr><td>Faecalibacterium</td><td>Korean          </td><td> 4.758593       </td></tr>\n",
       "\t<tr><td>Parabacteroides </td><td>Korean          </td><td> 1.225104       </td></tr>\n",
       "\t<tr><td>Prevotella      </td><td>Korean          </td><td>21.071548       </td></tr>\n",
       "\t<tr><td>Sutterella      </td><td>Korean          </td><td> 2.894322       </td></tr>\n",
       "</tbody>\n",
       "</table>\n"
      ],
      "text/latex": [
       "\\begin{tabular}{r|lll}\n",
       " Genus & Sample & Proportion\\\\\n",
       "\\hline\n",
       "\t Bacteroides      & Korean           & 44.700932       \\\\\n",
       "\t Dialister        & Korean           &  2.114887       \\\\\n",
       "\t Faecalibacterium & Korean           &  4.758593       \\\\\n",
       "\t Parabacteroides  & Korean           &  1.225104       \\\\\n",
       "\t Prevotella       & Korean           & 21.071548       \\\\\n",
       "\t Sutterella       & Korean           &  2.894322       \\\\\n",
       "\\end{tabular}\n"
      ],
      "text/markdown": [
       "\n",
       "Genus | Sample | Proportion | \n",
       "|---|---|---|---|---|---|\n",
       "| Bacteroides      | Korean           | 44.700932        | \n",
       "| Dialister        | Korean           |  2.114887        | \n",
       "| Faecalibacterium | Korean           |  4.758593        | \n",
       "| Parabacteroides  | Korean           |  1.225104        | \n",
       "| Prevotella       | Korean           | 21.071548        | \n",
       "| Sutterella       | Korean           |  2.894322        | \n",
       "\n",
       "\n"
      ],
      "text/plain": [
       "  Genus            Sample Proportion\n",
       "1 Bacteroides      Korean 44.700932 \n",
       "2 Dialister        Korean  2.114887 \n",
       "3 Faecalibacterium Korean  4.758593 \n",
       "4 Parabacteroides  Korean  1.225104 \n",
       "5 Prevotella       Korean 21.071548 \n",
       "6 Sutterella       Korean  2.894322 "
      ]
     },
     "metadata": {},
     "output_type": "display_data"
    }
   ],
   "source": [
    "long <- melt(df, id=c(\"taxon\"), varnames=c(\"Genus\", \"Sample\"), value.name=\"Proportion\")\n",
    "colnames(long) <- c(\"Genus\", \"Sample\", \"Proportion\")\n",
    "head(long)"
   ]
  },
  {
   "cell_type": "code",
   "execution_count": 118,
   "metadata": {},
   "outputs": [
    {
     "data": {},
     "metadata": {},
     "output_type": "display_data"
    },
    {
     "data": {
      "image/png": "[encoded data removed]",
      "text/plain": [
       "plot without title"
      ]
     },
     "metadata": {},
     "output_type": "display_data"
    }
   ],
   "source": [
    "p <- ggplot(long) + geom_bar(aes(x=Sample, y=Proportion, fill=Genus), stat = \"identity\")+ theme_light() +\n",
    " ylab(\"Proportion (%)\")  + theme(axis.title.y=element_text(size=15), axis.title.x=element_text(size=15)) +\n",
    "theme(text=element_text(size=15)) \n",
    "p  \n",
    "ggsave(paste0(\"Genus-plot\",'.png'), width=10, height=10, units=\"cm\")"
   ]
  },
  {
   "cell_type": "code",
   "execution_count": 50,
   "metadata": {},
   "outputs": [
    {
     "data": {
      "text/html": [
       "<table>\n",
       "<thead><tr><th></th><th scope=col>Korean</th><th scope=col>HMP</th></tr></thead>\n",
       "<tbody>\n",
       "\t<tr><th scope=row>k__Bacteria;p__Bacteroidetes</th><td>7.031853e-01</td><td>6.637061e-01</td></tr>\n",
       "\t<tr><th scope=row>k__Bacteria;p__Firmicutes</th><td>2.144961e-01</td><td>2.871862e-01</td></tr>\n",
       "\t<tr><th scope=row>k__Bacteria;p__Proteobacteria</th><td>7.418618e-02</td><td>3.140743e-02</td></tr>\n",
       "\t<tr><th scope=row>k__Bacteria;p__Tenericutes</th><td>1.126800e-03</td><td>6.417298e-03</td></tr>\n",
       "\t<tr><th scope=row>k__Bacteria;p__Actinobacteria</th><td>2.140920e-03</td><td>5.380011e-03</td></tr>\n",
       "\t<tr><th scope=row>k__Bacteria;p__Verrucomicrobia</th><td>3.224979e-03</td><td>4.149381e-03</td></tr>\n",
       "\t<tr><th scope=row>k__Bacteria;p__Fusobacteria</th><td>1.468725e-03</td><td>3.481142e-04</td></tr>\n",
       "\t<tr><th scope=row>k__Bacteria;p__Cyanobacteria</th><td>3.885517e-06</td><td>7.432709e-04</td></tr>\n",
       "\t<tr><th scope=row>k__Bacteria;p__Lentisphaerae</th><td>1.359931e-04</td><td>5.788575e-04</td></tr>\n",
       "\t<tr><th scope=row>k__Bacteria;p__Spirochaetes</th><td>2.719862e-05</td><td>3.057760e-06</td></tr>\n",
       "\t<tr><th scope=row>k__Bacteria;p__TM7</th><td>0.000000e+00</td><td>2.751984e-05</td></tr>\n",
       "\t<tr><th scope=row>k__Bacteria;p__Synergistetes</th><td>3.885517e-06</td><td>1.764092e-05</td></tr>\n",
       "\t<tr><th scope=row>k__Bacteria;p__Chloroflexi</th><td>0.000000e+00</td><td>1.223104e-05</td></tr>\n",
       "\t<tr><th scope=row>k__Bacteria;p__Chlorobi</th><td>0.000000e+00</td><td>4.469034e-06</td></tr>\n",
       "\t<tr><th scope=row>k__Bacteria;p__Armatimonadetes</th><td>0.000000e+00</td><td>3.763397e-06</td></tr>\n",
       "\t<tr><th scope=row>k__Archaea;p__Euryarchaeota</th><td>0.000000e+00</td><td>2.352123e-06</td></tr>\n",
       "\t<tr><th scope=row>k__Bacteria;p__Nitrospirae</th><td>0.000000e+00</td><td>1.646486e-06</td></tr>\n",
       "\t<tr><th scope=row>k__Bacteria;p__</th><td>0.000000e+00</td><td>1.411274e-06</td></tr>\n",
       "\t<tr><th scope=row>k__Bacteria;p__FBP</th><td>0.000000e+00</td><td>1.411274e-06</td></tr>\n",
       "\t<tr><th scope=row>k__Bacteria;p__SR1</th><td>0.000000e+00</td><td>9.408493e-07</td></tr>\n",
       "\t<tr><th scope=row>k__Bacteria;p__TM6</th><td>0.000000e+00</td><td>9.408493e-07</td></tr>\n",
       "\t<tr><th scope=row>k__Bacteria;p__WPS-2</th><td>0.000000e+00</td><td>9.408493e-07</td></tr>\n",
       "\t<tr><th scope=row>k__Bacteria;p__[Thermi]</th><td>0.000000e+00</td><td>7.056370e-07</td></tr>\n",
       "\t<tr><th scope=row>k__Bacteria;p__OP9</th><td>0.000000e+00</td><td>7.056370e-07</td></tr>\n",
       "\t<tr><th scope=row>k__Bacteria;p__WS3</th><td>0.000000e+00</td><td>7.056370e-07</td></tr>\n",
       "\t<tr><th scope=row>k__Bacteria;p__GN02</th><td>0.000000e+00</td><td>4.704246e-07</td></tr>\n",
       "\t<tr><th scope=row>k__Bacteria;p__OP3</th><td>0.000000e+00</td><td>4.704246e-07</td></tr>\n",
       "\t<tr><th scope=row>k__Bacteria;p__[Caldithrix]</th><td>0.000000e+00</td><td>2.352123e-07</td></tr>\n",
       "\t<tr><th scope=row>k__Bacteria;p__Acidobacteria</th><td>0.000000e+00</td><td>2.352123e-07</td></tr>\n",
       "\t<tr><th scope=row>k__Bacteria;p__BRC1</th><td>0.000000e+00</td><td>2.352123e-07</td></tr>\n",
       "\t<tr><th scope=row>k__Bacteria;p__Caldiserica</th><td>0.000000e+00</td><td>2.352123e-07</td></tr>\n",
       "\t<tr><th scope=row>k__Bacteria;p__Elusimicrobia</th><td>0.000000e+00</td><td>2.352123e-07</td></tr>\n",
       "\t<tr><th scope=row>k__Bacteria;p__Gemmatimonadetes</th><td>0.000000e+00</td><td>2.352123e-07</td></tr>\n",
       "\t<tr><th scope=row>k__Bacteria;p__OD1</th><td>0.000000e+00</td><td>2.352123e-07</td></tr>\n",
       "\t<tr><th scope=row>k__Bacteria;p__OP11</th><td>0.000000e+00</td><td>2.352123e-07</td></tr>\n",
       "</tbody>\n",
       "</table>\n"
      ],
      "text/latex": [
       "\\begin{tabular}{r|ll}\n",
       "  & Korean & HMP\\\\\n",
       "\\hline\n",
       "\tk\\_\\_Bacteria;p\\_\\_Bacteroidetes & 7.031853e-01 & 6.637061e-01\\\\\n",
       "\tk\\_\\_Bacteria;p\\_\\_Firmicutes & 2.144961e-01 & 2.871862e-01\\\\\n",
       "\tk\\_\\_Bacteria;p\\_\\_Proteobacteria & 7.418618e-02 & 3.140743e-02\\\\\n",
       "\tk\\_\\_Bacteria;p\\_\\_Tenericutes & 1.126800e-03 & 6.417298e-03\\\\\n",
       "\tk\\_\\_Bacteria;p\\_\\_Actinobacteria & 2.140920e-03 & 5.380011e-03\\\\\n",
       "\tk\\_\\_Bacteria;p\\_\\_Verrucomicrobia & 3.224979e-03 & 4.149381e-03\\\\\n",
       "\tk\\_\\_Bacteria;p\\_\\_Fusobacteria & 1.468725e-03 & 3.481142e-04\\\\\n",
       "\tk\\_\\_Bacteria;p\\_\\_Cyanobacteria & 3.885517e-06 & 7.432709e-04\\\\\n",
       "\tk\\_\\_Bacteria;p\\_\\_Lentisphaerae & 1.359931e-04 & 5.788575e-04\\\\\n",
       "\tk\\_\\_Bacteria;p\\_\\_Spirochaetes & 2.719862e-05 & 3.057760e-06\\\\\n",
       "\tk\\_\\_Bacteria;p\\_\\_TM7 & 0.000000e+00 & 2.751984e-05\\\\\n",
       "\tk\\_\\_Bacteria;p\\_\\_Synergistetes & 3.885517e-06 & 1.764092e-05\\\\\n",
       "\tk\\_\\_Bacteria;p\\_\\_Chloroflexi & 0.000000e+00 & 1.223104e-05\\\\\n",
       "\tk\\_\\_Bacteria;p\\_\\_Chlorobi & 0.000000e+00 & 4.469034e-06\\\\\n",
       "\tk\\_\\_Bacteria;p\\_\\_Armatimonadetes & 0.000000e+00 & 3.763397e-06\\\\\n",
       "\tk\\_\\_Archaea;p\\_\\_Euryarchaeota & 0.000000e+00 & 2.352123e-06\\\\\n",
       "\tk\\_\\_Bacteria;p\\_\\_Nitrospirae & 0.000000e+00 & 1.646486e-06\\\\\n",
       "\tk\\_\\_Bacteria;p\\_\\_ & 0.000000e+00 & 1.411274e-06\\\\\n",
       "\tk\\_\\_Bacteria;p\\_\\_FBP & 0.000000e+00 & 1.411274e-06\\\\\n",
       "\tk\\_\\_Bacteria;p\\_\\_SR1 & 0.000000e+00 & 9.408493e-07\\\\\n",
       "\tk\\_\\_Bacteria;p\\_\\_TM6 & 0.000000e+00 & 9.408493e-07\\\\\n",
       "\tk\\_\\_Bacteria;p\\_\\_WPS-2 & 0.000000e+00 & 9.408493e-07\\\\\n",
       "\tk\\_\\_Bacteria;p\\_\\_{[}Thermi{]} & 0.000000e+00 & 7.056370e-07\\\\\n",
       "\tk\\_\\_Bacteria;p\\_\\_OP9 & 0.000000e+00 & 7.056370e-07\\\\\n",
       "\tk\\_\\_Bacteria;p\\_\\_WS3 & 0.000000e+00 & 7.056370e-07\\\\\n",
       "\tk\\_\\_Bacteria;p\\_\\_GN02 & 0.000000e+00 & 4.704246e-07\\\\\n",
       "\tk\\_\\_Bacteria;p\\_\\_OP3 & 0.000000e+00 & 4.704246e-07\\\\\n",
       "\tk\\_\\_Bacteria;p\\_\\_{[}Caldithrix{]} & 0.000000e+00 & 2.352123e-07\\\\\n",
       "\tk\\_\\_Bacteria;p\\_\\_Acidobacteria & 0.000000e+00 & 2.352123e-07\\\\\n",
       "\tk\\_\\_Bacteria;p\\_\\_BRC1 & 0.000000e+00 & 2.352123e-07\\\\\n",
       "\tk\\_\\_Bacteria;p\\_\\_Caldiserica & 0.000000e+00 & 2.352123e-07\\\\\n",
       "\tk\\_\\_Bacteria;p\\_\\_Elusimicrobia & 0.000000e+00 & 2.352123e-07\\\\\n",
       "\tk\\_\\_Bacteria;p\\_\\_Gemmatimonadetes & 0.000000e+00 & 2.352123e-07\\\\\n",
       "\tk\\_\\_Bacteria;p\\_\\_OD1 & 0.000000e+00 & 2.352123e-07\\\\\n",
       "\tk\\_\\_Bacteria;p\\_\\_OP11 & 0.000000e+00 & 2.352123e-07\\\\\n",
       "\\end{tabular}\n"
      ],
      "text/markdown": [
       "\n",
       "| <!--/--> | Korean | HMP | \n",
       "|---|---|---|---|---|---|---|---|---|---|---|---|---|---|---|---|---|---|---|---|---|---|---|---|---|---|---|---|---|---|---|---|---|---|---|\n",
       "| k__Bacteria;p__Bacteroidetes | 7.031853e-01 | 6.637061e-01 | \n",
       "| k__Bacteria;p__Firmicutes | 2.144961e-01 | 2.871862e-01 | \n",
       "| k__Bacteria;p__Proteobacteria | 7.418618e-02 | 3.140743e-02 | \n",
       "| k__Bacteria;p__Tenericutes | 1.126800e-03 | 6.417298e-03 | \n",
       "| k__Bacteria;p__Actinobacteria | 2.140920e-03 | 5.380011e-03 | \n",
       "| k__Bacteria;p__Verrucomicrobia | 3.224979e-03 | 4.149381e-03 | \n",
       "| k__Bacteria;p__Fusobacteria | 1.468725e-03 | 3.481142e-04 | \n",
       "| k__Bacteria;p__Cyanobacteria | 3.885517e-06 | 7.432709e-04 | \n",
       "| k__Bacteria;p__Lentisphaerae | 1.359931e-04 | 5.788575e-04 | \n",
       "| k__Bacteria;p__Spirochaetes | 2.719862e-05 | 3.057760e-06 | \n",
       "| k__Bacteria;p__TM7 | 0.000000e+00 | 2.751984e-05 | \n",
       "| k__Bacteria;p__Synergistetes | 3.885517e-06 | 1.764092e-05 | \n",
       "| k__Bacteria;p__Chloroflexi | 0.000000e+00 | 1.223104e-05 | \n",
       "| k__Bacteria;p__Chlorobi | 0.000000e+00 | 4.469034e-06 | \n",
       "| k__Bacteria;p__Armatimonadetes | 0.000000e+00 | 3.763397e-06 | \n",
       "| k__Archaea;p__Euryarchaeota | 0.000000e+00 | 2.352123e-06 | \n",
       "| k__Bacteria;p__Nitrospirae | 0.000000e+00 | 1.646486e-06 | \n",
       "| k__Bacteria;p__ | 0.000000e+00 | 1.411274e-06 | \n",
       "| k__Bacteria;p__FBP | 0.000000e+00 | 1.411274e-06 | \n",
       "| k__Bacteria;p__SR1 | 0.000000e+00 | 9.408493e-07 | \n",
       "| k__Bacteria;p__TM6 | 0.000000e+00 | 9.408493e-07 | \n",
       "| k__Bacteria;p__WPS-2 | 0.000000e+00 | 9.408493e-07 | \n",
       "| k__Bacteria;p__[Thermi] | 0.000000e+00 | 7.056370e-07 | \n",
       "| k__Bacteria;p__OP9 | 0.000000e+00 | 7.056370e-07 | \n",
       "| k__Bacteria;p__WS3 | 0.000000e+00 | 7.056370e-07 | \n",
       "| k__Bacteria;p__GN02 | 0.000000e+00 | 4.704246e-07 | \n",
       "| k__Bacteria;p__OP3 | 0.000000e+00 | 4.704246e-07 | \n",
       "| k__Bacteria;p__[Caldithrix] | 0.000000e+00 | 2.352123e-07 | \n",
       "| k__Bacteria;p__Acidobacteria | 0.000000e+00 | 2.352123e-07 | \n",
       "| k__Bacteria;p__BRC1 | 0.000000e+00 | 2.352123e-07 | \n",
       "| k__Bacteria;p__Caldiserica | 0.000000e+00 | 2.352123e-07 | \n",
       "| k__Bacteria;p__Elusimicrobia | 0.000000e+00 | 2.352123e-07 | \n",
       "| k__Bacteria;p__Gemmatimonadetes | 0.000000e+00 | 2.352123e-07 | \n",
       "| k__Bacteria;p__OD1 | 0.000000e+00 | 2.352123e-07 | \n",
       "| k__Bacteria;p__OP11 | 0.000000e+00 | 2.352123e-07 | \n",
       "\n",
       "\n"
      ],
      "text/plain": [
       "                                Korean       HMP         \n",
       "k__Bacteria;p__Bacteroidetes    7.031853e-01 6.637061e-01\n",
       "k__Bacteria;p__Firmicutes       2.144961e-01 2.871862e-01\n",
       "k__Bacteria;p__Proteobacteria   7.418618e-02 3.140743e-02\n",
       "k__Bacteria;p__Tenericutes      1.126800e-03 6.417298e-03\n",
       "k__Bacteria;p__Actinobacteria   2.140920e-03 5.380011e-03\n",
       "k__Bacteria;p__Verrucomicrobia  3.224979e-03 4.149381e-03\n",
       "k__Bacteria;p__Fusobacteria     1.468725e-03 3.481142e-04\n",
       "k__Bacteria;p__Cyanobacteria    3.885517e-06 7.432709e-04\n",
       "k__Bacteria;p__Lentisphaerae    1.359931e-04 5.788575e-04\n",
       "k__Bacteria;p__Spirochaetes     2.719862e-05 3.057760e-06\n",
       "k__Bacteria;p__TM7              0.000000e+00 2.751984e-05\n",
       "k__Bacteria;p__Synergistetes    3.885517e-06 1.764092e-05\n",
       "k__Bacteria;p__Chloroflexi      0.000000e+00 1.223104e-05\n",
       "k__Bacteria;p__Chlorobi         0.000000e+00 4.469034e-06\n",
       "k__Bacteria;p__Armatimonadetes  0.000000e+00 3.763397e-06\n",
       "k__Archaea;p__Euryarchaeota     0.000000e+00 2.352123e-06\n",
       "k__Bacteria;p__Nitrospirae      0.000000e+00 1.646486e-06\n",
       "k__Bacteria;p__                 0.000000e+00 1.411274e-06\n",
       "k__Bacteria;p__FBP              0.000000e+00 1.411274e-06\n",
       "k__Bacteria;p__SR1              0.000000e+00 9.408493e-07\n",
       "k__Bacteria;p__TM6              0.000000e+00 9.408493e-07\n",
       "k__Bacteria;p__WPS-2            0.000000e+00 9.408493e-07\n",
       "k__Bacteria;p__[Thermi]         0.000000e+00 7.056370e-07\n",
       "k__Bacteria;p__OP9              0.000000e+00 7.056370e-07\n",
       "k__Bacteria;p__WS3              0.000000e+00 7.056370e-07\n",
       "k__Bacteria;p__GN02             0.000000e+00 4.704246e-07\n",
       "k__Bacteria;p__OP3              0.000000e+00 4.704246e-07\n",
       "k__Bacteria;p__[Caldithrix]     0.000000e+00 2.352123e-07\n",
       "k__Bacteria;p__Acidobacteria    0.000000e+00 2.352123e-07\n",
       "k__Bacteria;p__BRC1             0.000000e+00 2.352123e-07\n",
       "k__Bacteria;p__Caldiserica      0.000000e+00 2.352123e-07\n",
       "k__Bacteria;p__Elusimicrobia    0.000000e+00 2.352123e-07\n",
       "k__Bacteria;p__Gemmatimonadetes 0.000000e+00 2.352123e-07\n",
       "k__Bacteria;p__OD1              0.000000e+00 2.352123e-07\n",
       "k__Bacteria;p__OP11             0.000000e+00 2.352123e-07"
      ]
     },
     "metadata": {},
     "output_type": "display_data"
    }
   ],
   "source": [
    "taxaStrings <- sapply(split,function(x) paste(x[1:2],collapse=\";\"))\n",
    "ptaxa <- taxa\n",
    "splitg <- strsplit(rownames(ptaxa),\";\")                               # Split and rejoin on lv7\n",
    "ptaxaStrings <- sapply(splitg,function(x) paste(x[1:2],collapse=\";\")) # level 7 is species, 8 is strain\n",
    "ptaxa <- rowsum(ptaxa,ptaxaStrings)                                    # Collapse by taxonomy name\n",
    "ptaxa <- sweep(ptaxa,2,colSums(ptaxa),'/')\n",
    "ptaxa <- ptaxa[order(rowMeans(ptaxa),decreasing=T),]\n",
    "ptaxa"
   ]
  },
  {
   "cell_type": "code",
   "execution_count": 55,
   "metadata": {},
   "outputs": [
    {
     "data": {
      "text/html": [
       "<table>\n",
       "<thead><tr><th></th><th scope=col>Bacteroidetes</th><th scope=col>Firmicutes</th><th scope=col>Proteobacteria</th></tr></thead>\n",
       "<tbody>\n",
       "\t<tr><th scope=row>Korean</th><td>0.7031853 </td><td>0.2144961 </td><td>0.07418618</td></tr>\n",
       "\t<tr><th scope=row>HMP</th><td>0.6637061 </td><td>0.2871862 </td><td>0.03140743</td></tr>\n",
       "</tbody>\n",
       "</table>\n"
      ],
      "text/latex": [
       "\\begin{tabular}{r|lll}\n",
       "  & Bacteroidetes & Firmicutes & Proteobacteria\\\\\n",
       "\\hline\n",
       "\tKorean & 0.7031853  & 0.2144961  & 0.07418618\\\\\n",
       "\tHMP & 0.6637061  & 0.2871862  & 0.03140743\\\\\n",
       "\\end{tabular}\n"
      ],
      "text/markdown": [
       "\n",
       "| <!--/--> | Bacteroidetes | Firmicutes | Proteobacteria | \n",
       "|---|---|\n",
       "| Korean | 0.7031853  | 0.2144961  | 0.07418618 | \n",
       "| HMP | 0.6637061  | 0.2871862  | 0.03140743 | \n",
       "\n",
       "\n"
      ],
      "text/plain": [
       "       Bacteroidetes Firmicutes Proteobacteria\n",
       "Korean 0.7031853     0.2144961  0.07418618    \n",
       "HMP    0.6637061     0.2871862  0.03140743    "
      ]
     },
     "metadata": {},
     "output_type": "display_data"
    }
   ],
   "source": [
    "p.filtered.taxa <- ptaxa * 100\n",
    "etc.p <- ptaxa[ptaxa$Korean >= 0.01 & ptaxa$HMP >= 0.01,]\n",
    "#filtered.taxa <- gtaxa * 100\n",
    "#traspose to add to map for later use\n",
    "etc.p <- t(etc.p)\n",
    "colnames(etc.p) <- gsub(\".*;p__?\", \"\", colnames(etc.p))\n",
    "colnames(etc.p) <- gsub(\"_\", \"\", colnames(etc.p))\n",
    "colnames(etc.p) <- gsub(\";.*\",\"\",colnames(etc.p))\n",
    "\n",
    "head(etc.p)"
   ]
  },
  {
   "cell_type": "code",
   "execution_count": 56,
   "metadata": {},
   "outputs": [
    {
     "data": {
      "text/html": [
       "<table>\n",
       "<thead><tr><th></th><th scope=col>Bacteroidetes</th><th scope=col>Firmicutes</th><th scope=col>Proteobacteria</th><th scope=col>Others</th></tr></thead>\n",
       "<tbody>\n",
       "\t<tr><th scope=row>Korean</th><td>0.7031853  </td><td>0.2144961  </td><td>0.07418618 </td><td>0.008132387</td></tr>\n",
       "\t<tr><th scope=row>HMP</th><td>0.6637061  </td><td>0.2871862  </td><td>0.03140743 </td><td>0.017700197</td></tr>\n",
       "</tbody>\n",
       "</table>\n"
      ],
      "text/latex": [
       "\\begin{tabular}{r|llll}\n",
       "  & Bacteroidetes & Firmicutes & Proteobacteria & Others\\\\\n",
       "\\hline\n",
       "\tKorean & 0.7031853   & 0.2144961   & 0.07418618  & 0.008132387\\\\\n",
       "\tHMP & 0.6637061   & 0.2871862   & 0.03140743  & 0.017700197\\\\\n",
       "\\end{tabular}\n"
      ],
      "text/markdown": [
       "\n",
       "| <!--/--> | Bacteroidetes | Firmicutes | Proteobacteria | Others | \n",
       "|---|---|\n",
       "| Korean | 0.7031853   | 0.2144961   | 0.07418618  | 0.008132387 | \n",
       "| HMP | 0.6637061   | 0.2871862   | 0.03140743  | 0.017700197 | \n",
       "\n",
       "\n"
      ],
      "text/plain": [
       "       Bacteroidetes Firmicutes Proteobacteria Others     \n",
       "Korean 0.7031853     0.2144961  0.07418618     0.008132387\n",
       "HMP    0.6637061     0.2871862  0.03140743     0.017700197"
      ]
     },
     "metadata": {},
     "output_type": "display_data"
    }
   ],
   "source": [
    "etc.p <- as.data.frame(etc.p)\n",
    "etc.p$Others <- 1- rowSums(etc.p)\n",
    "etc.p <- as.matrix(etc.p)\n",
    "etc.p\n"
   ]
  },
  {
   "cell_type": "code",
   "execution_count": 57,
   "metadata": {},
   "outputs": [
    {
     "data": {
      "text/html": [
       "<table>\n",
       "<thead><tr><th scope=col>Sample</th><th scope=col>Phylum</th><th scope=col>Proportion</th></tr></thead>\n",
       "<tbody>\n",
       "\t<tr><td>Korean        </td><td>Bacteroidetes </td><td>70.3185347    </td></tr>\n",
       "\t<tr><td>HMP           </td><td>Bacteroidetes </td><td>66.3706128    </td></tr>\n",
       "\t<tr><td>Korean        </td><td>Firmicutes    </td><td>21.4496087    </td></tr>\n",
       "\t<tr><td>HMP           </td><td>Firmicutes    </td><td>28.7186244    </td></tr>\n",
       "\t<tr><td>Korean        </td><td>Proteobacteria</td><td> 7.4186178    </td></tr>\n",
       "\t<tr><td>HMP           </td><td>Proteobacteria</td><td> 3.1407431    </td></tr>\n",
       "\t<tr><td>Korean        </td><td>Others        </td><td> 0.8132387    </td></tr>\n",
       "\t<tr><td>HMP           </td><td>Others        </td><td> 1.7700197    </td></tr>\n",
       "</tbody>\n",
       "</table>\n"
      ],
      "text/latex": [
       "\\begin{tabular}{r|lll}\n",
       " Sample & Phylum & Proportion\\\\\n",
       "\\hline\n",
       "\t Korean         & Bacteroidetes  & 70.3185347    \\\\\n",
       "\t HMP            & Bacteroidetes  & 66.3706128    \\\\\n",
       "\t Korean         & Firmicutes     & 21.4496087    \\\\\n",
       "\t HMP            & Firmicutes     & 28.7186244    \\\\\n",
       "\t Korean         & Proteobacteria &  7.4186178    \\\\\n",
       "\t HMP            & Proteobacteria &  3.1407431    \\\\\n",
       "\t Korean         & Others         &  0.8132387    \\\\\n",
       "\t HMP            & Others         &  1.7700197    \\\\\n",
       "\\end{tabular}\n"
      ],
      "text/markdown": [
       "\n",
       "Sample | Phylum | Proportion | \n",
       "|---|---|---|---|---|---|---|---|\n",
       "| Korean         | Bacteroidetes  | 70.3185347     | \n",
       "| HMP            | Bacteroidetes  | 66.3706128     | \n",
       "| Korean         | Firmicutes     | 21.4496087     | \n",
       "| HMP            | Firmicutes     | 28.7186244     | \n",
       "| Korean         | Proteobacteria |  7.4186178     | \n",
       "| HMP            | Proteobacteria |  3.1407431     | \n",
       "| Korean         | Others         |  0.8132387     | \n",
       "| HMP            | Others         |  1.7700197     | \n",
       "\n",
       "\n"
      ],
      "text/plain": [
       "  Sample Phylum         Proportion\n",
       "1 Korean Bacteroidetes  70.3185347\n",
       "2 HMP    Bacteroidetes  66.3706128\n",
       "3 Korean Firmicutes     21.4496087\n",
       "4 HMP    Firmicutes     28.7186244\n",
       "5 Korean Proteobacteria  7.4186178\n",
       "6 HMP    Proteobacteria  3.1407431\n",
       "7 Korean Others          0.8132387\n",
       "8 HMP    Others          1.7700197"
      ]
     },
     "metadata": {},
     "output_type": "display_data"
    }
   ],
   "source": [
    "df.p <- melt(etc.p, varnames=c(\"Sample\", \"Phylum\"), value.name=\"Proportion\")\n",
    "df.p$Proportion <- df.p$Proportion * 100\n",
    "df.p"
   ]
  },
  {
   "cell_type": "code",
   "execution_count": 113,
   "metadata": {},
   "outputs": [
    {
     "data": {},
     "metadata": {},
     "output_type": "display_data"
    },
    {
     "data": {
      "image/png": "[encoded data removed]",
      "text/plain": [
       "plot without title"
      ]
     },
     "metadata": {},
     "output_type": "display_data"
    }
   ],
   "source": [
    "p <- ggplot(df.p) + geom_bar(aes(x=Sample, y=Proportion, fill=Phylum), stat = \"identity\") + theme_light() +\n",
    " ylab(\"Proportion (%)\")  + theme(axis.title.y=element_text(size=15), axis.title.x=element_text(size=15)) +\n",
    "theme(text=element_text(size=15)) + scale_fill_brewer(palette=\"Set3\")\n",
    "p  \n",
    "s"
   ]
  },
  {
   "cell_type": "code",
   "execution_count": null,
   "metadata": {},
   "outputs": [],
   "source": []
  }
 ],
 "metadata": {
  "kernelspec": {
   "display_name": "R",
   "language": "R",
   "name": "ir"
  },
  "language_info": {
   "codemirror_mode": "r",
   "file_extension": ".r",
   "mimetype": "text/x-r-source",
   "name": "R",
   "pygments_lexer": "r",
   "version": "3.4.3"
  }
 },
 "nbformat": 4,
 "nbformat_minor": 2
}
