{
 "cells": [
  {
   "cell_type": "code",
   "execution_count": 61,
   "metadata": {},
   "outputs": [],
   "source": [
    "library(\"tidyverse\")"
   ]
  },
  {
   "cell_type": "code",
   "execution_count": 62,
   "metadata": {},
   "outputs": [
    {
     "name": "stderr",
     "output_type": "stream",
     "text": [
      "Warning message:\n",
      "\"Missing column names filled in: 'X1' [1]\"Parsed with column specification:\n",
      "cols(\n",
      "  .default = col_double(),\n",
      "  X1 = col_character()\n",
      ")\n",
      "See spec(...) for full column specifications.\n"
     ]
    },
    {
     "data": {
      "text/html": [
       "<table>\n",
       "<thead><tr><th scope=col>X1</th><th scope=col>SRS052555</th><th scope=col>SRS018559</th><th scope=col>SRS062610</th><th scope=col>SRS017641</th><th scope=col>SRS014999</th><th scope=col>SRS051609</th><th scope=col>SRS050733</th><th scope=col>SRS048819</th><th scope=col>SRS054608</th><th scope=col>...</th><th scope=col>SRS016056</th><th scope=col>SRS023488</th><th scope=col>SRS062464</th><th scope=col>SRS018076</th><th scope=col>SRS057258</th><th scope=col>SRS049911</th><th scope=col>SRS064647</th><th scope=col>SRS056255</th><th scope=col>SRS016152</th><th scope=col>SRS056259</th></tr></thead>\n",
       "<tbody>\n",
       "\t<tr><td>SRS052555</td><td>0.0000000</td><td>0.7177741</td><td>0.6443183</td><td>0.6747327</td><td>0.6996822</td><td>0.6615088</td><td>0.7052942</td><td>0.7031953</td><td>0.6812651</td><td>...      </td><td>0.7287541</td><td>0.7268968</td><td>0.6533717</td><td>0.8002613</td><td>0.7342415</td><td>0.6686638</td><td>0.7767685</td><td>0.6583010</td><td>0.6894371</td><td>0.6924706</td></tr>\n",
       "\t<tr><td>SRS018559</td><td>0.7177741</td><td>0.0000000</td><td>0.6965987</td><td>0.6699886</td><td>0.6810165</td><td>0.6635515</td><td>0.6702022</td><td>0.6455579</td><td>0.6506550</td><td>...      </td><td>0.7273458</td><td>0.7358017</td><td>0.6968931</td><td>0.7824468</td><td>0.7136065</td><td>0.6883073</td><td>0.7485674</td><td>0.6616500</td><td>0.6833075</td><td>0.7223062</td></tr>\n",
       "\t<tr><td>SRS062610</td><td>0.6443183</td><td>0.6965987</td><td>0.0000000</td><td>0.7075625</td><td>0.6702384</td><td>0.6730542</td><td>0.6952357</td><td>0.6802488</td><td>0.6546234</td><td>...      </td><td>0.7098878</td><td>0.6817875</td><td>0.6815594</td><td>0.7976256</td><td>0.6839814</td><td>0.6426663</td><td>0.7034623</td><td>0.6457140</td><td>0.6613643</td><td>0.7268079</td></tr>\n",
       "\t<tr><td>SRS017641</td><td>0.6747327</td><td>0.6699886</td><td>0.7075625</td><td>0.0000000</td><td>0.6885112</td><td>0.6876831</td><td>0.6958130</td><td>0.6881268</td><td>0.6952858</td><td>...      </td><td>0.7414771</td><td>0.7621048</td><td>0.6962675</td><td>0.7742014</td><td>0.6671732</td><td>0.6665273</td><td>0.7579097</td><td>0.6746610</td><td>0.7035161</td><td>0.7247131</td></tr>\n",
       "\t<tr><td>SRS014999</td><td>0.6996822</td><td>0.6810165</td><td>0.6702384</td><td>0.6885112</td><td>0.0000000</td><td>0.7125492</td><td>0.7154596</td><td>0.6610205</td><td>0.6787105</td><td>...      </td><td>0.7579431</td><td>0.7658370</td><td>0.7163092</td><td>0.8492228</td><td>0.7471406</td><td>0.7638892</td><td>0.7715515</td><td>0.6797768</td><td>0.7106412</td><td>0.7400076</td></tr>\n",
       "\t<tr><td>SRS051609</td><td>0.6615088</td><td>0.6635515</td><td>0.6730542</td><td>0.6876831</td><td>0.7125492</td><td>0.0000000</td><td>0.6882271</td><td>0.6725900</td><td>0.6668963</td><td>...      </td><td>0.7084501</td><td>0.7470570</td><td>0.6781075</td><td>0.7782633</td><td>0.6895717</td><td>0.6784684</td><td>0.7503397</td><td>0.6760307</td><td>0.6872330</td><td>0.6776423</td></tr>\n",
       "</tbody>\n",
       "</table>\n"
      ],
      "text/latex": [
       "\\begin{tabular}{r|llllllllllllllllllllllllllllllllllllllllllllllllllllllllllllllllllllllllllllllllllllllllllllllllllllllllllllllllllllllllllllllllllllllllllllllllllllllllllllllllllllllllllllllllllllllllllllllllllllllllllllllllllllllllllllllllllllllllllllllllllllllllllllllllllllllllllllllllllllllllllllllllllllllllllllllllllllllllllllllllllllllllllllllllllllllllllllllllllll}\n",
       " X1 & SRS052555 & SRS018559 & SRS062610 & SRS017641 & SRS014999 & SRS051609 & SRS050733 & SRS048819 & SRS054608 & ... & SRS016056 & SRS023488 & SRS062464 & SRS018076 & SRS057258 & SRS049911 & SRS064647 & SRS056255 & SRS016152 & SRS056259\\\\\n",
       "\\hline\n",
       "\t SRS052555 & 0.0000000 & 0.7177741 & 0.6443183 & 0.6747327 & 0.6996822 & 0.6615088 & 0.7052942 & 0.7031953 & 0.6812651 & ...       & 0.7287541 & 0.7268968 & 0.6533717 & 0.8002613 & 0.7342415 & 0.6686638 & 0.7767685 & 0.6583010 & 0.6894371 & 0.6924706\\\\\n",
       "\t SRS018559 & 0.7177741 & 0.0000000 & 0.6965987 & 0.6699886 & 0.6810165 & 0.6635515 & 0.6702022 & 0.6455579 & 0.6506550 & ...       & 0.7273458 & 0.7358017 & 0.6968931 & 0.7824468 & 0.7136065 & 0.6883073 & 0.7485674 & 0.6616500 & 0.6833075 & 0.7223062\\\\\n",
       "\t SRS062610 & 0.6443183 & 0.6965987 & 0.0000000 & 0.7075625 & 0.6702384 & 0.6730542 & 0.6952357 & 0.6802488 & 0.6546234 & ...       & 0.7098878 & 0.6817875 & 0.6815594 & 0.7976256 & 0.6839814 & 0.6426663 & 0.7034623 & 0.6457140 & 0.6613643 & 0.7268079\\\\\n",
       "\t SRS017641 & 0.6747327 & 0.6699886 & 0.7075625 & 0.0000000 & 0.6885112 & 0.6876831 & 0.6958130 & 0.6881268 & 0.6952858 & ...       & 0.7414771 & 0.7621048 & 0.6962675 & 0.7742014 & 0.6671732 & 0.6665273 & 0.7579097 & 0.6746610 & 0.7035161 & 0.7247131\\\\\n",
       "\t SRS014999 & 0.6996822 & 0.6810165 & 0.6702384 & 0.6885112 & 0.0000000 & 0.7125492 & 0.7154596 & 0.6610205 & 0.6787105 & ...       & 0.7579431 & 0.7658370 & 0.7163092 & 0.8492228 & 0.7471406 & 0.7638892 & 0.7715515 & 0.6797768 & 0.7106412 & 0.7400076\\\\\n",
       "\t SRS051609 & 0.6615088 & 0.6635515 & 0.6730542 & 0.6876831 & 0.7125492 & 0.0000000 & 0.6882271 & 0.6725900 & 0.6668963 & ...       & 0.7084501 & 0.7470570 & 0.6781075 & 0.7782633 & 0.6895717 & 0.6784684 & 0.7503397 & 0.6760307 & 0.6872330 & 0.6776423\\\\\n",
       "\\end{tabular}\n"
      ],
      "text/markdown": [
       "\n",
       "X1 | SRS052555 | SRS018559 | SRS062610 | SRS017641 | SRS014999 | SRS051609 | SRS050733 | SRS048819 | SRS054608 | ... | SRS016056 | SRS023488 | SRS062464 | SRS018076 | SRS057258 | SRS049911 | SRS064647 | SRS056255 | SRS016152 | SRS056259 | \n",
       "|---|---|---|---|---|---|\n",
       "| SRS052555 | 0.0000000 | 0.7177741 | 0.6443183 | 0.6747327 | 0.6996822 | 0.6615088 | 0.7052942 | 0.7031953 | 0.6812651 | ...       | 0.7287541 | 0.7268968 | 0.6533717 | 0.8002613 | 0.7342415 | 0.6686638 | 0.7767685 | 0.6583010 | 0.6894371 | 0.6924706 | \n",
       "| SRS018559 | 0.7177741 | 0.0000000 | 0.6965987 | 0.6699886 | 0.6810165 | 0.6635515 | 0.6702022 | 0.6455579 | 0.6506550 | ...       | 0.7273458 | 0.7358017 | 0.6968931 | 0.7824468 | 0.7136065 | 0.6883073 | 0.7485674 | 0.6616500 | 0.6833075 | 0.7223062 | \n",
       "| SRS062610 | 0.6443183 | 0.6965987 | 0.0000000 | 0.7075625 | 0.6702384 | 0.6730542 | 0.6952357 | 0.6802488 | 0.6546234 | ...       | 0.7098878 | 0.6817875 | 0.6815594 | 0.7976256 | 0.6839814 | 0.6426663 | 0.7034623 | 0.6457140 | 0.6613643 | 0.7268079 | \n",
       "| SRS017641 | 0.6747327 | 0.6699886 | 0.7075625 | 0.0000000 | 0.6885112 | 0.6876831 | 0.6958130 | 0.6881268 | 0.6952858 | ...       | 0.7414771 | 0.7621048 | 0.6962675 | 0.7742014 | 0.6671732 | 0.6665273 | 0.7579097 | 0.6746610 | 0.7035161 | 0.7247131 | \n",
       "| SRS014999 | 0.6996822 | 0.6810165 | 0.6702384 | 0.6885112 | 0.0000000 | 0.7125492 | 0.7154596 | 0.6610205 | 0.6787105 | ...       | 0.7579431 | 0.7658370 | 0.7163092 | 0.8492228 | 0.7471406 | 0.7638892 | 0.7715515 | 0.6797768 | 0.7106412 | 0.7400076 | \n",
       "| SRS051609 | 0.6615088 | 0.6635515 | 0.6730542 | 0.6876831 | 0.7125492 | 0.0000000 | 0.6882271 | 0.6725900 | 0.6668963 | ...       | 0.7084501 | 0.7470570 | 0.6781075 | 0.7782633 | 0.6895717 | 0.6784684 | 0.7503397 | 0.6760307 | 0.6872330 | 0.6776423 | \n",
       "\n",
       "\n"
      ],
      "text/plain": [
       "  X1        SRS052555 SRS018559 SRS062610 SRS017641 SRS014999 SRS051609\n",
       "1 SRS052555 0.0000000 0.7177741 0.6443183 0.6747327 0.6996822 0.6615088\n",
       "2 SRS018559 0.7177741 0.0000000 0.6965987 0.6699886 0.6810165 0.6635515\n",
       "3 SRS062610 0.6443183 0.6965987 0.0000000 0.7075625 0.6702384 0.6730542\n",
       "4 SRS017641 0.6747327 0.6699886 0.7075625 0.0000000 0.6885112 0.6876831\n",
       "5 SRS014999 0.6996822 0.6810165 0.6702384 0.6885112 0.0000000 0.7125492\n",
       "6 SRS051609 0.6615088 0.6635515 0.6730542 0.6876831 0.7125492 0.0000000\n",
       "  SRS050733 SRS048819 SRS054608 ... SRS016056 SRS023488 SRS062464 SRS018076\n",
       "1 0.7052942 0.7031953 0.6812651 ... 0.7287541 0.7268968 0.6533717 0.8002613\n",
       "2 0.6702022 0.6455579 0.6506550 ... 0.7273458 0.7358017 0.6968931 0.7824468\n",
       "3 0.6952357 0.6802488 0.6546234 ... 0.7098878 0.6817875 0.6815594 0.7976256\n",
       "4 0.6958130 0.6881268 0.6952858 ... 0.7414771 0.7621048 0.6962675 0.7742014\n",
       "5 0.7154596 0.6610205 0.6787105 ... 0.7579431 0.7658370 0.7163092 0.8492228\n",
       "6 0.6882271 0.6725900 0.6668963 ... 0.7084501 0.7470570 0.6781075 0.7782633\n",
       "  SRS057258 SRS049911 SRS064647 SRS056255 SRS016152 SRS056259\n",
       "1 0.7342415 0.6686638 0.7767685 0.6583010 0.6894371 0.6924706\n",
       "2 0.7136065 0.6883073 0.7485674 0.6616500 0.6833075 0.7223062\n",
       "3 0.6839814 0.6426663 0.7034623 0.6457140 0.6613643 0.7268079\n",
       "4 0.6671732 0.6665273 0.7579097 0.6746610 0.7035161 0.7247131\n",
       "5 0.7471406 0.7638892 0.7715515 0.6797768 0.7106412 0.7400076\n",
       "6 0.6895717 0.6784684 0.7503397 0.6760307 0.6872330 0.6776423"
      ]
     },
     "metadata": {},
     "output_type": "display_data"
    }
   ],
   "source": [
    "un <- read_tsv(\"unweighted_unifrac_dm.txt\")\n",
    "head(un)"
   ]
  },
  {
   "cell_type": "code",
   "execution_count": 63,
   "metadata": {},
   "outputs": [],
   "source": [
    "library(\"reshape2\")"
   ]
  },
  {
   "cell_type": "code",
   "execution_count": 64,
   "metadata": {},
   "outputs": [
    {
     "name": "stderr",
     "output_type": "stream",
     "text": [
      "Using X1 as id variables\n"
     ]
    }
   ],
   "source": [
    "tmp <- melt(un)"
   ]
  },
  {
   "cell_type": "code",
   "execution_count": 65,
   "metadata": {},
   "outputs": [
    {
     "data": {
      "text/html": [
       "<table>\n",
       "<thead><tr><th scope=col>X1</th><th scope=col>variable</th><th scope=col>value</th></tr></thead>\n",
       "<tbody>\n",
       "\t<tr><td>SRS052555</td><td>SRS052555</td><td>0.0000000</td></tr>\n",
       "\t<tr><td>SRS018559</td><td>SRS052555</td><td>0.7177741</td></tr>\n",
       "\t<tr><td>SRS062610</td><td>SRS052555</td><td>0.6443183</td></tr>\n",
       "\t<tr><td>SRS017641</td><td>SRS052555</td><td>0.6747327</td></tr>\n",
       "\t<tr><td>SRS014999</td><td>SRS052555</td><td>0.6996822</td></tr>\n",
       "\t<tr><td>SRS051609</td><td>SRS052555</td><td>0.6615088</td></tr>\n",
       "</tbody>\n",
       "</table>\n"
      ],
      "text/latex": [
       "\\begin{tabular}{r|lll}\n",
       " X1 & variable & value\\\\\n",
       "\\hline\n",
       "\t SRS052555 & SRS052555 & 0.0000000\\\\\n",
       "\t SRS018559 & SRS052555 & 0.7177741\\\\\n",
       "\t SRS062610 & SRS052555 & 0.6443183\\\\\n",
       "\t SRS017641 & SRS052555 & 0.6747327\\\\\n",
       "\t SRS014999 & SRS052555 & 0.6996822\\\\\n",
       "\t SRS051609 & SRS052555 & 0.6615088\\\\\n",
       "\\end{tabular}\n"
      ],
      "text/markdown": [
       "\n",
       "X1 | variable | value | \n",
       "|---|---|---|---|---|---|\n",
       "| SRS052555 | SRS052555 | 0.0000000 | \n",
       "| SRS018559 | SRS052555 | 0.7177741 | \n",
       "| SRS062610 | SRS052555 | 0.6443183 | \n",
       "| SRS017641 | SRS052555 | 0.6747327 | \n",
       "| SRS014999 | SRS052555 | 0.6996822 | \n",
       "| SRS051609 | SRS052555 | 0.6615088 | \n",
       "\n",
       "\n"
      ],
      "text/plain": [
       "  X1        variable  value    \n",
       "1 SRS052555 SRS052555 0.0000000\n",
       "2 SRS018559 SRS052555 0.7177741\n",
       "3 SRS062610 SRS052555 0.6443183\n",
       "4 SRS017641 SRS052555 0.6747327\n",
       "5 SRS014999 SRS052555 0.6996822\n",
       "6 SRS051609 SRS052555 0.6615088"
      ]
     },
     "metadata": {},
     "output_type": "display_data"
    }
   ],
   "source": [
    "head(tmp)"
   ]
  },
  {
   "cell_type": "code",
   "execution_count": 66,
   "metadata": {},
   "outputs": [],
   "source": [
    "tmp$variable <- as.character(tmp$variable)"
   ]
  },
  {
   "cell_type": "code",
   "execution_count": 67,
   "metadata": {},
   "outputs": [
    {
     "data": {
      "text/html": [
       "<table>\n",
       "<thead><tr><th scope=col>first</th><th scope=col>second</th><th scope=col>value</th></tr></thead>\n",
       "<tbody>\n",
       "\t<tr><td>SRS052555</td><td>SRS052555</td><td>0.0000000</td></tr>\n",
       "\t<tr><td>SRS018559</td><td>SRS052555</td><td>0.7177741</td></tr>\n",
       "\t<tr><td>SRS062610</td><td>SRS052555</td><td>0.6443183</td></tr>\n",
       "\t<tr><td>SRS017641</td><td>SRS052555</td><td>0.6747327</td></tr>\n",
       "\t<tr><td>SRS014999</td><td>SRS052555</td><td>0.6996822</td></tr>\n",
       "\t<tr><td>SRS051609</td><td>SRS052555</td><td>0.6615088</td></tr>\n",
       "</tbody>\n",
       "</table>\n"
      ],
      "text/latex": [
       "\\begin{tabular}{r|lll}\n",
       " first & second & value\\\\\n",
       "\\hline\n",
       "\t SRS052555 & SRS052555 & 0.0000000\\\\\n",
       "\t SRS018559 & SRS052555 & 0.7177741\\\\\n",
       "\t SRS062610 & SRS052555 & 0.6443183\\\\\n",
       "\t SRS017641 & SRS052555 & 0.6747327\\\\\n",
       "\t SRS014999 & SRS052555 & 0.6996822\\\\\n",
       "\t SRS051609 & SRS052555 & 0.6615088\\\\\n",
       "\\end{tabular}\n"
      ],
      "text/markdown": [
       "\n",
       "first | second | value | \n",
       "|---|---|---|---|---|---|\n",
       "| SRS052555 | SRS052555 | 0.0000000 | \n",
       "| SRS018559 | SRS052555 | 0.7177741 | \n",
       "| SRS062610 | SRS052555 | 0.6443183 | \n",
       "| SRS017641 | SRS052555 | 0.6747327 | \n",
       "| SRS014999 | SRS052555 | 0.6996822 | \n",
       "| SRS051609 | SRS052555 | 0.6615088 | \n",
       "\n",
       "\n"
      ],
      "text/plain": [
       "  first     second    value    \n",
       "1 SRS052555 SRS052555 0.0000000\n",
       "2 SRS018559 SRS052555 0.7177741\n",
       "3 SRS062610 SRS052555 0.6443183\n",
       "4 SRS017641 SRS052555 0.6747327\n",
       "5 SRS014999 SRS052555 0.6996822\n",
       "6 SRS051609 SRS052555 0.6615088"
      ]
     },
     "metadata": {},
     "output_type": "display_data"
    }
   ],
   "source": [
    "colnames(tmp) <- c(\"first\", \"second\", \"value\")\n",
    "head(tmp)"
   ]
  },
  {
   "cell_type": "code",
   "execution_count": 41,
   "metadata": {},
   "outputs": [],
   "source": [
    "tmp$Sample <- ifelse(startsWith(tmp$first, \"SRS\"),\"HMP\", \"Korean\")\n"
   ]
  },
  {
   "cell_type": "code",
   "execution_count": 69,
   "metadata": {},
   "outputs": [
    {
     "data": {
      "text/html": [
       "<table>\n",
       "<thead><tr><th scope=col>first</th><th scope=col>second</th><th scope=col>value</th></tr></thead>\n",
       "<tbody>\n",
       "\t<tr><td>SRS052555</td><td>SRS052555</td><td>0.0000000</td></tr>\n",
       "\t<tr><td>SRS018559</td><td>SRS052555</td><td>0.7177741</td></tr>\n",
       "\t<tr><td>SRS062610</td><td>SRS052555</td><td>0.6443183</td></tr>\n",
       "\t<tr><td>SRS017641</td><td>SRS052555</td><td>0.6747327</td></tr>\n",
       "\t<tr><td>SRS014999</td><td>SRS052555</td><td>0.6996822</td></tr>\n",
       "\t<tr><td>SRS051609</td><td>SRS052555</td><td>0.6615088</td></tr>\n",
       "</tbody>\n",
       "</table>\n"
      ],
      "text/latex": [
       "\\begin{tabular}{r|lll}\n",
       " first & second & value\\\\\n",
       "\\hline\n",
       "\t SRS052555 & SRS052555 & 0.0000000\\\\\n",
       "\t SRS018559 & SRS052555 & 0.7177741\\\\\n",
       "\t SRS062610 & SRS052555 & 0.6443183\\\\\n",
       "\t SRS017641 & SRS052555 & 0.6747327\\\\\n",
       "\t SRS014999 & SRS052555 & 0.6996822\\\\\n",
       "\t SRS051609 & SRS052555 & 0.6615088\\\\\n",
       "\\end{tabular}\n"
      ],
      "text/markdown": [
       "\n",
       "first | second | value | \n",
       "|---|---|---|---|---|---|\n",
       "| SRS052555 | SRS052555 | 0.0000000 | \n",
       "| SRS018559 | SRS052555 | 0.7177741 | \n",
       "| SRS062610 | SRS052555 | 0.6443183 | \n",
       "| SRS017641 | SRS052555 | 0.6747327 | \n",
       "| SRS014999 | SRS052555 | 0.6996822 | \n",
       "| SRS051609 | SRS052555 | 0.6615088 | \n",
       "\n",
       "\n"
      ],
      "text/plain": [
       "  first     second    value    \n",
       "1 SRS052555 SRS052555 0.0000000\n",
       "2 SRS018559 SRS052555 0.7177741\n",
       "3 SRS062610 SRS052555 0.6443183\n",
       "4 SRS017641 SRS052555 0.6747327\n",
       "5 SRS014999 SRS052555 0.6996822\n",
       "6 SRS051609 SRS052555 0.6615088"
      ]
     },
     "metadata": {},
     "output_type": "display_data"
    }
   ],
   "source": [
    "head(tmp)"
   ]
  },
  {
   "cell_type": "code",
   "execution_count": 76,
   "metadata": {},
   "outputs": [
    {
     "data": {
      "text/html": [
       "<table>\n",
       "<thead><tr><th scope=col>first</th><th scope=col>second</th><th scope=col>value</th></tr></thead>\n",
       "<tbody>\n",
       "\t<tr><td>SRS052555</td><td>SRS052555</td><td>0.0000000</td></tr>\n",
       "\t<tr><td>SRS018559</td><td>SRS052555</td><td>0.7177741</td></tr>\n",
       "\t<tr><td>SRS062610</td><td>SRS052555</td><td>0.6443183</td></tr>\n",
       "\t<tr><td>SRS017641</td><td>SRS052555</td><td>0.6747327</td></tr>\n",
       "\t<tr><td>SRS014999</td><td>SRS052555</td><td>0.6996822</td></tr>\n",
       "\t<tr><td>SRS051609</td><td>SRS052555</td><td>0.6615088</td></tr>\n",
       "</tbody>\n",
       "</table>\n"
      ],
      "text/latex": [
       "\\begin{tabular}{r|lll}\n",
       " first & second & value\\\\\n",
       "\\hline\n",
       "\t SRS052555 & SRS052555 & 0.0000000\\\\\n",
       "\t SRS018559 & SRS052555 & 0.7177741\\\\\n",
       "\t SRS062610 & SRS052555 & 0.6443183\\\\\n",
       "\t SRS017641 & SRS052555 & 0.6747327\\\\\n",
       "\t SRS014999 & SRS052555 & 0.6996822\\\\\n",
       "\t SRS051609 & SRS052555 & 0.6615088\\\\\n",
       "\\end{tabular}\n"
      ],
      "text/markdown": [
       "\n",
       "first | second | value | \n",
       "|---|---|---|---|---|---|\n",
       "| SRS052555 | SRS052555 | 0.0000000 | \n",
       "| SRS018559 | SRS052555 | 0.7177741 | \n",
       "| SRS062610 | SRS052555 | 0.6443183 | \n",
       "| SRS017641 | SRS052555 | 0.6747327 | \n",
       "| SRS014999 | SRS052555 | 0.6996822 | \n",
       "| SRS051609 | SRS052555 | 0.6615088 | \n",
       "\n",
       "\n"
      ],
      "text/plain": [
       "  first     second    value    \n",
       "1 SRS052555 SRS052555 0.0000000\n",
       "2 SRS018559 SRS052555 0.7177741\n",
       "3 SRS062610 SRS052555 0.6443183\n",
       "4 SRS017641 SRS052555 0.6747327\n",
       "5 SRS014999 SRS052555 0.6996822\n",
       "6 SRS051609 SRS052555 0.6615088"
      ]
     },
     "metadata": {},
     "output_type": "display_data"
    }
   ],
   "source": [
    "hmp <- tmp %>% filter(str_detect(first, \"SRS\")) %>% filter(str_detect(second, \"SRS\"))\n",
    "head(hmp)"
   ]
  },
  {
   "cell_type": "code",
   "execution_count": 77,
   "metadata": {},
   "outputs": [
    {
     "data": {
      "text/html": [
       "<table>\n",
       "<thead><tr><th scope=col>first</th><th scope=col>second</th><th scope=col>value</th></tr></thead>\n",
       "<tbody>\n",
       "\t<tr><td>normal67 </td><td>normal67 </td><td>0.0000000</td></tr>\n",
       "\t<tr><td>normal66 </td><td>normal67 </td><td>0.6666632</td></tr>\n",
       "\t<tr><td>normal68 </td><td>normal67 </td><td>0.6085548</td></tr>\n",
       "\t<tr><td>normal15 </td><td>normal67 </td><td>0.6546408</td></tr>\n",
       "\t<tr><td>ND007    </td><td>normal67 </td><td>0.5971071</td></tr>\n",
       "\t<tr><td>ND002    </td><td>normal67 </td><td>0.6210559</td></tr>\n",
       "</tbody>\n",
       "</table>\n"
      ],
      "text/latex": [
       "\\begin{tabular}{r|lll}\n",
       " first & second & value\\\\\n",
       "\\hline\n",
       "\t normal67  & normal67  & 0.0000000\\\\\n",
       "\t normal66  & normal67  & 0.6666632\\\\\n",
       "\t normal68  & normal67  & 0.6085548\\\\\n",
       "\t normal15  & normal67  & 0.6546408\\\\\n",
       "\t ND007     & normal67  & 0.5971071\\\\\n",
       "\t ND002     & normal67  & 0.6210559\\\\\n",
       "\\end{tabular}\n"
      ],
      "text/markdown": [
       "\n",
       "first | second | value | \n",
       "|---|---|---|---|---|---|\n",
       "| normal67  | normal67  | 0.0000000 | \n",
       "| normal66  | normal67  | 0.6666632 | \n",
       "| normal68  | normal67  | 0.6085548 | \n",
       "| normal15  | normal67  | 0.6546408 | \n",
       "| ND007     | normal67  | 0.5971071 | \n",
       "| ND002     | normal67  | 0.6210559 | \n",
       "\n",
       "\n"
      ],
      "text/plain": [
       "  first    second   value    \n",
       "1 normal67 normal67 0.0000000\n",
       "2 normal66 normal67 0.6666632\n",
       "3 normal68 normal67 0.6085548\n",
       "4 normal15 normal67 0.6546408\n",
       "5 ND007    normal67 0.5971071\n",
       "6 ND002    normal67 0.6210559"
      ]
     },
     "metadata": {},
     "output_type": "display_data"
    }
   ],
   "source": [
    "kor <- tmp %>% filter(str_detect(first, \"N|n\")) %>% filter(str_detect(second, \"N|n\"))\n",
    "head(kor)\n"
   ]
  },
  {
   "cell_type": "code",
   "execution_count": 78,
   "metadata": {},
   "outputs": [
    {
     "data": {
      "text/html": [
       "0.663874531530522"
      ],
      "text/latex": [
       "0.663874531530522"
      ],
      "text/markdown": [
       "0.663874531530522"
      ],
      "text/plain": [
       "[1] 0.6638745"
      ]
     },
     "metadata": {},
     "output_type": "display_data"
    },
    {
     "data": {
      "text/html": [
       "0.704530266810597"
      ],
      "text/latex": [
       "0.704530266810597"
      ],
      "text/markdown": [
       "0.704530266810597"
      ],
      "text/plain": [
       "[1] 0.7045303"
      ]
     },
     "metadata": {},
     "output_type": "display_data"
    }
   ],
   "source": [
    "mean(kor$value)\n",
    "mean(hmp$value)"
   ]
  },
  {
   "cell_type": "code",
   "execution_count": null,
   "metadata": {},
   "outputs": [],
   "source": []
  }
 ],
 "metadata": {
  "kernelspec": {
   "display_name": "R",
   "language": "R",
   "name": "ir"
  },
  "language_info": {
   "codemirror_mode": "r",
   "file_extension": ".r",
   "mimetype": "text/x-r-source",
   "name": "R",
   "pygments_lexer": "r",
   "version": "3.4.3"
  }
 },
 "nbformat": 4,
 "nbformat_minor": 2
}
