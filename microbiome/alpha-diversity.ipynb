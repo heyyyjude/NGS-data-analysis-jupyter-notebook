{
 "cells": [
  {
   "cell_type": "code",
   "execution_count": 1,
   "metadata": {},
   "outputs": [
    {
     "name": "stderr",
     "output_type": "stream",
     "text": [
      "Warning message:\n",
      "\"package 'tidyverse' was built under R version 3.4.4\"-- Attaching packages --------------------------------------- tidyverse 1.2.1 --\n",
      "√ ggplot2 2.2.1     √ purrr   0.2.4\n",
      "√ tibble  1.4.2     √ dplyr   0.7.4\n",
      "√ tidyr   0.8.0     √ stringr 1.3.0\n",
      "√ readr   1.1.1     √ forcats 0.3.0\n",
      "-- Conflicts ------------------------------------------ tidyverse_conflicts() --\n",
      "x dplyr::filter() masks stats::filter()\n",
      "x dplyr::lag()    masks stats::lag()\n"
     ]
    }
   ],
   "source": [
    "library(tidyverse)"
   ]
  },
  {
   "cell_type": "code",
   "execution_count": 2,
   "metadata": {},
   "outputs": [
    {
     "name": "stderr",
     "output_type": "stream",
     "text": [
      "Parsed with column specification:\n",
      "cols(\n",
      "  .default = col_double()\n",
      ")\n",
      "See spec(...) for full column specifications.\n"
     ]
    },
    {
     "data": {
      "text/html": [
       "<table>\n",
       "<thead><tr><th scope=col>SRS024511</th><th scope=col>SRS052433</th><th scope=col>SRS064276</th><th scope=col>SRS055482</th><th scope=col>SRS021910</th><th scope=col>SRS015578</th><th scope=col>SRS063324</th><th scope=col>SRS015247</th><th scope=col>SRS062464</th><th scope=col>SRS052697</th><th scope=col>...</th><th scope=col>SRS047561</th><th scope=col>normal47</th><th scope=col>SRS017394</th><th scope=col>SRS024568</th><th scope=col>SRS016267</th><th scope=col>SRS016437</th><th scope=col>SRS013216</th><th scope=col>normal86</th><th scope=col>SRS023914</th><th scope=col>normal96</th></tr></thead>\n",
       "<tbody>\n",
       "\t<tr><td>7.829495</td><td>5.162691</td><td>7.641128</td><td>7.412441</td><td>7.989978</td><td>7.459786</td><td>5.757802</td><td>6.850173</td><td>7.931501</td><td>8.241329</td><td>...     </td><td>6.803807</td><td>3.811434</td><td>6.965053</td><td>6.341949</td><td>6.890252</td><td>6.659744</td><td>5.690504</td><td>4.571939</td><td>6.911304</td><td>5.686784</td></tr>\n",
       "\t<tr><td>7.711558</td><td>5.132068</td><td>7.659751</td><td>7.328706</td><td>7.863332</td><td>7.375920</td><td>5.856156</td><td>6.959987</td><td>7.966801</td><td>8.266709</td><td>...     </td><td>6.859206</td><td>3.778073</td><td>6.996679</td><td>6.290641</td><td>6.829701</td><td>6.672768</td><td>5.697864</td><td>4.549528</td><td>6.923613</td><td>5.682353</td></tr>\n",
       "\t<tr><td>7.805917</td><td>5.157931</td><td>7.739236</td><td>7.325335</td><td>7.871295</td><td>7.310026</td><td>5.870101</td><td>6.939067</td><td>7.956859</td><td>8.251073</td><td>...     </td><td>6.874596</td><td>3.941642</td><td>6.953442</td><td>6.320502</td><td>6.872187</td><td>6.680857</td><td>5.773274</td><td>4.605008</td><td>6.938409</td><td>5.655999</td></tr>\n",
       "\t<tr><td>7.813254</td><td>5.168263</td><td>7.607753</td><td>7.373732</td><td>7.904795</td><td>7.435647</td><td>5.828646</td><td>6.901958</td><td>8.011869</td><td>8.354789</td><td>...     </td><td>6.866249</td><td>3.891702</td><td>7.029865</td><td>6.305363</td><td>6.856721</td><td>6.657110</td><td>5.699411</td><td>4.527008</td><td>6.955051</td><td>5.665813</td></tr>\n",
       "\t<tr><td>7.790877</td><td>5.147589</td><td>7.640816</td><td>7.327231</td><td>7.857423</td><td>7.333099</td><td>5.843590</td><td>6.969316</td><td>8.000886</td><td>8.275634</td><td>...     </td><td>6.829026</td><td>3.890309</td><td>7.060807</td><td>6.297968</td><td>6.849620</td><td>6.692234</td><td>5.633336</td><td>4.554628</td><td>6.938749</td><td>5.617618</td></tr>\n",
       "\t<tr><td>7.792253</td><td>5.147154</td><td>7.672550</td><td>7.413791</td><td>7.853191</td><td>7.438524</td><td>5.885481</td><td>6.955842</td><td>7.911026</td><td>8.227226</td><td>...     </td><td>6.878292</td><td>3.804239</td><td>6.998401</td><td>6.305646</td><td>6.866771</td><td>6.665450</td><td>5.694332</td><td>4.519482</td><td>6.931932</td><td>5.739530</td></tr>\n",
       "</tbody>\n",
       "</table>\n"
      ],
      "text/latex": [
       "\\begin{tabular}{r|lllllllllllllllllllllllllllllllllllllllllllllllllllllllllllllllllllllllllllllllllllllllllllllllllllllllllllllllllllllllllllllllllllllllllllllllllllllllllllllllllllllllllllllllllllllllllllllllllllllllllllllllllllllllllllllllllllllllllllllllllllllllllllllllllllllllllllllllllllllllllllllllllllllllllllllllllllllllllllllllllllllllllllllllllllllllllllllllllll}\n",
       " SRS024511 & SRS052433 & SRS064276 & SRS055482 & SRS021910 & SRS015578 & SRS063324 & SRS015247 & SRS062464 & SRS052697 & ... & SRS047561 & normal47 & SRS017394 & SRS024568 & SRS016267 & SRS016437 & SRS013216 & normal86 & SRS023914 & normal96\\\\\n",
       "\\hline\n",
       "\t 7.829495 & 5.162691 & 7.641128 & 7.412441 & 7.989978 & 7.459786 & 5.757802 & 6.850173 & 7.931501 & 8.241329 & ...      & 6.803807 & 3.811434 & 6.965053 & 6.341949 & 6.890252 & 6.659744 & 5.690504 & 4.571939 & 6.911304 & 5.686784\\\\\n",
       "\t 7.711558 & 5.132068 & 7.659751 & 7.328706 & 7.863332 & 7.375920 & 5.856156 & 6.959987 & 7.966801 & 8.266709 & ...      & 6.859206 & 3.778073 & 6.996679 & 6.290641 & 6.829701 & 6.672768 & 5.697864 & 4.549528 & 6.923613 & 5.682353\\\\\n",
       "\t 7.805917 & 5.157931 & 7.739236 & 7.325335 & 7.871295 & 7.310026 & 5.870101 & 6.939067 & 7.956859 & 8.251073 & ...      & 6.874596 & 3.941642 & 6.953442 & 6.320502 & 6.872187 & 6.680857 & 5.773274 & 4.605008 & 6.938409 & 5.655999\\\\\n",
       "\t 7.813254 & 5.168263 & 7.607753 & 7.373732 & 7.904795 & 7.435647 & 5.828646 & 6.901958 & 8.011869 & 8.354789 & ...      & 6.866249 & 3.891702 & 7.029865 & 6.305363 & 6.856721 & 6.657110 & 5.699411 & 4.527008 & 6.955051 & 5.665813\\\\\n",
       "\t 7.790877 & 5.147589 & 7.640816 & 7.327231 & 7.857423 & 7.333099 & 5.843590 & 6.969316 & 8.000886 & 8.275634 & ...      & 6.829026 & 3.890309 & 7.060807 & 6.297968 & 6.849620 & 6.692234 & 5.633336 & 4.554628 & 6.938749 & 5.617618\\\\\n",
       "\t 7.792253 & 5.147154 & 7.672550 & 7.413791 & 7.853191 & 7.438524 & 5.885481 & 6.955842 & 7.911026 & 8.227226 & ...      & 6.878292 & 3.804239 & 6.998401 & 6.305646 & 6.866771 & 6.665450 & 5.694332 & 4.519482 & 6.931932 & 5.739530\\\\\n",
       "\\end{tabular}\n"
      ],
      "text/markdown": [
       "\n",
       "SRS024511 | SRS052433 | SRS064276 | SRS055482 | SRS021910 | SRS015578 | SRS063324 | SRS015247 | SRS062464 | SRS052697 | ... | SRS047561 | normal47 | SRS017394 | SRS024568 | SRS016267 | SRS016437 | SRS013216 | normal86 | SRS023914 | normal96 | \n",
       "|---|---|---|---|---|---|\n",
       "| 7.829495 | 5.162691 | 7.641128 | 7.412441 | 7.989978 | 7.459786 | 5.757802 | 6.850173 | 7.931501 | 8.241329 | ...      | 6.803807 | 3.811434 | 6.965053 | 6.341949 | 6.890252 | 6.659744 | 5.690504 | 4.571939 | 6.911304 | 5.686784 | \n",
       "| 7.711558 | 5.132068 | 7.659751 | 7.328706 | 7.863332 | 7.375920 | 5.856156 | 6.959987 | 7.966801 | 8.266709 | ...      | 6.859206 | 3.778073 | 6.996679 | 6.290641 | 6.829701 | 6.672768 | 5.697864 | 4.549528 | 6.923613 | 5.682353 | \n",
       "| 7.805917 | 5.157931 | 7.739236 | 7.325335 | 7.871295 | 7.310026 | 5.870101 | 6.939067 | 7.956859 | 8.251073 | ...      | 6.874596 | 3.941642 | 6.953442 | 6.320502 | 6.872187 | 6.680857 | 5.773274 | 4.605008 | 6.938409 | 5.655999 | \n",
       "| 7.813254 | 5.168263 | 7.607753 | 7.373732 | 7.904795 | 7.435647 | 5.828646 | 6.901958 | 8.011869 | 8.354789 | ...      | 6.866249 | 3.891702 | 7.029865 | 6.305363 | 6.856721 | 6.657110 | 5.699411 | 4.527008 | 6.955051 | 5.665813 | \n",
       "| 7.790877 | 5.147589 | 7.640816 | 7.327231 | 7.857423 | 7.333099 | 5.843590 | 6.969316 | 8.000886 | 8.275634 | ...      | 6.829026 | 3.890309 | 7.060807 | 6.297968 | 6.849620 | 6.692234 | 5.633336 | 4.554628 | 6.938749 | 5.617618 | \n",
       "| 7.792253 | 5.147154 | 7.672550 | 7.413791 | 7.853191 | 7.438524 | 5.885481 | 6.955842 | 7.911026 | 8.227226 | ...      | 6.878292 | 3.804239 | 6.998401 | 6.305646 | 6.866771 | 6.665450 | 5.694332 | 4.519482 | 6.931932 | 5.739530 | \n",
       "\n",
       "\n"
      ],
      "text/plain": [
       "  SRS024511 SRS052433 SRS064276 SRS055482 SRS021910 SRS015578 SRS063324\n",
       "1 7.829495  5.162691  7.641128  7.412441  7.989978  7.459786  5.757802 \n",
       "2 7.711558  5.132068  7.659751  7.328706  7.863332  7.375920  5.856156 \n",
       "3 7.805917  5.157931  7.739236  7.325335  7.871295  7.310026  5.870101 \n",
       "4 7.813254  5.168263  7.607753  7.373732  7.904795  7.435647  5.828646 \n",
       "5 7.790877  5.147589  7.640816  7.327231  7.857423  7.333099  5.843590 \n",
       "6 7.792253  5.147154  7.672550  7.413791  7.853191  7.438524  5.885481 \n",
       "  SRS015247 SRS062464 SRS052697 ... SRS047561 normal47 SRS017394 SRS024568\n",
       "1 6.850173  7.931501  8.241329  ... 6.803807  3.811434 6.965053  6.341949 \n",
       "2 6.959987  7.966801  8.266709  ... 6.859206  3.778073 6.996679  6.290641 \n",
       "3 6.939067  7.956859  8.251073  ... 6.874596  3.941642 6.953442  6.320502 \n",
       "4 6.901958  8.011869  8.354789  ... 6.866249  3.891702 7.029865  6.305363 \n",
       "5 6.969316  8.000886  8.275634  ... 6.829026  3.890309 7.060807  6.297968 \n",
       "6 6.955842  7.911026  8.227226  ... 6.878292  3.804239 6.998401  6.305646 \n",
       "  SRS016267 SRS016437 SRS013216 normal86 SRS023914 normal96\n",
       "1 6.890252  6.659744  5.690504  4.571939 6.911304  5.686784\n",
       "2 6.829701  6.672768  5.697864  4.549528 6.923613  5.682353\n",
       "3 6.872187  6.680857  5.773274  4.605008 6.938409  5.655999\n",
       "4 6.856721  6.657110  5.699411  4.527008 6.955051  5.665813\n",
       "5 6.849620  6.692234  5.633336  4.554628 6.938749  5.617618\n",
       "6 6.866771  6.665450  5.694332  4.519482 6.931932  5.739530"
      ]
     },
     "metadata": {},
     "output_type": "display_data"
    }
   ],
   "source": [
    "shannon <- \"07.Diversity/arare_max3000//alpha_div_collated/shannon.tsv\"\n",
    "sh.df <- read_tsv(shannon)\n",
    "head(sh.df)"
   ]
  },
  {
   "cell_type": "code",
   "execution_count": 3,
   "metadata": {},
   "outputs": [
    {
     "data": {
      "text/html": [
       "<table>\n",
       "<thead><tr><th scope=col>Sample</th><th scope=col>value</th></tr></thead>\n",
       "<tbody>\n",
       "\t<tr><td>SRS024511</td><td>7.829495 </td></tr>\n",
       "\t<tr><td>SRS024511</td><td>7.711558 </td></tr>\n",
       "\t<tr><td>SRS024511</td><td>7.805917 </td></tr>\n",
       "\t<tr><td>SRS024511</td><td>7.813254 </td></tr>\n",
       "\t<tr><td>SRS024511</td><td>7.790877 </td></tr>\n",
       "\t<tr><td>SRS024511</td><td>7.792253 </td></tr>\n",
       "</tbody>\n",
       "</table>\n"
      ],
      "text/latex": [
       "\\begin{tabular}{r|ll}\n",
       " Sample & value\\\\\n",
       "\\hline\n",
       "\t SRS024511 & 7.829495 \\\\\n",
       "\t SRS024511 & 7.711558 \\\\\n",
       "\t SRS024511 & 7.805917 \\\\\n",
       "\t SRS024511 & 7.813254 \\\\\n",
       "\t SRS024511 & 7.790877 \\\\\n",
       "\t SRS024511 & 7.792253 \\\\\n",
       "\\end{tabular}\n"
      ],
      "text/markdown": [
       "\n",
       "Sample | value | \n",
       "|---|---|---|---|---|---|\n",
       "| SRS024511 | 7.829495  | \n",
       "| SRS024511 | 7.711558  | \n",
       "| SRS024511 | 7.805917  | \n",
       "| SRS024511 | 7.813254  | \n",
       "| SRS024511 | 7.790877  | \n",
       "| SRS024511 | 7.792253  | \n",
       "\n",
       "\n"
      ],
      "text/plain": [
       "  Sample    value   \n",
       "1 SRS024511 7.829495\n",
       "2 SRS024511 7.711558\n",
       "3 SRS024511 7.805917\n",
       "4 SRS024511 7.813254\n",
       "5 SRS024511 7.790877\n",
       "6 SRS024511 7.792253"
      ]
     },
     "metadata": {},
     "output_type": "display_data"
    }
   ],
   "source": [
    "sh.df.long <- sh.df %>% gather(Sample, value)\n",
    "head(sh.df.long)"
   ]
  },
  {
   "cell_type": "code",
   "execution_count": 4,
   "metadata": {},
   "outputs": [
    {
     "data": {
      "text/html": [
       "<table>\n",
       "<thead><tr><th scope=col>Sample</th><th scope=col>value</th><th scope=col>Description</th></tr></thead>\n",
       "<tbody>\n",
       "\t<tr><td>SRS024511</td><td>7.829495 </td><td>HMP      </td></tr>\n",
       "\t<tr><td>SRS024511</td><td>7.711558 </td><td>HMP      </td></tr>\n",
       "\t<tr><td>SRS024511</td><td>7.805917 </td><td>HMP      </td></tr>\n",
       "\t<tr><td>SRS024511</td><td>7.813254 </td><td>HMP      </td></tr>\n",
       "\t<tr><td>SRS024511</td><td>7.790877 </td><td>HMP      </td></tr>\n",
       "\t<tr><td>SRS024511</td><td>7.792253 </td><td>HMP      </td></tr>\n",
       "</tbody>\n",
       "</table>\n"
      ],
      "text/latex": [
       "\\begin{tabular}{r|lll}\n",
       " Sample & value & Description\\\\\n",
       "\\hline\n",
       "\t SRS024511 & 7.829495  & HMP      \\\\\n",
       "\t SRS024511 & 7.711558  & HMP      \\\\\n",
       "\t SRS024511 & 7.805917  & HMP      \\\\\n",
       "\t SRS024511 & 7.813254  & HMP      \\\\\n",
       "\t SRS024511 & 7.790877  & HMP      \\\\\n",
       "\t SRS024511 & 7.792253  & HMP      \\\\\n",
       "\\end{tabular}\n"
      ],
      "text/markdown": [
       "\n",
       "Sample | value | Description | \n",
       "|---|---|---|---|---|---|\n",
       "| SRS024511 | 7.829495  | HMP       | \n",
       "| SRS024511 | 7.711558  | HMP       | \n",
       "| SRS024511 | 7.805917  | HMP       | \n",
       "| SRS024511 | 7.813254  | HMP       | \n",
       "| SRS024511 | 7.790877  | HMP       | \n",
       "| SRS024511 | 7.792253  | HMP       | \n",
       "\n",
       "\n"
      ],
      "text/plain": [
       "  Sample    value    Description\n",
       "1 SRS024511 7.829495 HMP        \n",
       "2 SRS024511 7.711558 HMP        \n",
       "3 SRS024511 7.805917 HMP        \n",
       "4 SRS024511 7.813254 HMP        \n",
       "5 SRS024511 7.790877 HMP        \n",
       "6 SRS024511 7.792253 HMP        "
      ]
     },
     "metadata": {},
     "output_type": "display_data"
    }
   ],
   "source": [
    "sh.df.long$Description <- ifelse(startsWith(sh.df.long$Sample, \"SR\"), \"HMP\", \"Korean\")\n",
    "head(sh.df.long)"
   ]
  },
  {
   "cell_type": "code",
   "execution_count": 6,
   "metadata": {},
   "outputs": [
    {
     "data": {},
     "metadata": {},
     "output_type": "display_data"
    },
    {
     "data": {
      "image/png": "[encoded data removed]",
      "text/plain": [
       "plot without title"
      ]
     },
     "metadata": {},
     "output_type": "display_data"
    }
   ],
   "source": [
    "ggplot(sh.df.long) + geom_boxplot(aes(x=Description, y=value, fill=Description)) + theme_bw() + ggtitle(\"Shannon Index\") + \n",
    "theme(plot.title = element_text(hjust = 0.5)) + ylab(\"\") + xlab(\"\")\n"
   ]
  },
  {
   "cell_type": "code",
   "execution_count": 5,
   "metadata": {},
   "outputs": [
    {
     "name": "stderr",
     "output_type": "stream",
     "text": [
      "Parsed with column specification:\n",
      "cols(\n",
      "  .default = col_double()\n",
      ")\n",
      "See spec(...) for full column specifications.\n"
     ]
    },
    {
     "data": {
      "text/html": [
       "<table>\n",
       "<thead><tr><th scope=col>SRS024511</th><th scope=col>SRS052433</th><th scope=col>SRS064276</th><th scope=col>SRS055482</th><th scope=col>SRS021910</th><th scope=col>SRS015578</th><th scope=col>SRS063324</th><th scope=col>SRS015247</th><th scope=col>SRS062464</th><th scope=col>SRS052697</th><th scope=col>...</th><th scope=col>SRS047561</th><th scope=col>normal47</th><th scope=col>SRS017394</th><th scope=col>SRS024568</th><th scope=col>SRS016267</th><th scope=col>SRS016437</th><th scope=col>SRS013216</th><th scope=col>normal86</th><th scope=col>SRS023914</th><th scope=col>normal96</th></tr></thead>\n",
       "<tbody>\n",
       "\t<tr><td>24.33746</td><td>20.86242</td><td>24.37058</td><td>22.37561</td><td>28.21669</td><td>21.72889</td><td>17.92279</td><td>23.60984</td><td>24.69815</td><td>29.41655</td><td>...     </td><td>16.40978</td><td>5.82771 </td><td>16.82301</td><td>12.81734</td><td>17.63173</td><td>11.61468</td><td>10.91119</td><td>12.48450</td><td>21.15380</td><td> 9.71811</td></tr>\n",
       "\t<tr><td>22.93748</td><td>20.55998</td><td>23.61100</td><td>20.57843</td><td>27.60693</td><td>21.53065</td><td>19.11548</td><td>22.65191</td><td>24.44629</td><td>28.86649</td><td>...     </td><td>17.72533</td><td>5.73187 </td><td>16.65003</td><td>13.46830</td><td>17.54959</td><td>10.75672</td><td>11.37980</td><td>12.26187</td><td>20.59556</td><td> 9.96433</td></tr>\n",
       "\t<tr><td>23.24513</td><td>20.86415</td><td>25.08825</td><td>22.88980</td><td>27.63913</td><td>20.83064</td><td>18.59157</td><td>22.36154</td><td>24.11982</td><td>28.12233</td><td>...     </td><td>17.07145</td><td>5.77533 </td><td>16.14503</td><td>13.92168</td><td>16.04409</td><td>11.80287</td><td>11.43742</td><td>13.15908</td><td>20.53921</td><td>10.26189</td></tr>\n",
       "\t<tr><td>24.05774</td><td>20.85350</td><td>23.77126</td><td>21.72602</td><td>27.80063</td><td>22.02833</td><td>19.02211</td><td>22.89578</td><td>24.10881</td><td>30.02067</td><td>...     </td><td>17.67285</td><td>6.03889 </td><td>16.83814</td><td>13.31229</td><td>16.89503</td><td>11.46790</td><td>10.50652</td><td>12.72785</td><td>20.48014</td><td>10.59383</td></tr>\n",
       "\t<tr><td>22.84086</td><td>20.84531</td><td>23.63246</td><td>22.03945</td><td>27.49895</td><td>22.08103</td><td>18.66629</td><td>22.52591</td><td>23.55218</td><td>28.30090</td><td>...     </td><td>17.79053</td><td>5.58112 </td><td>16.99271</td><td>13.49859</td><td>16.49279</td><td>11.09942</td><td>11.29794</td><td>12.40887</td><td>20.61961</td><td> 9.96848</td></tr>\n",
       "\t<tr><td>23.55775</td><td>20.83067</td><td>25.30950</td><td>22.18741</td><td>27.61207</td><td>22.41942</td><td>19.39422</td><td>22.32969</td><td>23.99298</td><td>28.82250</td><td>...     </td><td>17.77758</td><td>6.08485 </td><td>15.64886</td><td>13.53244</td><td>15.90613</td><td>11.51145</td><td>10.47710</td><td>12.42916</td><td>21.08396</td><td>10.39060</td></tr>\n",
       "</tbody>\n",
       "</table>\n"
      ],
      "text/latex": [
       "\\begin{tabular}{r|lllllllllllllllllllllllllllllllllllllllllllllllllllllllllllllllllllllllllllllllllllllllllllllllllllllllllllllllllllllllllllllllllllllllllllllllllllllllllllllllllllllllllllllllllllllllllllllllllllllllllllllllllllllllllllllllllllllllllllllllllllllllllllllllllllllllllllllllllllllllllllllllllllllllllllllllllllllllllllllllllllllllllllllllllllllllllllllllllll}\n",
       " SRS024511 & SRS052433 & SRS064276 & SRS055482 & SRS021910 & SRS015578 & SRS063324 & SRS015247 & SRS062464 & SRS052697 & ... & SRS047561 & normal47 & SRS017394 & SRS024568 & SRS016267 & SRS016437 & SRS013216 & normal86 & SRS023914 & normal96\\\\\n",
       "\\hline\n",
       "\t 24.33746 & 20.86242 & 24.37058 & 22.37561 & 28.21669 & 21.72889 & 17.92279 & 23.60984 & 24.69815 & 29.41655 & ...      & 16.40978 & 5.82771  & 16.82301 & 12.81734 & 17.63173 & 11.61468 & 10.91119 & 12.48450 & 21.15380 &  9.71811\\\\\n",
       "\t 22.93748 & 20.55998 & 23.61100 & 20.57843 & 27.60693 & 21.53065 & 19.11548 & 22.65191 & 24.44629 & 28.86649 & ...      & 17.72533 & 5.73187  & 16.65003 & 13.46830 & 17.54959 & 10.75672 & 11.37980 & 12.26187 & 20.59556 &  9.96433\\\\\n",
       "\t 23.24513 & 20.86415 & 25.08825 & 22.88980 & 27.63913 & 20.83064 & 18.59157 & 22.36154 & 24.11982 & 28.12233 & ...      & 17.07145 & 5.77533  & 16.14503 & 13.92168 & 16.04409 & 11.80287 & 11.43742 & 13.15908 & 20.53921 & 10.26189\\\\\n",
       "\t 24.05774 & 20.85350 & 23.77126 & 21.72602 & 27.80063 & 22.02833 & 19.02211 & 22.89578 & 24.10881 & 30.02067 & ...      & 17.67285 & 6.03889  & 16.83814 & 13.31229 & 16.89503 & 11.46790 & 10.50652 & 12.72785 & 20.48014 & 10.59383\\\\\n",
       "\t 22.84086 & 20.84531 & 23.63246 & 22.03945 & 27.49895 & 22.08103 & 18.66629 & 22.52591 & 23.55218 & 28.30090 & ...      & 17.79053 & 5.58112  & 16.99271 & 13.49859 & 16.49279 & 11.09942 & 11.29794 & 12.40887 & 20.61961 &  9.96848\\\\\n",
       "\t 23.55775 & 20.83067 & 25.30950 & 22.18741 & 27.61207 & 22.41942 & 19.39422 & 22.32969 & 23.99298 & 28.82250 & ...      & 17.77758 & 6.08485  & 15.64886 & 13.53244 & 15.90613 & 11.51145 & 10.47710 & 12.42916 & 21.08396 & 10.39060\\\\\n",
       "\\end{tabular}\n"
      ],
      "text/markdown": [
       "\n",
       "SRS024511 | SRS052433 | SRS064276 | SRS055482 | SRS021910 | SRS015578 | SRS063324 | SRS015247 | SRS062464 | SRS052697 | ... | SRS047561 | normal47 | SRS017394 | SRS024568 | SRS016267 | SRS016437 | SRS013216 | normal86 | SRS023914 | normal96 | \n",
       "|---|---|---|---|---|---|\n",
       "| 24.33746 | 20.86242 | 24.37058 | 22.37561 | 28.21669 | 21.72889 | 17.92279 | 23.60984 | 24.69815 | 29.41655 | ...      | 16.40978 | 5.82771  | 16.82301 | 12.81734 | 17.63173 | 11.61468 | 10.91119 | 12.48450 | 21.15380 |  9.71811 | \n",
       "| 22.93748 | 20.55998 | 23.61100 | 20.57843 | 27.60693 | 21.53065 | 19.11548 | 22.65191 | 24.44629 | 28.86649 | ...      | 17.72533 | 5.73187  | 16.65003 | 13.46830 | 17.54959 | 10.75672 | 11.37980 | 12.26187 | 20.59556 |  9.96433 | \n",
       "| 23.24513 | 20.86415 | 25.08825 | 22.88980 | 27.63913 | 20.83064 | 18.59157 | 22.36154 | 24.11982 | 28.12233 | ...      | 17.07145 | 5.77533  | 16.14503 | 13.92168 | 16.04409 | 11.80287 | 11.43742 | 13.15908 | 20.53921 | 10.26189 | \n",
       "| 24.05774 | 20.85350 | 23.77126 | 21.72602 | 27.80063 | 22.02833 | 19.02211 | 22.89578 | 24.10881 | 30.02067 | ...      | 17.67285 | 6.03889  | 16.83814 | 13.31229 | 16.89503 | 11.46790 | 10.50652 | 12.72785 | 20.48014 | 10.59383 | \n",
       "| 22.84086 | 20.84531 | 23.63246 | 22.03945 | 27.49895 | 22.08103 | 18.66629 | 22.52591 | 23.55218 | 28.30090 | ...      | 17.79053 | 5.58112  | 16.99271 | 13.49859 | 16.49279 | 11.09942 | 11.29794 | 12.40887 | 20.61961 |  9.96848 | \n",
       "| 23.55775 | 20.83067 | 25.30950 | 22.18741 | 27.61207 | 22.41942 | 19.39422 | 22.32969 | 23.99298 | 28.82250 | ...      | 17.77758 | 6.08485  | 15.64886 | 13.53244 | 15.90613 | 11.51145 | 10.47710 | 12.42916 | 21.08396 | 10.39060 | \n",
       "\n",
       "\n"
      ],
      "text/plain": [
       "  SRS024511 SRS052433 SRS064276 SRS055482 SRS021910 SRS015578 SRS063324\n",
       "1 24.33746  20.86242  24.37058  22.37561  28.21669  21.72889  17.92279 \n",
       "2 22.93748  20.55998  23.61100  20.57843  27.60693  21.53065  19.11548 \n",
       "3 23.24513  20.86415  25.08825  22.88980  27.63913  20.83064  18.59157 \n",
       "4 24.05774  20.85350  23.77126  21.72602  27.80063  22.02833  19.02211 \n",
       "5 22.84086  20.84531  23.63246  22.03945  27.49895  22.08103  18.66629 \n",
       "6 23.55775  20.83067  25.30950  22.18741  27.61207  22.41942  19.39422 \n",
       "  SRS015247 SRS062464 SRS052697 ... SRS047561 normal47 SRS017394 SRS024568\n",
       "1 23.60984  24.69815  29.41655  ... 16.40978  5.82771  16.82301  12.81734 \n",
       "2 22.65191  24.44629  28.86649  ... 17.72533  5.73187  16.65003  13.46830 \n",
       "3 22.36154  24.11982  28.12233  ... 17.07145  5.77533  16.14503  13.92168 \n",
       "4 22.89578  24.10881  30.02067  ... 17.67285  6.03889  16.83814  13.31229 \n",
       "5 22.52591  23.55218  28.30090  ... 17.79053  5.58112  16.99271  13.49859 \n",
       "6 22.32969  23.99298  28.82250  ... 17.77758  6.08485  15.64886  13.53244 \n",
       "  SRS016267 SRS016437 SRS013216 normal86 SRS023914 normal96\n",
       "1 17.63173  11.61468  10.91119  12.48450 21.15380   9.71811\n",
       "2 17.54959  10.75672  11.37980  12.26187 20.59556   9.96433\n",
       "3 16.04409  11.80287  11.43742  13.15908 20.53921  10.26189\n",
       "4 16.89503  11.46790  10.50652  12.72785 20.48014  10.59383\n",
       "5 16.49279  11.09942  11.29794  12.40887 20.61961   9.96848\n",
       "6 15.90613  11.51145  10.47710  12.42916 21.08396  10.39060"
      ]
     },
     "metadata": {},
     "output_type": "display_data"
    }
   ],
   "source": [
    "pdtree <- \"07.Diversity/arare_max3000//alpha_div_collated/PD_whole_tree.tsv\"\n",
    "pd.df <- read_tsv(pdtree)\n",
    "head(pd.df)"
   ]
  },
  {
   "cell_type": "code",
   "execution_count": 6,
   "metadata": {},
   "outputs": [
    {
     "data": {
      "text/html": [
       "<table>\n",
       "<thead><tr><th scope=col>Sample</th><th scope=col>value</th></tr></thead>\n",
       "<tbody>\n",
       "\t<tr><td>SRS024511</td><td>24.33746 </td></tr>\n",
       "\t<tr><td>SRS024511</td><td>22.93748 </td></tr>\n",
       "\t<tr><td>SRS024511</td><td>23.24513 </td></tr>\n",
       "\t<tr><td>SRS024511</td><td>24.05774 </td></tr>\n",
       "\t<tr><td>SRS024511</td><td>22.84086 </td></tr>\n",
       "\t<tr><td>SRS024511</td><td>23.55775 </td></tr>\n",
       "</tbody>\n",
       "</table>\n"
      ],
      "text/latex": [
       "\\begin{tabular}{r|ll}\n",
       " Sample & value\\\\\n",
       "\\hline\n",
       "\t SRS024511 & 24.33746 \\\\\n",
       "\t SRS024511 & 22.93748 \\\\\n",
       "\t SRS024511 & 23.24513 \\\\\n",
       "\t SRS024511 & 24.05774 \\\\\n",
       "\t SRS024511 & 22.84086 \\\\\n",
       "\t SRS024511 & 23.55775 \\\\\n",
       "\\end{tabular}\n"
      ],
      "text/markdown": [
       "\n",
       "Sample | value | \n",
       "|---|---|---|---|---|---|\n",
       "| SRS024511 | 24.33746  | \n",
       "| SRS024511 | 22.93748  | \n",
       "| SRS024511 | 23.24513  | \n",
       "| SRS024511 | 24.05774  | \n",
       "| SRS024511 | 22.84086  | \n",
       "| SRS024511 | 23.55775  | \n",
       "\n",
       "\n"
      ],
      "text/plain": [
       "  Sample    value   \n",
       "1 SRS024511 24.33746\n",
       "2 SRS024511 22.93748\n",
       "3 SRS024511 23.24513\n",
       "4 SRS024511 24.05774\n",
       "5 SRS024511 22.84086\n",
       "6 SRS024511 23.55775"
      ]
     },
     "metadata": {},
     "output_type": "display_data"
    }
   ],
   "source": [
    "pd.df.long <- pd.df %>% gather(Sample, value)\n",
    "head(pd.df.long)"
   ]
  },
  {
   "cell_type": "code",
   "execution_count": 7,
   "metadata": {},
   "outputs": [
    {
     "data": {
      "text/html": [
       "<table>\n",
       "<thead><tr><th scope=col>Sample</th><th scope=col>value</th><th scope=col>Description</th></tr></thead>\n",
       "<tbody>\n",
       "\t<tr><td>SRS024511</td><td>24.33746 </td><td>HMP      </td></tr>\n",
       "\t<tr><td>SRS024511</td><td>22.93748 </td><td>HMP      </td></tr>\n",
       "\t<tr><td>SRS024511</td><td>23.24513 </td><td>HMP      </td></tr>\n",
       "\t<tr><td>SRS024511</td><td>24.05774 </td><td>HMP      </td></tr>\n",
       "\t<tr><td>SRS024511</td><td>22.84086 </td><td>HMP      </td></tr>\n",
       "\t<tr><td>SRS024511</td><td>23.55775 </td><td>HMP      </td></tr>\n",
       "</tbody>\n",
       "</table>\n"
      ],
      "text/latex": [
       "\\begin{tabular}{r|lll}\n",
       " Sample & value & Description\\\\\n",
       "\\hline\n",
       "\t SRS024511 & 24.33746  & HMP      \\\\\n",
       "\t SRS024511 & 22.93748  & HMP      \\\\\n",
       "\t SRS024511 & 23.24513  & HMP      \\\\\n",
       "\t SRS024511 & 24.05774  & HMP      \\\\\n",
       "\t SRS024511 & 22.84086  & HMP      \\\\\n",
       "\t SRS024511 & 23.55775  & HMP      \\\\\n",
       "\\end{tabular}\n"
      ],
      "text/markdown": [
       "\n",
       "Sample | value | Description | \n",
       "|---|---|---|---|---|---|\n",
       "| SRS024511 | 24.33746  | HMP       | \n",
       "| SRS024511 | 22.93748  | HMP       | \n",
       "| SRS024511 | 23.24513  | HMP       | \n",
       "| SRS024511 | 24.05774  | HMP       | \n",
       "| SRS024511 | 22.84086  | HMP       | \n",
       "| SRS024511 | 23.55775  | HMP       | \n",
       "\n",
       "\n"
      ],
      "text/plain": [
       "  Sample    value    Description\n",
       "1 SRS024511 24.33746 HMP        \n",
       "2 SRS024511 22.93748 HMP        \n",
       "3 SRS024511 23.24513 HMP        \n",
       "4 SRS024511 24.05774 HMP        \n",
       "5 SRS024511 22.84086 HMP        \n",
       "6 SRS024511 23.55775 HMP        "
      ]
     },
     "metadata": {},
     "output_type": "display_data"
    }
   ],
   "source": [
    "pd.df.long$Description <- ifelse(startsWith(pd.df.long$Sample, \"SR\"), \"HMP\", \"Korean\")\n",
    "head(pd.df.long)"
   ]
  },
  {
   "cell_type": "code",
   "execution_count": 10,
   "metadata": {},
   "outputs": [
    {
     "data": {},
     "metadata": {},
     "output_type": "display_data"
    },
    {
     "data": {
      "image/png": "[encoded data removed]",
      "text/plain": [
       "plot without title"
      ]
     },
     "metadata": {},
     "output_type": "display_data"
    }
   ],
   "source": [
    "ggplot(pd.df.long) + geom_boxplot(aes(x=Description, y=value, fill=Description)) + theme_bw() + ggtitle(\"PD_whole_tree\") + theme(plot.title = element_text(hjust = 0.5)) + \n",
    "  xlab(\"\") + \n",
    "  ylab(\"\") "
   ]
  },
  {
   "cell_type": "code",
   "execution_count": 8,
   "metadata": {},
   "outputs": [
    {
     "data": {
      "text/html": [
       "<table>\n",
       "<thead><tr><th scope=col>Sample</th><th scope=col>value</th><th scope=col>Description</th><th scope=col>index</th></tr></thead>\n",
       "<tbody>\n",
       "\t<tr><td>SRS024511    </td><td>24.33746     </td><td>HMP          </td><td>PD_whole_tree</td></tr>\n",
       "\t<tr><td>SRS024511    </td><td>22.93748     </td><td>HMP          </td><td>PD_whole_tree</td></tr>\n",
       "\t<tr><td>SRS024511    </td><td>23.24513     </td><td>HMP          </td><td>PD_whole_tree</td></tr>\n",
       "\t<tr><td>SRS024511    </td><td>24.05774     </td><td>HMP          </td><td>PD_whole_tree</td></tr>\n",
       "\t<tr><td>SRS024511    </td><td>22.84086     </td><td>HMP          </td><td>PD_whole_tree</td></tr>\n",
       "\t<tr><td>SRS024511    </td><td>23.55775     </td><td>HMP          </td><td>PD_whole_tree</td></tr>\n",
       "</tbody>\n",
       "</table>\n"
      ],
      "text/latex": [
       "\\begin{tabular}{r|llll}\n",
       " Sample & value & Description & index\\\\\n",
       "\\hline\n",
       "\t SRS024511         & 24.33746          & HMP               & PD\\_whole\\_tree\\\\\n",
       "\t SRS024511         & 22.93748          & HMP               & PD\\_whole\\_tree\\\\\n",
       "\t SRS024511         & 23.24513          & HMP               & PD\\_whole\\_tree\\\\\n",
       "\t SRS024511         & 24.05774          & HMP               & PD\\_whole\\_tree\\\\\n",
       "\t SRS024511         & 22.84086          & HMP               & PD\\_whole\\_tree\\\\\n",
       "\t SRS024511         & 23.55775          & HMP               & PD\\_whole\\_tree\\\\\n",
       "\\end{tabular}\n"
      ],
      "text/markdown": [
       "\n",
       "Sample | value | Description | index | \n",
       "|---|---|---|---|---|---|\n",
       "| SRS024511     | 24.33746      | HMP           | PD_whole_tree | \n",
       "| SRS024511     | 22.93748      | HMP           | PD_whole_tree | \n",
       "| SRS024511     | 23.24513      | HMP           | PD_whole_tree | \n",
       "| SRS024511     | 24.05774      | HMP           | PD_whole_tree | \n",
       "| SRS024511     | 22.84086      | HMP           | PD_whole_tree | \n",
       "| SRS024511     | 23.55775      | HMP           | PD_whole_tree | \n",
       "\n",
       "\n"
      ],
      "text/plain": [
       "  Sample    value    Description index        \n",
       "1 SRS024511 24.33746 HMP         PD_whole_tree\n",
       "2 SRS024511 22.93748 HMP         PD_whole_tree\n",
       "3 SRS024511 23.24513 HMP         PD_whole_tree\n",
       "4 SRS024511 24.05774 HMP         PD_whole_tree\n",
       "5 SRS024511 22.84086 HMP         PD_whole_tree\n",
       "6 SRS024511 23.55775 HMP         PD_whole_tree"
      ]
     },
     "metadata": {},
     "output_type": "display_data"
    }
   ],
   "source": [
    "pd.df.long$index <- \"PD_whole_tree\"\n",
    "\n",
    "head(pd.df.long)"
   ]
  },
  {
   "cell_type": "code",
   "execution_count": 9,
   "metadata": {},
   "outputs": [
    {
     "data": {
      "text/html": [
       "<table>\n",
       "<thead><tr><th scope=col>Sample</th><th scope=col>value</th><th scope=col>Description</th><th scope=col>index</th></tr></thead>\n",
       "<tbody>\n",
       "\t<tr><td>SRS024511    </td><td>7.829495     </td><td>HMP          </td><td>Shannon Index</td></tr>\n",
       "\t<tr><td>SRS024511    </td><td>7.711558     </td><td>HMP          </td><td>Shannon Index</td></tr>\n",
       "\t<tr><td>SRS024511    </td><td>7.805917     </td><td>HMP          </td><td>Shannon Index</td></tr>\n",
       "\t<tr><td>SRS024511    </td><td>7.813254     </td><td>HMP          </td><td>Shannon Index</td></tr>\n",
       "\t<tr><td>SRS024511    </td><td>7.790877     </td><td>HMP          </td><td>Shannon Index</td></tr>\n",
       "\t<tr><td>SRS024511    </td><td>7.792253     </td><td>HMP          </td><td>Shannon Index</td></tr>\n",
       "</tbody>\n",
       "</table>\n"
      ],
      "text/latex": [
       "\\begin{tabular}{r|llll}\n",
       " Sample & value & Description & index\\\\\n",
       "\\hline\n",
       "\t SRS024511     & 7.829495      & HMP           & Shannon Index\\\\\n",
       "\t SRS024511     & 7.711558      & HMP           & Shannon Index\\\\\n",
       "\t SRS024511     & 7.805917      & HMP           & Shannon Index\\\\\n",
       "\t SRS024511     & 7.813254      & HMP           & Shannon Index\\\\\n",
       "\t SRS024511     & 7.790877      & HMP           & Shannon Index\\\\\n",
       "\t SRS024511     & 7.792253      & HMP           & Shannon Index\\\\\n",
       "\\end{tabular}\n"
      ],
      "text/markdown": [
       "\n",
       "Sample | value | Description | index | \n",
       "|---|---|---|---|---|---|\n",
       "| SRS024511     | 7.829495      | HMP           | Shannon Index | \n",
       "| SRS024511     | 7.711558      | HMP           | Shannon Index | \n",
       "| SRS024511     | 7.805917      | HMP           | Shannon Index | \n",
       "| SRS024511     | 7.813254      | HMP           | Shannon Index | \n",
       "| SRS024511     | 7.790877      | HMP           | Shannon Index | \n",
       "| SRS024511     | 7.792253      | HMP           | Shannon Index | \n",
       "\n",
       "\n"
      ],
      "text/plain": [
       "  Sample    value    Description index        \n",
       "1 SRS024511 7.829495 HMP         Shannon Index\n",
       "2 SRS024511 7.711558 HMP         Shannon Index\n",
       "3 SRS024511 7.805917 HMP         Shannon Index\n",
       "4 SRS024511 7.813254 HMP         Shannon Index\n",
       "5 SRS024511 7.790877 HMP         Shannon Index\n",
       "6 SRS024511 7.792253 HMP         Shannon Index"
      ]
     },
     "metadata": {},
     "output_type": "display_data"
    }
   ],
   "source": [
    "sh.df.long$index <- \"Shannon Index\"\n",
    "head(sh.df.long)"
   ]
  },
  {
   "cell_type": "code",
   "execution_count": 10,
   "metadata": {},
   "outputs": [
    {
     "data": {
      "text/html": [
       "<table>\n",
       "<thead><tr><th scope=col>Sample</th><th scope=col>value</th><th scope=col>Description</th><th scope=col>index</th></tr></thead>\n",
       "<tbody>\n",
       "\t<tr><td>SRS024511    </td><td>24.33746     </td><td>HMP          </td><td>PD_whole_tree</td></tr>\n",
       "\t<tr><td>SRS024511    </td><td>22.93748     </td><td>HMP          </td><td>PD_whole_tree</td></tr>\n",
       "\t<tr><td>SRS024511    </td><td>23.24513     </td><td>HMP          </td><td>PD_whole_tree</td></tr>\n",
       "\t<tr><td>SRS024511    </td><td>24.05774     </td><td>HMP          </td><td>PD_whole_tree</td></tr>\n",
       "\t<tr><td>SRS024511    </td><td>22.84086     </td><td>HMP          </td><td>PD_whole_tree</td></tr>\n",
       "\t<tr><td>SRS024511    </td><td>23.55775     </td><td>HMP          </td><td>PD_whole_tree</td></tr>\n",
       "</tbody>\n",
       "</table>\n"
      ],
      "text/latex": [
       "\\begin{tabular}{r|llll}\n",
       " Sample & value & Description & index\\\\\n",
       "\\hline\n",
       "\t SRS024511         & 24.33746          & HMP               & PD\\_whole\\_tree\\\\\n",
       "\t SRS024511         & 22.93748          & HMP               & PD\\_whole\\_tree\\\\\n",
       "\t SRS024511         & 23.24513          & HMP               & PD\\_whole\\_tree\\\\\n",
       "\t SRS024511         & 24.05774          & HMP               & PD\\_whole\\_tree\\\\\n",
       "\t SRS024511         & 22.84086          & HMP               & PD\\_whole\\_tree\\\\\n",
       "\t SRS024511         & 23.55775          & HMP               & PD\\_whole\\_tree\\\\\n",
       "\\end{tabular}\n"
      ],
      "text/markdown": [
       "\n",
       "Sample | value | Description | index | \n",
       "|---|---|---|---|---|---|\n",
       "| SRS024511     | 24.33746      | HMP           | PD_whole_tree | \n",
       "| SRS024511     | 22.93748      | HMP           | PD_whole_tree | \n",
       "| SRS024511     | 23.24513      | HMP           | PD_whole_tree | \n",
       "| SRS024511     | 24.05774      | HMP           | PD_whole_tree | \n",
       "| SRS024511     | 22.84086      | HMP           | PD_whole_tree | \n",
       "| SRS024511     | 23.55775      | HMP           | PD_whole_tree | \n",
       "\n",
       "\n"
      ],
      "text/plain": [
       "  Sample    value    Description index        \n",
       "1 SRS024511 24.33746 HMP         PD_whole_tree\n",
       "2 SRS024511 22.93748 HMP         PD_whole_tree\n",
       "3 SRS024511 23.24513 HMP         PD_whole_tree\n",
       "4 SRS024511 24.05774 HMP         PD_whole_tree\n",
       "5 SRS024511 22.84086 HMP         PD_whole_tree\n",
       "6 SRS024511 23.55775 HMP         PD_whole_tree"
      ]
     },
     "metadata": {},
     "output_type": "display_data"
    }
   ],
   "source": [
    "final.df <- rbind(pd.df.long, sh.df.long)\n",
    "head(final.df)"
   ]
  },
  {
   "cell_type": "code",
   "execution_count": 14,
   "metadata": {},
   "outputs": [
    {
     "data": {},
     "metadata": {},
     "output_type": "display_data"
    },
    {
     "data": {
      "image/png": "[encoded data removed]",
      "text/plain": [
       "plot without title"
      ]
     },
     "metadata": {},
     "output_type": "display_data"
    }
   ],
   "source": [
    "ggplot(final.df) + geom_boxplot(aes(x=Description, y=value, fill=Description)) + theme_bw() + theme(plot.title = element_text(hjust = 0.5)) + \n",
    "  xlab(\"\") + ylab(\"\") + facet_wrap(~index, scale=\"free\")"
   ]
  },
  {
   "cell_type": "code",
   "execution_count": 11,
   "metadata": {},
   "outputs": [
    {
     "name": "stderr",
     "output_type": "stream",
     "text": [
      "Parsed with column specification:\n",
      "cols(\n",
      "  .default = col_double()\n",
      ")\n",
      "See spec(...) for full column specifications.\n"
     ]
    },
    {
     "data": {
      "text/html": [
       "<table>\n",
       "<thead><tr><th scope=col>SRS024511</th><th scope=col>SRS052433</th><th scope=col>SRS064276</th><th scope=col>SRS055482</th><th scope=col>SRS021910</th><th scope=col>SRS015578</th><th scope=col>SRS063324</th><th scope=col>SRS015247</th><th scope=col>SRS062464</th><th scope=col>SRS052697</th><th scope=col>...</th><th scope=col>SRS047561</th><th scope=col>normal47</th><th scope=col>SRS017394</th><th scope=col>SRS024568</th><th scope=col>SRS016267</th><th scope=col>SRS016437</th><th scope=col>SRS013216</th><th scope=col>normal86</th><th scope=col>SRS023914</th><th scope=col>normal96</th></tr></thead>\n",
       "<tbody>\n",
       "\t<tr><td>0.9855033</td><td>0.7891216</td><td>0.9865764</td><td>0.9826844</td><td>0.9866984</td><td>0.9776280</td><td>0.9373193</td><td>0.9643027</td><td>0.9900724</td><td>0.9919991</td><td>...      </td><td>0.9731333</td><td>0.7966162</td><td>0.9812091</td><td>0.9666160</td><td>0.9793549</td><td>0.9799889</td><td>0.9352760</td><td>0.7795082</td><td>0.9801993</td><td>0.9621036</td></tr>\n",
       "\t<tr><td>0.9843187</td><td>0.7869618</td><td>0.9867844</td><td>0.9802747</td><td>0.9860700</td><td>0.9763927</td><td>0.9409400</td><td>0.9640622</td><td>0.9897411</td><td>0.9920169</td><td>...      </td><td>0.9741209</td><td>0.7926402</td><td>0.9816740</td><td>0.9652489</td><td>0.9781627</td><td>0.9800660</td><td>0.9353122</td><td>0.7823709</td><td>0.9804898</td><td>0.9621240</td></tr>\n",
       "\t<tr><td>0.9855549</td><td>0.7890984</td><td>0.9874927</td><td>0.9794069</td><td>0.9860662</td><td>0.9760280</td><td>0.9410220</td><td>0.9648164</td><td>0.9898391</td><td>0.9920038</td><td>...      </td><td>0.9745178</td><td>0.8120662</td><td>0.9815038</td><td>0.9658758</td><td>0.9796029</td><td>0.9796278</td><td>0.9387616</td><td>0.7829144</td><td>0.9798842</td><td>0.9613827</td></tr>\n",
       "\t<tr><td>0.9853220</td><td>0.7903133</td><td>0.9863098</td><td>0.9818387</td><td>0.9863033</td><td>0.9772724</td><td>0.9405251</td><td>0.9630113</td><td>0.9902447</td><td>0.9927776</td><td>...      </td><td>0.9738787</td><td>0.8093773</td><td>0.9819947</td><td>0.9649178</td><td>0.9791709</td><td>0.9796993</td><td>0.9365673</td><td>0.7808989</td><td>0.9805498</td><td>0.9609922</td></tr>\n",
       "\t<tr><td>0.9855702</td><td>0.7884784</td><td>0.9869076</td><td>0.9810613</td><td>0.9857562</td><td>0.9744162</td><td>0.9383924</td><td>0.9653151</td><td>0.9901589</td><td>0.9918076</td><td>...      </td><td>0.9741982</td><td>0.8022880</td><td>0.9820933</td><td>0.9652853</td><td>0.9789604</td><td>0.9805178</td><td>0.9347860</td><td>0.7823727</td><td>0.9800718</td><td>0.9618504</td></tr>\n",
       "\t<tr><td>0.9858484</td><td>0.7876231</td><td>0.9873884</td><td>0.9813864</td><td>0.9861016</td><td>0.9769236</td><td>0.9408140</td><td>0.9648758</td><td>0.9897844</td><td>0.9917093</td><td>...      </td><td>0.9748493</td><td>0.7929104</td><td>0.9821038</td><td>0.9652087</td><td>0.9797171</td><td>0.9798687</td><td>0.9379478</td><td>0.7794422</td><td>0.9804944</td><td>0.9623998</td></tr>\n",
       "</tbody>\n",
       "</table>\n"
      ],
      "text/latex": [
       "\\begin{tabular}{r|lllllllllllllllllllllllllllllllllllllllllllllllllllllllllllllllllllllllllllllllllllllllllllllllllllllllllllllllllllllllllllllllllllllllllllllllllllllllllllllllllllllllllllllllllllllllllllllllllllllllllllllllllllllllllllllllllllllllllllllllllllllllllllllllllllllllllllllllllllllllllllllllllllllllllllllllllllllllllllllllllllllllllllllllllllllllllllllllllll}\n",
       " SRS024511 & SRS052433 & SRS064276 & SRS055482 & SRS021910 & SRS015578 & SRS063324 & SRS015247 & SRS062464 & SRS052697 & ... & SRS047561 & normal47 & SRS017394 & SRS024568 & SRS016267 & SRS016437 & SRS013216 & normal86 & SRS023914 & normal96\\\\\n",
       "\\hline\n",
       "\t 0.9855033 & 0.7891216 & 0.9865764 & 0.9826844 & 0.9866984 & 0.9776280 & 0.9373193 & 0.9643027 & 0.9900724 & 0.9919991 & ...       & 0.9731333 & 0.7966162 & 0.9812091 & 0.9666160 & 0.9793549 & 0.9799889 & 0.9352760 & 0.7795082 & 0.9801993 & 0.9621036\\\\\n",
       "\t 0.9843187 & 0.7869618 & 0.9867844 & 0.9802747 & 0.9860700 & 0.9763927 & 0.9409400 & 0.9640622 & 0.9897411 & 0.9920169 & ...       & 0.9741209 & 0.7926402 & 0.9816740 & 0.9652489 & 0.9781627 & 0.9800660 & 0.9353122 & 0.7823709 & 0.9804898 & 0.9621240\\\\\n",
       "\t 0.9855549 & 0.7890984 & 0.9874927 & 0.9794069 & 0.9860662 & 0.9760280 & 0.9410220 & 0.9648164 & 0.9898391 & 0.9920038 & ...       & 0.9745178 & 0.8120662 & 0.9815038 & 0.9658758 & 0.9796029 & 0.9796278 & 0.9387616 & 0.7829144 & 0.9798842 & 0.9613827\\\\\n",
       "\t 0.9853220 & 0.7903133 & 0.9863098 & 0.9818387 & 0.9863033 & 0.9772724 & 0.9405251 & 0.9630113 & 0.9902447 & 0.9927776 & ...       & 0.9738787 & 0.8093773 & 0.9819947 & 0.9649178 & 0.9791709 & 0.9796993 & 0.9365673 & 0.7808989 & 0.9805498 & 0.9609922\\\\\n",
       "\t 0.9855702 & 0.7884784 & 0.9869076 & 0.9810613 & 0.9857562 & 0.9744162 & 0.9383924 & 0.9653151 & 0.9901589 & 0.9918076 & ...       & 0.9741982 & 0.8022880 & 0.9820933 & 0.9652853 & 0.9789604 & 0.9805178 & 0.9347860 & 0.7823727 & 0.9800718 & 0.9618504\\\\\n",
       "\t 0.9858484 & 0.7876231 & 0.9873884 & 0.9813864 & 0.9861016 & 0.9769236 & 0.9408140 & 0.9648758 & 0.9897844 & 0.9917093 & ...       & 0.9748493 & 0.7929104 & 0.9821038 & 0.9652087 & 0.9797171 & 0.9798687 & 0.9379478 & 0.7794422 & 0.9804944 & 0.9623998\\\\\n",
       "\\end{tabular}\n"
      ],
      "text/markdown": [
       "\n",
       "SRS024511 | SRS052433 | SRS064276 | SRS055482 | SRS021910 | SRS015578 | SRS063324 | SRS015247 | SRS062464 | SRS052697 | ... | SRS047561 | normal47 | SRS017394 | SRS024568 | SRS016267 | SRS016437 | SRS013216 | normal86 | SRS023914 | normal96 | \n",
       "|---|---|---|---|---|---|\n",
       "| 0.9855033 | 0.7891216 | 0.9865764 | 0.9826844 | 0.9866984 | 0.9776280 | 0.9373193 | 0.9643027 | 0.9900724 | 0.9919991 | ...       | 0.9731333 | 0.7966162 | 0.9812091 | 0.9666160 | 0.9793549 | 0.9799889 | 0.9352760 | 0.7795082 | 0.9801993 | 0.9621036 | \n",
       "| 0.9843187 | 0.7869618 | 0.9867844 | 0.9802747 | 0.9860700 | 0.9763927 | 0.9409400 | 0.9640622 | 0.9897411 | 0.9920169 | ...       | 0.9741209 | 0.7926402 | 0.9816740 | 0.9652489 | 0.9781627 | 0.9800660 | 0.9353122 | 0.7823709 | 0.9804898 | 0.9621240 | \n",
       "| 0.9855549 | 0.7890984 | 0.9874927 | 0.9794069 | 0.9860662 | 0.9760280 | 0.9410220 | 0.9648164 | 0.9898391 | 0.9920038 | ...       | 0.9745178 | 0.8120662 | 0.9815038 | 0.9658758 | 0.9796029 | 0.9796278 | 0.9387616 | 0.7829144 | 0.9798842 | 0.9613827 | \n",
       "| 0.9853220 | 0.7903133 | 0.9863098 | 0.9818387 | 0.9863033 | 0.9772724 | 0.9405251 | 0.9630113 | 0.9902447 | 0.9927776 | ...       | 0.9738787 | 0.8093773 | 0.9819947 | 0.9649178 | 0.9791709 | 0.9796993 | 0.9365673 | 0.7808989 | 0.9805498 | 0.9609922 | \n",
       "| 0.9855702 | 0.7884784 | 0.9869076 | 0.9810613 | 0.9857562 | 0.9744162 | 0.9383924 | 0.9653151 | 0.9901589 | 0.9918076 | ...       | 0.9741982 | 0.8022880 | 0.9820933 | 0.9652853 | 0.9789604 | 0.9805178 | 0.9347860 | 0.7823727 | 0.9800718 | 0.9618504 | \n",
       "| 0.9858484 | 0.7876231 | 0.9873884 | 0.9813864 | 0.9861016 | 0.9769236 | 0.9408140 | 0.9648758 | 0.9897844 | 0.9917093 | ...       | 0.9748493 | 0.7929104 | 0.9821038 | 0.9652087 | 0.9797171 | 0.9798687 | 0.9379478 | 0.7794422 | 0.9804944 | 0.9623998 | \n",
       "\n",
       "\n"
      ],
      "text/plain": [
       "  SRS024511 SRS052433 SRS064276 SRS055482 SRS021910 SRS015578 SRS063324\n",
       "1 0.9855033 0.7891216 0.9865764 0.9826844 0.9866984 0.9776280 0.9373193\n",
       "2 0.9843187 0.7869618 0.9867844 0.9802747 0.9860700 0.9763927 0.9409400\n",
       "3 0.9855549 0.7890984 0.9874927 0.9794069 0.9860662 0.9760280 0.9410220\n",
       "4 0.9853220 0.7903133 0.9863098 0.9818387 0.9863033 0.9772724 0.9405251\n",
       "5 0.9855702 0.7884784 0.9869076 0.9810613 0.9857562 0.9744162 0.9383924\n",
       "6 0.9858484 0.7876231 0.9873884 0.9813864 0.9861016 0.9769236 0.9408140\n",
       "  SRS015247 SRS062464 SRS052697 ... SRS047561 normal47  SRS017394 SRS024568\n",
       "1 0.9643027 0.9900724 0.9919991 ... 0.9731333 0.7966162 0.9812091 0.9666160\n",
       "2 0.9640622 0.9897411 0.9920169 ... 0.9741209 0.7926402 0.9816740 0.9652489\n",
       "3 0.9648164 0.9898391 0.9920038 ... 0.9745178 0.8120662 0.9815038 0.9658758\n",
       "4 0.9630113 0.9902447 0.9927776 ... 0.9738787 0.8093773 0.9819947 0.9649178\n",
       "5 0.9653151 0.9901589 0.9918076 ... 0.9741982 0.8022880 0.9820933 0.9652853\n",
       "6 0.9648758 0.9897844 0.9917093 ... 0.9748493 0.7929104 0.9821038 0.9652087\n",
       "  SRS016267 SRS016437 SRS013216 normal86  SRS023914 normal96 \n",
       "1 0.9793549 0.9799889 0.9352760 0.7795082 0.9801993 0.9621036\n",
       "2 0.9781627 0.9800660 0.9353122 0.7823709 0.9804898 0.9621240\n",
       "3 0.9796029 0.9796278 0.9387616 0.7829144 0.9798842 0.9613827\n",
       "4 0.9791709 0.9796993 0.9365673 0.7808989 0.9805498 0.9609922\n",
       "5 0.9789604 0.9805178 0.9347860 0.7823727 0.9800718 0.9618504\n",
       "6 0.9797171 0.9798687 0.9379478 0.7794422 0.9804944 0.9623998"
      ]
     },
     "metadata": {},
     "output_type": "display_data"
    }
   ],
   "source": [
    "simpson <- \"07.Diversity/arare_max3000//alpha_div_collated/inverse-simpson.tsv\"\n",
    "\n",
    "sim.df <- read_tsv(simpson)\n",
    "head(sim.df)"
   ]
  },
  {
   "cell_type": "code",
   "execution_count": 12,
   "metadata": {},
   "outputs": [
    {
     "data": {
      "text/html": [
       "<table>\n",
       "<thead><tr><th scope=col>Sample</th><th scope=col>value</th><th scope=col>Description</th><th scope=col>index</th></tr></thead>\n",
       "<tbody>\n",
       "\t<tr><td>SRS024511      </td><td>0.9855033      </td><td>HMP            </td><td>Inverse Simpson</td></tr>\n",
       "\t<tr><td>SRS024511      </td><td>0.9843187      </td><td>HMP            </td><td>Inverse Simpson</td></tr>\n",
       "\t<tr><td>SRS024511      </td><td>0.9855549      </td><td>HMP            </td><td>Inverse Simpson</td></tr>\n",
       "\t<tr><td>SRS024511      </td><td>0.9853220      </td><td>HMP            </td><td>Inverse Simpson</td></tr>\n",
       "\t<tr><td>SRS024511      </td><td>0.9855702      </td><td>HMP            </td><td>Inverse Simpson</td></tr>\n",
       "\t<tr><td>SRS024511      </td><td>0.9858484      </td><td>HMP            </td><td>Inverse Simpson</td></tr>\n",
       "</tbody>\n",
       "</table>\n"
      ],
      "text/latex": [
       "\\begin{tabular}{r|llll}\n",
       " Sample & value & Description & index\\\\\n",
       "\\hline\n",
       "\t SRS024511       & 0.9855033       & HMP             & Inverse Simpson\\\\\n",
       "\t SRS024511       & 0.9843187       & HMP             & Inverse Simpson\\\\\n",
       "\t SRS024511       & 0.9855549       & HMP             & Inverse Simpson\\\\\n",
       "\t SRS024511       & 0.9853220       & HMP             & Inverse Simpson\\\\\n",
       "\t SRS024511       & 0.9855702       & HMP             & Inverse Simpson\\\\\n",
       "\t SRS024511       & 0.9858484       & HMP             & Inverse Simpson\\\\\n",
       "\\end{tabular}\n"
      ],
      "text/markdown": [
       "\n",
       "Sample | value | Description | index | \n",
       "|---|---|---|---|---|---|\n",
       "| SRS024511       | 0.9855033       | HMP             | Inverse Simpson | \n",
       "| SRS024511       | 0.9843187       | HMP             | Inverse Simpson | \n",
       "| SRS024511       | 0.9855549       | HMP             | Inverse Simpson | \n",
       "| SRS024511       | 0.9853220       | HMP             | Inverse Simpson | \n",
       "| SRS024511       | 0.9855702       | HMP             | Inverse Simpson | \n",
       "| SRS024511       | 0.9858484       | HMP             | Inverse Simpson | \n",
       "\n",
       "\n"
      ],
      "text/plain": [
       "  Sample    value     Description index          \n",
       "1 SRS024511 0.9855033 HMP         Inverse Simpson\n",
       "2 SRS024511 0.9843187 HMP         Inverse Simpson\n",
       "3 SRS024511 0.9855549 HMP         Inverse Simpson\n",
       "4 SRS024511 0.9853220 HMP         Inverse Simpson\n",
       "5 SRS024511 0.9855702 HMP         Inverse Simpson\n",
       "6 SRS024511 0.9858484 HMP         Inverse Simpson"
      ]
     },
     "metadata": {},
     "output_type": "display_data"
    }
   ],
   "source": [
    "sim.df.long <- sim.df %>% gather(Sample, value)\n",
    "sim.df.long$Description <- ifelse(startsWith(sim.df.long$Sample, \"SR\"), \"HMP\", \"Korean\")\n",
    "sim.df.long$index <- \"Inverse Simpson\"\n",
    "head(sim.df.long)"
   ]
  },
  {
   "cell_type": "code",
   "execution_count": 13,
   "metadata": {},
   "outputs": [
    {
     "data": {
      "text/html": [
       "<ol class=list-inline>\n",
       "\t<li>10650</li>\n",
       "\t<li>4</li>\n",
       "</ol>\n"
      ],
      "text/latex": [
       "\\begin{enumerate*}\n",
       "\\item 10650\n",
       "\\item 4\n",
       "\\end{enumerate*}\n"
      ],
      "text/markdown": [
       "1. 10650\n",
       "2. 4\n",
       "\n",
       "\n"
      ],
      "text/plain": [
       "[1] 10650     4"
      ]
     },
     "metadata": {},
     "output_type": "display_data"
    }
   ],
   "source": [
    "final.df <- rbind(pd.df.long, sh.df.long)\n",
    "final.df <- rbind(final.df, sim.df.long)\n",
    "dim(final.df)"
   ]
  },
  {
   "cell_type": "code",
   "execution_count": 33,
   "metadata": {},
   "outputs": [
    {
     "data": {},
     "metadata": {},
     "output_type": "display_data"
    },
    {
     "data": {
      "image/png": "[encoded data removed]",
      "text/plain": [
       "plot without title"
      ]
     },
     "metadata": {},
     "output_type": "display_data"
    }
   ],
   "source": [
    "ggplot(final.df) + geom_boxplot(aes(x=Description, y=value, fill=Description)) + theme_bw() + theme(plot.title = element_text(hjust = 0.5)) + \n",
    "  xlab(\"\") + ylab(\"\") + facet_wrap(~index, scale=\"free\") + \n",
    "theme(axis.title.y=element_text(size=15), axis.title.x=element_text(size=15)) +\n",
    "theme(text=element_text(size=15)) + scale_fill_brewer(palette=\"Set3\") +\n",
    "labs(fill=\"Sample\") + theme(legend.text=element_text(size=15)) \n",
    "\n",
    "ggsave(paste0(\"alpha\",'.png'), width=20, height=10, units=\"cm\")"
   ]
  },
  {
   "cell_type": "code",
   "execution_count": 15,
   "metadata": {},
   "outputs": [
    {
     "data": {
      "text/html": [
       "<table>\n",
       "<thead><tr><th scope=col>Sample</th><th scope=col>value</th><th scope=col>Description</th><th scope=col>index</th></tr></thead>\n",
       "<tbody>\n",
       "\t<tr><td>SRS024511    </td><td>24.33746     </td><td>HMP          </td><td>PD_whole_tree</td></tr>\n",
       "\t<tr><td>SRS024511    </td><td>22.93748     </td><td>HMP          </td><td>PD_whole_tree</td></tr>\n",
       "\t<tr><td>SRS024511    </td><td>23.24513     </td><td>HMP          </td><td>PD_whole_tree</td></tr>\n",
       "\t<tr><td>SRS024511    </td><td>24.05774     </td><td>HMP          </td><td>PD_whole_tree</td></tr>\n",
       "\t<tr><td>SRS024511    </td><td>22.84086     </td><td>HMP          </td><td>PD_whole_tree</td></tr>\n",
       "\t<tr><td>SRS024511    </td><td>23.55775     </td><td>HMP          </td><td>PD_whole_tree</td></tr>\n",
       "</tbody>\n",
       "</table>\n"
      ],
      "text/latex": [
       "\\begin{tabular}{r|llll}\n",
       " Sample & value & Description & index\\\\\n",
       "\\hline\n",
       "\t SRS024511         & 24.33746          & HMP               & PD\\_whole\\_tree\\\\\n",
       "\t SRS024511         & 22.93748          & HMP               & PD\\_whole\\_tree\\\\\n",
       "\t SRS024511         & 23.24513          & HMP               & PD\\_whole\\_tree\\\\\n",
       "\t SRS024511         & 24.05774          & HMP               & PD\\_whole\\_tree\\\\\n",
       "\t SRS024511         & 22.84086          & HMP               & PD\\_whole\\_tree\\\\\n",
       "\t SRS024511         & 23.55775          & HMP               & PD\\_whole\\_tree\\\\\n",
       "\\end{tabular}\n"
      ],
      "text/markdown": [
       "\n",
       "Sample | value | Description | index | \n",
       "|---|---|---|---|---|---|\n",
       "| SRS024511     | 24.33746      | HMP           | PD_whole_tree | \n",
       "| SRS024511     | 22.93748      | HMP           | PD_whole_tree | \n",
       "| SRS024511     | 23.24513      | HMP           | PD_whole_tree | \n",
       "| SRS024511     | 24.05774      | HMP           | PD_whole_tree | \n",
       "| SRS024511     | 22.84086      | HMP           | PD_whole_tree | \n",
       "| SRS024511     | 23.55775      | HMP           | PD_whole_tree | \n",
       "\n",
       "\n"
      ],
      "text/plain": [
       "  Sample    value    Description index        \n",
       "1 SRS024511 24.33746 HMP         PD_whole_tree\n",
       "2 SRS024511 22.93748 HMP         PD_whole_tree\n",
       "3 SRS024511 23.24513 HMP         PD_whole_tree\n",
       "4 SRS024511 24.05774 HMP         PD_whole_tree\n",
       "5 SRS024511 22.84086 HMP         PD_whole_tree\n",
       "6 SRS024511 23.55775 HMP         PD_whole_tree"
      ]
     },
     "metadata": {},
     "output_type": "display_data"
    }
   ],
   "source": [
    "head(final.df)"
   ]
  },
  {
   "cell_type": "code",
   "execution_count": 17,
   "metadata": {},
   "outputs": [],
   "source": [
    "write.csv(final.df, \"alpha.csv\", row.names=FALSE)"
   ]
  },
  {
   "cell_type": "code",
   "execution_count": 23,
   "metadata": {},
   "outputs": [
    {
     "data": {
      "text/html": [
       "<table>\n",
       "<thead><tr><th scope=col>index</th><th scope=col>Description</th><th scope=col>index.value</th></tr></thead>\n",
       "<tbody>\n",
       "\t<tr><td>Inverse Simpson</td><td>HMP            </td><td> 0.9735367     </td></tr>\n",
       "\t<tr><td>Inverse Simpson</td><td>Korean         </td><td> 0.9272782     </td></tr>\n",
       "\t<tr><td>PD_whole_tree  </td><td>HMP            </td><td>19.3845874     </td></tr>\n",
       "\t<tr><td>PD_whole_tree  </td><td>Korean         </td><td>13.3146114     </td></tr>\n",
       "\t<tr><td>Shannon Index  </td><td>HMP            </td><td> 7.0911621     </td></tr>\n",
       "\t<tr><td>Shannon Index  </td><td>Korean         </td><td> 5.7141477     </td></tr>\n",
       "</tbody>\n",
       "</table>\n"
      ],
      "text/latex": [
       "\\begin{tabular}{r|lll}\n",
       " index & Description & index.value\\\\\n",
       "\\hline\n",
       "\t Inverse Simpson & HMP             &  0.9735367     \\\\\n",
       "\t Inverse Simpson & Korean          &  0.9272782     \\\\\n",
       "\t PD\\_whole\\_tree   & HMP                 & 19.3845874         \\\\\n",
       "\t PD\\_whole\\_tree   & Korean              & 13.3146114         \\\\\n",
       "\t Shannon Index   & HMP             &  7.0911621     \\\\\n",
       "\t Shannon Index   & Korean          &  5.7141477     \\\\\n",
       "\\end{tabular}\n"
      ],
      "text/markdown": [
       "\n",
       "index | Description | index.value | \n",
       "|---|---|---|---|---|---|\n",
       "| Inverse Simpson | HMP             |  0.9735367      | \n",
       "| Inverse Simpson | Korean          |  0.9272782      | \n",
       "| PD_whole_tree   | HMP             | 19.3845874      | \n",
       "| PD_whole_tree   | Korean          | 13.3146114      | \n",
       "| Shannon Index   | HMP             |  7.0911621      | \n",
       "| Shannon Index   | Korean          |  5.7141477      | \n",
       "\n",
       "\n"
      ],
      "text/plain": [
       "  index           Description index.value\n",
       "1 Inverse Simpson HMP          0.9735367 \n",
       "2 Inverse Simpson Korean       0.9272782 \n",
       "3 PD_whole_tree   HMP         19.3845874 \n",
       "4 PD_whole_tree   Korean      13.3146114 \n",
       "5 Shannon Index   HMP          7.0911621 \n",
       "6 Shannon Index   Korean       5.7141477 "
      ]
     },
     "metadata": {},
     "output_type": "display_data"
    }
   ],
   "source": [
    "final.df %>% group_by(index, Description) %>% summarise(index.value = mean(value))"
   ]
  },
  {
   "cell_type": "code",
   "execution_count": 24,
   "metadata": {},
   "outputs": [],
   "source": [
    "alpha.df <- final.df %>% group_by(index, Description) %>% summarise(index.value = mean(value))\n",
    "write.csv(alpha.df, \"alpha.values.csv\", row.names=FALSE)"
   ]
  },
  {
   "cell_type": "code",
   "execution_count": 28,
   "metadata": {},
   "outputs": [
    {
     "data": {
      "text/plain": [
       "\n",
       "\tWilcoxon rank sum test with continuity correction\n",
       "\n",
       "data:  pd.df.long %>% filter(Description == \"Korean\") %>% select(value) %>%  and pd.df.long %>% filter(Description == \"HMP\") %>% select(value) %>%     unlist and     unlist\n",
       "W = 198220, p-value < 2.2e-16\n",
       "alternative hypothesis: true location shift is not equal to 0\n"
      ]
     },
     "metadata": {},
     "output_type": "display_data"
    }
   ],
   "source": [
    "#ph_whole_tree wilcoxon rank test\n",
    "wilcox.test(pd.df.long %>% filter(Description==\"Korean\") %>% select(value) %>% unlist, pd.df.long %>% filter(Description==\"HMP\") %>% select(value) %>% unlist)"
   ]
  },
  {
   "cell_type": "code",
   "execution_count": 29,
   "metadata": {},
   "outputs": [
    {
     "data": {
      "text/plain": [
       "\n",
       "\tWilcoxon rank sum test with continuity correction\n",
       "\n",
       "data:  sim.df.long %>% filter(Description == \"Korean\") %>% select(value) %>%  and sim.df.long %>% filter(Description == \"HMP\") %>% select(value) %>%     unlist and     unlist\n",
       "W = 175030, p-value < 2.2e-16\n",
       "alternative hypothesis: true location shift is not equal to 0\n"
      ]
     },
     "metadata": {},
     "output_type": "display_data"
    }
   ],
   "source": [
    "#simspon wilcoxon rank test\n",
    "wilcox.test(sim.df.long %>% filter(Description==\"Korean\") %>% select(value) %>% unlist, sim.df.long %>% filter(Description==\"HMP\") %>% select(value) %>% unlist)"
   ]
  },
  {
   "cell_type": "code",
   "execution_count": 30,
   "metadata": {},
   "outputs": [
    {
     "data": {
      "text/plain": [
       "\n",
       "\tWilcoxon rank sum test with continuity correction\n",
       "\n",
       "data:  sh.df.long %>% filter(Description == \"Korean\") %>% select(value) %>%  and sh.df.long %>% filter(Description == \"HMP\") %>% select(value) %>%     unlist and     unlist\n",
       "W = 144010, p-value < 2.2e-16\n",
       "alternative hypothesis: true location shift is not equal to 0\n"
      ]
     },
     "metadata": {},
     "output_type": "display_data"
    }
   ],
   "source": [
    "# shannon wilcoxon test\n",
    "wilcox.test(sh.df.long %>% filter(Description==\"Korean\") %>% select(value) %>% unlist, sh.df.long %>% filter(Description==\"HMP\") %>% select(value) %>% unlist)"
   ]
  },
  {
   "cell_type": "code",
   "execution_count": null,
   "metadata": {},
   "outputs": [],
   "source": []
  }
 ],
 "metadata": {
  "kernelspec": {
   "display_name": "R",
   "language": "R",
   "name": "ir"
  },
  "language_info": {
   "codemirror_mode": "r",
   "file_extension": ".r",
   "mimetype": "text/x-r-source",
   "name": "R",
   "pygments_lexer": "r",
   "version": "3.4.3"
  }
 },
 "nbformat": 4,
 "nbformat_minor": 2
}
