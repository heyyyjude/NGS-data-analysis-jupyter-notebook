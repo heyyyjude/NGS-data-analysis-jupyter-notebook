{
 "cells": [
  {
   "cell_type": "code",
   "execution_count": 1,
   "metadata": {},
   "outputs": [
    {
     "name": "stderr",
     "output_type": "stream",
     "text": [
      "Warning message:\n",
      "\"package 'tidyverse' was built under R version 3.4.4\"-- Attaching packages --------------------------------------- tidyverse 1.2.1 --\n",
      "√ ggplot2 2.2.1     √ purrr   0.2.4\n",
      "√ tibble  1.4.2     √ dplyr   0.7.4\n",
      "√ tidyr   0.8.0     √ stringr 1.3.0\n",
      "√ readr   1.1.1     √ forcats 0.3.0\n",
      "-- Conflicts ------------------------------------------ tidyverse_conflicts() --\n",
      "x dplyr::filter() masks stats::filter()\n",
      "x dplyr::lag()    masks stats::lag()\n",
      "\n",
      "\n",
      "\n",
      "\n"
     ]
    }
   ],
   "source": [
    "library(tidyverse)\n",
    "library(annotatr)"
   ]
  },
  {
   "cell_type": "code",
   "execution_count": 39,
   "metadata": {},
   "outputs": [
    {
     "name": "stderr",
     "output_type": "stream",
     "text": [
      "\n",
      "Attaching package: 'BiocGenerics'\n",
      "\n",
      "The following objects are masked from 'package:parallel':\n",
      "\n",
      "    clusterApply, clusterApplyLB, clusterCall, clusterEvalQ,\n",
      "    clusterExport, clusterMap, parApply, parCapply, parLapply,\n",
      "    parLapplyLB, parRapply, parSapply, parSapplyLB\n",
      "\n",
      "The following objects are masked from 'package:dplyr':\n",
      "\n",
      "    combine, intersect, setdiff, union\n",
      "\n",
      "The following objects are masked from 'package:stats':\n",
      "\n",
      "    IQR, mad, sd, var, xtabs\n",
      "\n",
      "The following objects are masked from 'package:base':\n",
      "\n",
      "    anyDuplicated, append, as.data.frame, cbind, colMeans, colnames,\n",
      "    colSums, do.call, duplicated, eval, evalq, Filter, Find, get, grep,\n",
      "    grepl, intersect, is.unsorted, lapply, lengths, Map, mapply, match,\n",
      "    mget, order, paste, pmax, pmax.int, pmin, pmin.int, Position, rank,\n",
      "    rbind, Reduce, rowMeans, rownames, rowSums, sapply, setdiff, sort,\n",
      "    table, tapply, union, unique, unsplit, which, which.max, which.min\n",
      "\n",
      "\n",
      "Attaching package: 'S4Vectors'\n",
      "\n",
      "The following objects are masked from 'package:dplyr':\n",
      "\n",
      "    first, rename\n",
      "\n",
      "The following object is masked from 'package:tidyr':\n",
      "\n",
      "    expand\n",
      "\n",
      "The following object is masked from 'package:base':\n",
      "\n",
      "    expand.grid\n",
      "\n",
      "\n",
      "Attaching package: 'IRanges'\n",
      "\n",
      "The following objects are masked from 'package:dplyr':\n",
      "\n",
      "    collapse, desc, slice\n",
      "\n",
      "The following object is masked from 'package:purrr':\n",
      "\n",
      "    reduce\n",
      "\n",
      "\n",
      "Attaching package: 'XVector'\n",
      "\n",
      "The following object is masked from 'package:purrr':\n",
      "\n",
      "    compact\n",
      "\n",
      "\n",
      "Attaching package: 'Biostrings'\n",
      "\n",
      "The following object is masked from 'package:base':\n",
      "\n",
      "    strsplit\n",
      "\n"
     ]
    },
    {
     "name": "stdout",
     "output_type": "stream",
     "text": [
      "GRanges object with 6 ranges and 6 metadata columns:\n",
      "      seqnames                 ranges strand |   DM_status        pval\n",
      "         <Rle>              <IRanges>  <Rle> | <character>   <numeric>\n",
      "  [1]     chr1 [111215699, 111220378]      * |       hyper 0.011754390\n",
      "  [2]     chr1 [113495899, 113500888]      * |       hyper 0.027974279\n",
      "  [3]     chr1 [161494007, 161498126]      * |       hyper 0.037749551\n",
      "  [4]     chr1 [205028939, 205033058]      * |       hyper 0.015268072\n",
      "  [5]     chr1 [  2408316,   2412497]      * |       hyper 0.037749551\n",
      "  [6]     chr1 [ 38411152,  38415391]      * |       hyper 0.005530727\n",
      "      diff_meth       mu0        mu1                gene\n",
      "      <numeric> <numeric>  <numeric>         <character>\n",
      "  [1] 0.8194444 0.8750000 0.05555556               KCNA3\n",
      "  [2] 0.7380952 0.8333333 0.09523810 SLC16A1,SLC16A1-AS1\n",
      "  [3] 0.8333333 0.8333333 0.00000000               HSPA6\n",
      "  [4] 0.8888889 1.0000000 0.11111111    AL583832.1,CNTN2\n",
      "  [5] 0.8333333 1.0000000 0.16666667               PLCH2\n",
      "  [6] 0.8055556 0.8888889 0.08333333              INPP5B\n",
      "  -------\n",
      "  seqinfo: 93 sequences (1 circular) from hg19 genome\n"
     ]
    }
   ],
   "source": [
    "dm_file <- \"First_CpG_island_filtered-Avg_by_Island.txt.modified\"\n",
    "extraCols = c(diff_meth = 'numeric', mu0 = 'numeric', mu1 = 'numeric', gene = \"character\")\n",
    "dm_regions = read_regions(con = dm_file, genome = 'hg19', extraCols = extraCols, format = 'bed',\n",
    "    rename_name = 'DM_status', rename_score = 'pval')\n",
    "print(head(dm_regions))"
   ]
  },
  {
   "cell_type": "code",
   "execution_count": 40,
   "metadata": {},
   "outputs": [],
   "source": [
    "annots = c('hg19_cpgs', 'hg19_basicgenes', 'hg19_genes_intergenic', 'hg19_genes_promoters')"
   ]
  },
  {
   "cell_type": "code",
   "execution_count": 41,
   "metadata": {},
   "outputs": [
    {
     "name": "stderr",
     "output_type": "stream",
     "text": [
      "Loading required package: GenomicFeatures\n",
      "Loading required package: AnnotationDbi\n",
      "Loading required package: Biobase\n",
      "Welcome to Bioconductor\n",
      "\n",
      "    Vignettes contain introductory material; view with\n",
      "    'browseVignettes()'. To cite Bioconductor, see\n",
      "    'citation(\"Biobase\")', and for packages 'citation(\"pkgname\")'.\n",
      "\n",
      "\n",
      "Attaching package: 'AnnotationDbi'\n",
      "\n",
      "The following object is masked from 'package:dplyr':\n",
      "\n",
      "    select\n",
      "\n",
      "'select()' returned 1:1 mapping between keys and columns\n",
      "Building promoters...\n",
      "Building 1to5kb upstream of TSS...\n",
      "Building intergenic...\n",
      "Building 5UTRs...\n",
      "Building 3UTRs...\n",
      "Building exons...\n",
      "Building introns...\n",
      "snapshotDate(): 2017-10-27\n",
      "Building CpG islands...\n",
      "loading from cache 'C:/Users/DGL8/Documents/AppData/.AnnotationHub/5086'\n",
      "Building CpG shores...\n",
      "Building CpG shelves...\n",
      "Building inter-CpG-islands...\n"
     ]
    }
   ],
   "source": [
    "annotations = build_annotations(genome = 'hg19', annotations = annots)"
   ]
  },
  {
   "cell_type": "code",
   "execution_count": 42,
   "metadata": {},
   "outputs": [
    {
     "name": "stderr",
     "output_type": "stream",
     "text": [
      "Annotating...\n"
     ]
    },
    {
     "name": "stdout",
     "output_type": "stream",
     "text": [
      "GRanges object with 3844 ranges and 7 metadata columns:\n",
      "         seqnames                 ranges strand |   DM_status       pval\n",
      "            <Rle>              <IRanges>  <Rle> | <character>  <numeric>\n",
      "     [1]     chr1 [111215699, 111220378]      * |       hyper 0.01175439\n",
      "     [2]     chr1 [111215699, 111220378]      * |       hyper 0.01175439\n",
      "     [3]     chr1 [111215699, 111220378]      * |       hyper 0.01175439\n",
      "     [4]     chr1 [111215699, 111220378]      * |       hyper 0.01175439\n",
      "     [5]     chr1 [111215699, 111220378]      * |       hyper 0.01175439\n",
      "     ...      ...                    ...    ... .         ...        ...\n",
      "  [3840]     chrY     [2655277, 2659376]      * |        hypo 0.02609861\n",
      "  [3841]     chrY     [2655277, 2659376]      * |        hypo 0.02609861\n",
      "  [3842]     chrY     [2655277, 2659376]      * |        hypo 0.02609861\n",
      "  [3843]     chrY     [2655277, 2659376]      * |        hypo 0.02609861\n",
      "  [3844]     chrY     [2655277, 2659376]      * |        hypo 0.02609861\n",
      "          diff_meth       mu0        mu1        gene                      annot\n",
      "          <numeric> <numeric>  <numeric> <character>                  <GRanges>\n",
      "     [1]  0.8194444     0.875 0.05555556       KCNA3 chr1:111217656-111218655:-\n",
      "     [2]  0.8194444     0.875 0.05555556       KCNA3 chr1:111218656-111222655:-\n",
      "     [3]  0.8194444     0.875 0.05555556       KCNA3 chr1:111217432-111217655:-\n",
      "     [4]  0.8194444     0.875 0.05555556       KCNA3 chr1:111214310-111217655:-\n",
      "     [5]  0.8194444     0.875 0.05555556       KCNA3 chr1:111214310-111215703:-\n",
      "     ...        ...       ...        ...         ...                        ...\n",
      "  [3840] -0.5611111 0.1944444  0.7555556         SRY     chrY:2642781-2713686:+\n",
      "  [3841] -0.5611111 0.1944444  0.7555556         SRY     chrY:2657803-2658099:*\n",
      "  [3842] -0.5611111 0.1944444  0.7555556         SRY     chrY:2655803-2657802:*\n",
      "  [3843] -0.5611111 0.1944444  0.7555556         SRY     chrY:2658100-2660099:*\n",
      "  [3844] -0.5611111 0.1944444  0.7555556         SRY     chrY:2653803-2655802:*\n",
      "  -------\n",
      "  seqinfo: 93 sequences (1 circular) from hg19 genome\n"
     ]
    }
   ],
   "source": [
    "dm_annotated = annotate_regions(\n",
    "    regions = dm_regions,\n",
    "    annotations = annotations,\n",
    "    ignore.strand = TRUE,\n",
    "    quiet = FALSE)\n",
    "# A GRanges object is returned\n",
    "print(dm_annotated)"
   ]
  },
  {
   "cell_type": "code",
   "execution_count": 43,
   "metadata": {},
   "outputs": [
    {
     "name": "stdout",
     "output_type": "stream",
     "text": [
      "  seqnames     start       end width strand DM_status       pval diff_meth\n",
      "1     chr1 111215699 111220378  4680      *     hyper 0.01175439 0.8194444\n",
      "2     chr1 111215699 111220378  4680      *     hyper 0.01175439 0.8194444\n",
      "3     chr1 111215699 111220378  4680      *     hyper 0.01175439 0.8194444\n",
      "4     chr1 111215699 111220378  4680      *     hyper 0.01175439 0.8194444\n",
      "5     chr1 111215699 111220378  4680      *     hyper 0.01175439 0.8194444\n",
      "6     chr1 111215699 111220378  4680      *     hyper 0.01175439 0.8194444\n",
      "    mu0        mu1  gene annot.seqnames annot.start annot.end annot.width\n",
      "1 0.875 0.05555556 KCNA3           chr1   111217656 111218655        1000\n",
      "2 0.875 0.05555556 KCNA3           chr1   111218656 111222655        4000\n",
      "3 0.875 0.05555556 KCNA3           chr1   111217432 111217655         224\n",
      "4 0.875 0.05555556 KCNA3           chr1   111214310 111217655        3346\n",
      "5 0.875 0.05555556 KCNA3           chr1   111214310 111215703        1394\n",
      "6 0.875 0.05555556 KCNA3           chr1   111216245 111217937        1693\n",
      "  annot.strand      annot.id annot.tx_id annot.gene_id annot.symbol\n",
      "1            - promoter:5872  uc001dzv.1          3738        KCNA3\n",
      "2            -   1to5kb:5872  uc001dzv.1          3738        KCNA3\n",
      "3            -     5UTR:8523  uc001dzv.1          3738        KCNA3\n",
      "4            -    exon:55535  uc001dzv.1          3738        KCNA3\n",
      "5            -     3UTR:4724  uc001dzv.1          3738        KCNA3\n",
      "6            *   island:1424        <NA>          <NA>         <NA>\n",
      "            annot.type\n",
      "1 hg19_genes_promoters\n",
      "2    hg19_genes_1to5kb\n",
      "3     hg19_genes_5UTRs\n",
      "4     hg19_genes_exons\n",
      "5     hg19_genes_3UTRs\n",
      "6     hg19_cpg_islands\n"
     ]
    }
   ],
   "source": [
    "df_dm_annotated = data.frame(dm_annotated)\n",
    "print(head(df_dm_annotated))"
   ]
  },
  {
   "cell_type": "code",
   "execution_count": 44,
   "metadata": {},
   "outputs": [
    {
     "name": "stdout",
     "output_type": "stream",
     "text": [
      "# A tibble: 11 x 2\n",
      "   annot.type                n\n",
      "   <chr>                 <int>\n",
      " 1 hg19_cpg_inter           48\n",
      " 2 hg19_cpg_islands        110\n",
      " 3 hg19_cpg_shelves         88\n",
      " 4 hg19_cpg_shores         119\n",
      " 5 hg19_genes_1to5kb       113\n",
      " 6 hg19_genes_3UTRs         45\n",
      " 7 hg19_genes_5UTRs        100\n",
      " 8 hg19_genes_exons        144\n",
      " 9 hg19_genes_intergenic    26\n",
      "10 hg19_genes_introns      130\n",
      "11 hg19_genes_promoters    115\n"
     ]
    }
   ],
   "source": [
    "dm_annsum = summarize_annotations(\n",
    "    annotated_regions = dm_annotated,\n",
    "    quiet = TRUE)\n",
    "print(dm_annsum)"
   ]
  },
  {
   "cell_type": "code",
   "execution_count": 46,
   "metadata": {},
   "outputs": [
    {
     "name": "stderr",
     "output_type": "stream",
     "text": [
      "Warning message in subset_order_tbl(tbl = annotated_regions, col = \"annot.type\", :\n",
      "\"There are elements in col_order that are not present in the corresponding column. Check for typos, or this could be a result of 0 tallies.\""
     ]
    },
    {
     "data": {
      "image/png": "[encoded data removed]",
      "text/plain": [
       "plot without title"
      ]
     },
     "metadata": {},
     "output_type": "display_data"
    }
   ],
   "source": [
    "annots_order = c(\n",
    "    'hg19_custom_ezh2',\n",
    "    'hg19_H3K4me3_Gm12878',\n",
    "    'hg19_genes_1to5kb',\n",
    "    'hg19_genes_promoters',\n",
    "    'hg19_genes_5UTRs',\n",
    "    'hg19_genes_exons',\n",
    "    'hg19_genes_intronexonboundaries',\n",
    "    'hg19_genes_introns',\n",
    "    'hg19_genes_3UTRs',\n",
    "    'hg19_genes_intergenic')\n",
    "dm_vs_kg_annotations = plot_annotation(\n",
    "    annotated_regions = dm_annotated,\n",
    "    annotation_order = annots_order,\n",
    "    plot_title = '# of Sites for DM annotated',\n",
    "    x_label = 'knownGene Annotations',\n",
    "    y_label = 'Count')\n",
    "print(dm_vs_kg_annotations)"
   ]
  },
  {
   "cell_type": "code",
   "execution_count": 47,
   "metadata": {},
   "outputs": [
    {
     "name": "stderr",
     "output_type": "stream",
     "text": [
      "Warning message in subset_order_tbl(tbl = tbl, col = facet, col_order = facet_order):\n",
      "\"There are elements in col_order that are not present in the corresponding column. Check for typos, or this could be a result of 0 tallies.\""
     ]
    },
    {
     "data": {
      "image/png": "[encoded data removed]",
      "text/plain": [
       "plot without title"
      ]
     },
     "metadata": {},
     "output_type": "display_data"
    }
   ],
   "source": [
    "dm_vs_regions_annot = plot_numerical(\n",
    "    annotated_regions = dm_annotated,\n",
    "    x = 'mu0',\n",
    "    facet = 'annot.type',\n",
    "    facet_order = c('hg19_genes_1to5kb','hg19_genes_promoters',\n",
    "        'hg19_genes_5UTRs','hg19_genes_3UTRs', 'hg19_custom_ezh2',\n",
    "        'hg19_genes_intergenic', 'hg19_cpg_islands'),\n",
    "    bin_width = 5,\n",
    "    plot_title = 'Insulin sensitive Group Region Methylation In Genes',\n",
    "    x_label = 'Insulin sensitive Group')\n",
    "print(dm_vs_regions_annot)"
   ]
  },
  {
   "cell_type": "code",
   "execution_count": 51,
   "metadata": {},
   "outputs": [
    {
     "name": "stderr",
     "output_type": "stream",
     "text": [
      "Warning message in subset_order_tbl(tbl = tbl, col = facet, col_order = facet_order):\n",
      "\"There are elements in col_order that are not present in the corresponding column. Check for typos, or this could be a result of 0 tallies.\""
     ]
    },
    {
     "data": {
      "image/png": "[encoded data removed]",
      "text/plain": [
       "plot without title"
      ]
     },
     "metadata": {},
     "output_type": "display_data"
    }
   ],
   "source": [
    "dm_vs_regions_name = plot_numerical(\n",
    "    annotated_regions = dm_annotated,\n",
    "    x = 'mu0',\n",
    "    y = 'mu1',\n",
    "    facet = 'annot.type',\n",
    "    facet_order = c('hg19_genes_1to5kb','hg19_genes_promoters',\n",
    "        'hg19_genes_5UTRs','hg19_genes_3UTRs', 'hg19_custom_ezh2',\n",
    "        'hg19_genes_intergenic', 'hg19_cpg_islands', 'hg19_cpg_shores'),\n",
    "    plot_title = 'Region Methylation: After vs Before',\n",
    "    x_label = 'After',\n",
    "    y_label = 'Before')\n",
    "print(dm_vs_regions_name)"
   ]
  },
  {
   "cell_type": "code",
   "execution_count": 52,
   "metadata": {},
   "outputs": [
    {
     "data": {
      "image/png": "[encoded data removed]",
      "text/plain": [
       "plot without title"
      ]
     },
     "metadata": {},
     "output_type": "display_data"
    }
   ],
   "source": [
    "x_order = c(\n",
    "    'hyper',\n",
    "    'hypo')\n",
    "# The orders for the fill labels. Can also use this\n",
    "# parameter to subset annotation types to fill.\n",
    "fill_order = c(\n",
    "    'hg19_cpg_islands',\n",
    "    'hg19_cpg_shores',\n",
    "    'hg19_cpg_shelves',\n",
    "    'hg19_cpg_inter')\n",
    "# Make a barplot of the data class where each bar\n",
    "# is composed of the counts of CpG annotations.\n",
    "dm_vs_cpg_cat1 = plot_categorical(\n",
    "    annotated_regions = dm_annotated, x='DM_status', fill='annot.type',\n",
    "    x_order = x_order, fill_order = fill_order, position='stack',\n",
    "    plot_title = 'DM Status by CpG Annotation Counts',\n",
    "    legend_title = 'Annotations',\n",
    "    x_label = 'DM status',\n",
    "    y_label = 'Count')\n",
    "print(dm_vs_cpg_cat1)"
   ]
  },
  {
   "cell_type": "code",
   "execution_count": 53,
   "metadata": {},
   "outputs": [
    {
     "data": {
      "image/png": "[encoded data removed]",
      "text/plain": [
       "plot without title"
      ]
     },
     "metadata": {},
     "output_type": "display_data"
    }
   ],
   "source": [
    "dm_vs_cpg_cat2 = plot_categorical(\n",
    "    annotated_regions = dm_annotated, x='DM_status', fill='annot.type',\n",
    "    x_order = x_order, fill_order = fill_order, position='fill',\n",
    "    plot_title = 'DM Status by CpG Annotation Proportions',\n",
    "    legend_title = 'Annotations',\n",
    "    x_label = 'DM status',\n",
    "    y_label = 'Proportion')\n",
    "print(dm_vs_cpg_cat2)"
   ]
  },
  {
   "cell_type": "code",
   "execution_count": null,
   "metadata": {},
   "outputs": [],
   "source": []
  }
 ],
 "metadata": {
  "kernelspec": {
   "display_name": "R",
   "language": "R",
   "name": "ir"
  },
  "language_info": {
   "codemirror_mode": "r",
   "file_extension": ".r",
   "mimetype": "text/x-r-source",
   "name": "R",
   "pygments_lexer": "r",
   "version": "3.4.3"
  }
 },
 "nbformat": 4,
 "nbformat_minor": 2
}
