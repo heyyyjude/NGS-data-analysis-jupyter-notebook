{
 "cells": [
  {
   "cell_type": "code",
   "execution_count": 2,
   "metadata": {},
   "outputs": [
    {
     "name": "stderr",
     "output_type": "stream",
     "text": [
      "Warning message:\n",
      "\"package 'tidyverse' was built under R version 3.4.4\"-- Attaching packages --------------------------------------- tidyverse 1.2.1 --\n",
      "√ ggplot2 2.2.1     √ purrr   0.2.4\n",
      "√ tibble  1.4.2     √ dplyr   0.7.4\n",
      "√ tidyr   0.8.0     √ stringr 1.3.0\n",
      "√ readr   1.1.1     √ forcats 0.3.0\n",
      "-- Conflicts ------------------------------------------ tidyverse_conflicts() --\n",
      "x dplyr::filter() masks stats::filter()\n",
      "x dplyr::lag()    masks stats::lag()\n"
     ]
    }
   ],
   "source": [
    "library(tidyverse)"
   ]
  },
  {
   "cell_type": "code",
   "execution_count": 3,
   "metadata": {},
   "outputs": [
    {
     "name": "stderr",
     "output_type": "stream",
     "text": [
      "Parsed with column specification:\n",
      "cols(\n",
      "  SiteID = col_character(),\n",
      "  Chr = col_integer(),\n",
      "  Loc = col_integer(),\n",
      "  Gene = col_character(),\n",
      "  Island = col_character(),\n",
      "  after.avg.beta = col_double(),\n",
      "  before.avg.beta = col_double(),\n",
      "  after.vs.before.delta.beta = col_double(),\n",
      "  after.vs.before.pvalue = col_double(),\n",
      "  after.vs.before.fdr = col_double(),\n",
      "  `Gene name` = col_character(),\n",
      "  `Gene stable ID` = col_character(),\n",
      "  `Chromosome/scaffold name` = col_character(),\n",
      "  `Gene start (bp)` = col_integer(),\n",
      "  `Gene end (bp)` = col_integer(),\n",
      "  Strand = col_integer(),\n",
      "  meth.pos.by.gene.start = col_integer()\n",
      ")\n"
     ]
    },
    {
     "data": {
      "text/html": [
       "<table>\n",
       "<thead><tr><th scope=col>SiteID</th><th scope=col>Chr</th><th scope=col>Loc</th><th scope=col>Gene</th><th scope=col>Island</th><th scope=col>after.avg.beta</th><th scope=col>before.avg.beta</th><th scope=col>after.vs.before.delta.beta</th><th scope=col>after.vs.before.pvalue</th><th scope=col>after.vs.before.fdr</th><th scope=col>Gene name</th><th scope=col>Gene stable ID</th><th scope=col>Chromosome/scaffold name</th><th scope=col>Gene start (bp)</th><th scope=col>Gene end (bp)</th><th scope=col>Strand</th><th scope=col>meth.pos.by.gene.start</th></tr></thead>\n",
       "<tbody>\n",
       "\t<tr><td>chr17.5940     </td><td>1              </td><td>5940           </td><td>AC108004.5     </td><td>chr17:4829-9033</td><td>0.9404279      </td><td>0.9647284      </td><td>-0.024300483   </td><td>0.3052511      </td><td>0.9456410      </td><td>AC108004.5     </td><td>ENSG00000273288</td><td>17             </td><td>4961           </td><td>5048           </td><td>-1             </td><td> 979           </td></tr>\n",
       "\t<tr><td>chr17.5946     </td><td>1              </td><td>5946           </td><td>AC108004.5     </td><td>chr17:3924-8144</td><td>0.9343210      </td><td>0.9561717      </td><td>-0.021850748   </td><td>0.7184729      </td><td>0.9999332      </td><td>AC108004.5     </td><td>ENSG00000273288</td><td>17             </td><td>4961           </td><td>5048           </td><td>-1             </td><td> 985           </td></tr>\n",
       "\t<tr><td>chr17.5953     </td><td>1              </td><td>5953           </td><td>AC108004.5     </td><td>chr17:4829-9033</td><td>0.9339109      </td><td>0.9242834      </td><td> 0.009627466   </td><td>0.7951554      </td><td>1.0000000      </td><td>AC108004.5     </td><td>ENSG00000273288</td><td>17             </td><td>4961           </td><td>5048           </td><td>-1             </td><td> 992           </td></tr>\n",
       "\t<tr><td>chr17.5961     </td><td>1              </td><td>5961           </td><td>AC108004.5     </td><td>chr17:4829-9033</td><td>0.9209405      </td><td>0.8847480      </td><td> 0.036192487   </td><td>0.4941099      </td><td>0.9685684      </td><td>AC108004.5     </td><td>ENSG00000273288</td><td>17             </td><td>4961           </td><td>5048           </td><td>-1             </td><td>1000           </td></tr>\n",
       "\t<tr><td>chr17.5979     </td><td>1              </td><td>5979           </td><td>AC108004.5     </td><td>chr17:3924-8144</td><td>0.9186138      </td><td>0.9264646      </td><td>-0.007850824   </td><td>0.7767496      </td><td>1.0000000      </td><td>AC108004.5     </td><td>ENSG00000273288</td><td>17             </td><td>4961           </td><td>5048           </td><td>-1             </td><td>1018           </td></tr>\n",
       "\t<tr><td>chr17.5994     </td><td>1              </td><td>5994           </td><td>AC108004.5     </td><td>chr17:4829-9033</td><td>0.9204279      </td><td>0.9343629      </td><td>-0.013935084   </td><td>0.1942581      </td><td>0.9456410      </td><td>AC108004.5     </td><td>ENSG00000273288</td><td>17             </td><td>4961           </td><td>5048           </td><td>-1             </td><td>1033           </td></tr>\n",
       "</tbody>\n",
       "</table>\n"
      ],
      "text/latex": [
       "\\begin{tabular}{r|lllllllllllllllll}\n",
       " SiteID & Chr & Loc & Gene & Island & after.avg.beta & before.avg.beta & after.vs.before.delta.beta & after.vs.before.pvalue & after.vs.before.fdr & Gene name & Gene stable ID & Chromosome/scaffold name & Gene start (bp) & Gene end (bp) & Strand & meth.pos.by.gene.start\\\\\n",
       "\\hline\n",
       "\t chr17.5940      & 1               & 5940            & AC108004.5      & chr17:4829-9033 & 0.9404279       & 0.9647284       & -0.024300483    & 0.3052511       & 0.9456410       & AC108004.5      & ENSG00000273288 & 17              & 4961            & 5048            & -1              &  979           \\\\\n",
       "\t chr17.5946      & 1               & 5946            & AC108004.5      & chr17:3924-8144 & 0.9343210       & 0.9561717       & -0.021850748    & 0.7184729       & 0.9999332       & AC108004.5      & ENSG00000273288 & 17              & 4961            & 5048            & -1              &  985           \\\\\n",
       "\t chr17.5953      & 1               & 5953            & AC108004.5      & chr17:4829-9033 & 0.9339109       & 0.9242834       &  0.009627466    & 0.7951554       & 1.0000000       & AC108004.5      & ENSG00000273288 & 17              & 4961            & 5048            & -1              &  992           \\\\\n",
       "\t chr17.5961      & 1               & 5961            & AC108004.5      & chr17:4829-9033 & 0.9209405       & 0.8847480       &  0.036192487    & 0.4941099       & 0.9685684       & AC108004.5      & ENSG00000273288 & 17              & 4961            & 5048            & -1              & 1000           \\\\\n",
       "\t chr17.5979      & 1               & 5979            & AC108004.5      & chr17:3924-8144 & 0.9186138       & 0.9264646       & -0.007850824    & 0.7767496       & 1.0000000       & AC108004.5      & ENSG00000273288 & 17              & 4961            & 5048            & -1              & 1018           \\\\\n",
       "\t chr17.5994      & 1               & 5994            & AC108004.5      & chr17:4829-9033 & 0.9204279       & 0.9343629       & -0.013935084    & 0.1942581       & 0.9456410       & AC108004.5      & ENSG00000273288 & 17              & 4961            & 5048            & -1              & 1033           \\\\\n",
       "\\end{tabular}\n"
      ],
      "text/markdown": [
       "\n",
       "SiteID | Chr | Loc | Gene | Island | after.avg.beta | before.avg.beta | after.vs.before.delta.beta | after.vs.before.pvalue | after.vs.before.fdr | Gene name | Gene stable ID | Chromosome/scaffold name | Gene start (bp) | Gene end (bp) | Strand | meth.pos.by.gene.start | \n",
       "|---|---|---|---|---|---|\n",
       "| chr17.5940      | 1               | 5940            | AC108004.5      | chr17:4829-9033 | 0.9404279       | 0.9647284       | -0.024300483    | 0.3052511       | 0.9456410       | AC108004.5      | ENSG00000273288 | 17              | 4961            | 5048            | -1              |  979            | \n",
       "| chr17.5946      | 1               | 5946            | AC108004.5      | chr17:3924-8144 | 0.9343210       | 0.9561717       | -0.021850748    | 0.7184729       | 0.9999332       | AC108004.5      | ENSG00000273288 | 17              | 4961            | 5048            | -1              |  985            | \n",
       "| chr17.5953      | 1               | 5953            | AC108004.5      | chr17:4829-9033 | 0.9339109       | 0.9242834       |  0.009627466    | 0.7951554       | 1.0000000       | AC108004.5      | ENSG00000273288 | 17              | 4961            | 5048            | -1              |  992            | \n",
       "| chr17.5961      | 1               | 5961            | AC108004.5      | chr17:4829-9033 | 0.9209405       | 0.8847480       |  0.036192487    | 0.4941099       | 0.9685684       | AC108004.5      | ENSG00000273288 | 17              | 4961            | 5048            | -1              | 1000            | \n",
       "| chr17.5979      | 1               | 5979            | AC108004.5      | chr17:3924-8144 | 0.9186138       | 0.9264646       | -0.007850824    | 0.7767496       | 1.0000000       | AC108004.5      | ENSG00000273288 | 17              | 4961            | 5048            | -1              | 1018            | \n",
       "| chr17.5994      | 1               | 5994            | AC108004.5      | chr17:4829-9033 | 0.9204279       | 0.9343629       | -0.013935084    | 0.1942581       | 0.9456410       | AC108004.5      | ENSG00000273288 | 17              | 4961            | 5048            | -1              | 1033            | \n",
       "\n",
       "\n"
      ],
      "text/plain": [
       "  SiteID     Chr Loc  Gene       Island          after.avg.beta before.avg.beta\n",
       "1 chr17.5940 1   5940 AC108004.5 chr17:4829-9033 0.9404279      0.9647284      \n",
       "2 chr17.5946 1   5946 AC108004.5 chr17:3924-8144 0.9343210      0.9561717      \n",
       "3 chr17.5953 1   5953 AC108004.5 chr17:4829-9033 0.9339109      0.9242834      \n",
       "4 chr17.5961 1   5961 AC108004.5 chr17:4829-9033 0.9209405      0.8847480      \n",
       "5 chr17.5979 1   5979 AC108004.5 chr17:3924-8144 0.9186138      0.9264646      \n",
       "6 chr17.5994 1   5994 AC108004.5 chr17:4829-9033 0.9204279      0.9343629      \n",
       "  after.vs.before.delta.beta after.vs.before.pvalue after.vs.before.fdr\n",
       "1 -0.024300483               0.3052511              0.9456410          \n",
       "2 -0.021850748               0.7184729              0.9999332          \n",
       "3  0.009627466               0.7951554              1.0000000          \n",
       "4  0.036192487               0.4941099              0.9685684          \n",
       "5 -0.007850824               0.7767496              1.0000000          \n",
       "6 -0.013935084               0.1942581              0.9456410          \n",
       "  Gene name  Gene stable ID  Chromosome/scaffold name Gene start (bp)\n",
       "1 AC108004.5 ENSG00000273288 17                       4961           \n",
       "2 AC108004.5 ENSG00000273288 17                       4961           \n",
       "3 AC108004.5 ENSG00000273288 17                       4961           \n",
       "4 AC108004.5 ENSG00000273288 17                       4961           \n",
       "5 AC108004.5 ENSG00000273288 17                       4961           \n",
       "6 AC108004.5 ENSG00000273288 17                       4961           \n",
       "  Gene end (bp) Strand meth.pos.by.gene.start\n",
       "1 5048          -1      979                  \n",
       "2 5048          -1      985                  \n",
       "3 5048          -1      992                  \n",
       "4 5048          -1     1000                  \n",
       "5 5048          -1     1018                  \n",
       "6 5048          -1     1033                  "
      ]
     },
     "metadata": {},
     "output_type": "display_data"
    }
   ],
   "source": [
    "df <- read_tsv(\"no-pval-insensitive.tsv\")\n",
    "head(df)"
   ]
  },
  {
   "cell_type": "code",
   "execution_count": 13,
   "metadata": {},
   "outputs": [
    {
     "data": {
      "text/html": [
       "<table>\n",
       "<thead><tr><th scope=col>Gene</th><th scope=col>after.vs.before.delta.beta</th><th scope=col>meth.pos.by.gene.start</th></tr></thead>\n",
       "<tbody>\n",
       "\t<tr><td>AC108004.5   </td><td>-0.0243004834</td><td> 979         </td></tr>\n",
       "\t<tr><td>AC108004.5   </td><td>-0.0218507476</td><td> 985         </td></tr>\n",
       "\t<tr><td>AC108004.5   </td><td> 0.0096274664</td><td> 992         </td></tr>\n",
       "\t<tr><td>AC108004.5   </td><td> 0.0361924868</td><td>1000         </td></tr>\n",
       "\t<tr><td>AC108004.5   </td><td>-0.0078508241</td><td>1018         </td></tr>\n",
       "\t<tr><td>AC108004.5   </td><td>-0.0139350841</td><td>1033         </td></tr>\n",
       "\t<tr><td>AC108004.5   </td><td> 0.0142345209</td><td>1035         </td></tr>\n",
       "\t<tr><td>AC108004.5   </td><td>-0.0223800764</td><td>1039         </td></tr>\n",
       "\t<tr><td>AC108004.5   </td><td> 0.1131384262</td><td>1050         </td></tr>\n",
       "\t<tr><td>AC108004.5   </td><td>-0.0148065053</td><td>1058         </td></tr>\n",
       "\t<tr><td>AC108004.5   </td><td> 0.0438252579</td><td>1068         </td></tr>\n",
       "\t<tr><td>AC108004.5   </td><td>-0.0285750636</td><td>1076         </td></tr>\n",
       "\t<tr><td>AC108004.5   </td><td> 0.0575313736</td><td>1082         </td></tr>\n",
       "\t<tr><td>AC108004.5   </td><td>-0.0243481853</td><td>1091         </td></tr>\n",
       "\t<tr><td>AC108004.5   </td><td>-0.0252532975</td><td>1103         </td></tr>\n",
       "\t<tr><td>AC108004.5   </td><td> 0.0017488076</td><td>1108         </td></tr>\n",
       "\t<tr><td>AC108004.5   </td><td> 0.0159550914</td><td>1112         </td></tr>\n",
       "\t<tr><td>AC108004.5   </td><td>-0.0013124341</td><td>1168         </td></tr>\n",
       "\t<tr><td>AC108004.5   </td><td> 0.0176315123</td><td>1174         </td></tr>\n",
       "\t<tr><td>AC108004.5   </td><td> 0.0002850486</td><td>1902         </td></tr>\n",
       "</tbody>\n",
       "</table>\n"
      ],
      "text/latex": [
       "\\begin{tabular}{r|lll}\n",
       " Gene & after.vs.before.delta.beta & meth.pos.by.gene.start\\\\\n",
       "\\hline\n",
       "\t AC108004.5    & -0.0243004834 &  979         \\\\\n",
       "\t AC108004.5    & -0.0218507476 &  985         \\\\\n",
       "\t AC108004.5    &  0.0096274664 &  992         \\\\\n",
       "\t AC108004.5    &  0.0361924868 & 1000         \\\\\n",
       "\t AC108004.5    & -0.0078508241 & 1018         \\\\\n",
       "\t AC108004.5    & -0.0139350841 & 1033         \\\\\n",
       "\t AC108004.5    &  0.0142345209 & 1035         \\\\\n",
       "\t AC108004.5    & -0.0223800764 & 1039         \\\\\n",
       "\t AC108004.5    &  0.1131384262 & 1050         \\\\\n",
       "\t AC108004.5    & -0.0148065053 & 1058         \\\\\n",
       "\t AC108004.5    &  0.0438252579 & 1068         \\\\\n",
       "\t AC108004.5    & -0.0285750636 & 1076         \\\\\n",
       "\t AC108004.5    &  0.0575313736 & 1082         \\\\\n",
       "\t AC108004.5    & -0.0243481853 & 1091         \\\\\n",
       "\t AC108004.5    & -0.0252532975 & 1103         \\\\\n",
       "\t AC108004.5    &  0.0017488076 & 1108         \\\\\n",
       "\t AC108004.5    &  0.0159550914 & 1112         \\\\\n",
       "\t AC108004.5    & -0.0013124341 & 1168         \\\\\n",
       "\t AC108004.5    &  0.0176315123 & 1174         \\\\\n",
       "\t AC108004.5    &  0.0002850486 & 1902         \\\\\n",
       "\\end{tabular}\n"
      ],
      "text/markdown": [
       "\n",
       "Gene | after.vs.before.delta.beta | meth.pos.by.gene.start | \n",
       "|---|---|---|---|---|---|---|---|---|---|---|---|---|---|---|---|---|---|---|---|\n",
       "| AC108004.5    | -0.0243004834 |  979          | \n",
       "| AC108004.5    | -0.0218507476 |  985          | \n",
       "| AC108004.5    |  0.0096274664 |  992          | \n",
       "| AC108004.5    |  0.0361924868 | 1000          | \n",
       "| AC108004.5    | -0.0078508241 | 1018          | \n",
       "| AC108004.5    | -0.0139350841 | 1033          | \n",
       "| AC108004.5    |  0.0142345209 | 1035          | \n",
       "| AC108004.5    | -0.0223800764 | 1039          | \n",
       "| AC108004.5    |  0.1131384262 | 1050          | \n",
       "| AC108004.5    | -0.0148065053 | 1058          | \n",
       "| AC108004.5    |  0.0438252579 | 1068          | \n",
       "| AC108004.5    | -0.0285750636 | 1076          | \n",
       "| AC108004.5    |  0.0575313736 | 1082          | \n",
       "| AC108004.5    | -0.0243481853 | 1091          | \n",
       "| AC108004.5    | -0.0252532975 | 1103          | \n",
       "| AC108004.5    |  0.0017488076 | 1108          | \n",
       "| AC108004.5    |  0.0159550914 | 1112          | \n",
       "| AC108004.5    | -0.0013124341 | 1168          | \n",
       "| AC108004.5    |  0.0176315123 | 1174          | \n",
       "| AC108004.5    |  0.0002850486 | 1902          | \n",
       "\n",
       "\n"
      ],
      "text/plain": [
       "   Gene       after.vs.before.delta.beta meth.pos.by.gene.start\n",
       "1  AC108004.5 -0.0243004834               979                  \n",
       "2  AC108004.5 -0.0218507476               985                  \n",
       "3  AC108004.5  0.0096274664               992                  \n",
       "4  AC108004.5  0.0361924868              1000                  \n",
       "5  AC108004.5 -0.0078508241              1018                  \n",
       "6  AC108004.5 -0.0139350841              1033                  \n",
       "7  AC108004.5  0.0142345209              1035                  \n",
       "8  AC108004.5 -0.0223800764              1039                  \n",
       "9  AC108004.5  0.1131384262              1050                  \n",
       "10 AC108004.5 -0.0148065053              1058                  \n",
       "11 AC108004.5  0.0438252579              1068                  \n",
       "12 AC108004.5 -0.0285750636              1076                  \n",
       "13 AC108004.5  0.0575313736              1082                  \n",
       "14 AC108004.5 -0.0243481853              1091                  \n",
       "15 AC108004.5 -0.0252532975              1103                  \n",
       "16 AC108004.5  0.0017488076              1108                  \n",
       "17 AC108004.5  0.0159550914              1112                  \n",
       "18 AC108004.5 -0.0013124341              1168                  \n",
       "19 AC108004.5  0.0176315123              1174                  \n",
       "20 AC108004.5  0.0002850486              1902                  "
      ]
     },
     "metadata": {},
     "output_type": "display_data"
    }
   ],
   "source": [
    "mid <- df %>% select(Gene, after.vs.before.delta.beta, meth.pos.by.gene.start) %>% filter(abs(meth.pos.by.gene.start) <= 2000)\n",
    "head(mid, 20)"
   ]
  },
  {
   "cell_type": "code",
   "execution_count": 14,
   "metadata": {},
   "outputs": [],
   "source": [
    "mid <- mid %>% mutate(methylation = ifelse(after.vs.before.delta.beta >= 0, 'hyper', 'hypo'))"
   ]
  },
  {
   "cell_type": "code",
   "execution_count": 15,
   "metadata": {},
   "outputs": [
    {
     "data": {
      "text/html": [
       "<table>\n",
       "<thead><tr><th scope=col>Gene</th><th scope=col>after.vs.before.delta.beta</th><th scope=col>meth.pos.by.gene.start</th><th scope=col>methylation</th></tr></thead>\n",
       "<tbody>\n",
       "\t<tr><td>RASD1       </td><td>-0.098308495</td><td>-1359       </td><td>hypo        </td></tr>\n",
       "\t<tr><td>RASD1       </td><td> 0.044991790</td><td> -929       </td><td>hyper       </td></tr>\n",
       "\t<tr><td>RASD1       </td><td> 0.012438178</td><td> -903       </td><td>hyper       </td></tr>\n",
       "\t<tr><td>RASD1       </td><td> 0.017466408</td><td> -838       </td><td>hyper       </td></tr>\n",
       "\t<tr><td>RASD1       </td><td> 0.024018043</td><td> -738       </td><td>hyper       </td></tr>\n",
       "\t<tr><td>RASD1       </td><td>-0.007288118</td><td> -719       </td><td>hypo        </td></tr>\n",
       "</tbody>\n",
       "</table>\n"
      ],
      "text/latex": [
       "\\begin{tabular}{r|llll}\n",
       " Gene & after.vs.before.delta.beta & meth.pos.by.gene.start & methylation\\\\\n",
       "\\hline\n",
       "\t RASD1        & -0.098308495 & -1359        & hypo        \\\\\n",
       "\t RASD1        &  0.044991790 &  -929        & hyper       \\\\\n",
       "\t RASD1        &  0.012438178 &  -903        & hyper       \\\\\n",
       "\t RASD1        &  0.017466408 &  -838        & hyper       \\\\\n",
       "\t RASD1        &  0.024018043 &  -738        & hyper       \\\\\n",
       "\t RASD1        & -0.007288118 &  -719        & hypo        \\\\\n",
       "\\end{tabular}\n"
      ],
      "text/markdown": [
       "\n",
       "Gene | after.vs.before.delta.beta | meth.pos.by.gene.start | methylation | \n",
       "|---|---|---|---|---|---|\n",
       "| RASD1        | -0.098308495 | -1359        | hypo         | \n",
       "| RASD1        |  0.044991790 |  -929        | hyper        | \n",
       "| RASD1        |  0.012438178 |  -903        | hyper        | \n",
       "| RASD1        |  0.017466408 |  -838        | hyper        | \n",
       "| RASD1        |  0.024018043 |  -738        | hyper        | \n",
       "| RASD1        | -0.007288118 |  -719        | hypo         | \n",
       "\n",
       "\n"
      ],
      "text/plain": [
       "  Gene  after.vs.before.delta.beta meth.pos.by.gene.start methylation\n",
       "1 RASD1 -0.098308495               -1359                  hypo       \n",
       "2 RASD1  0.044991790                -929                  hyper      \n",
       "3 RASD1  0.012438178                -903                  hyper      \n",
       "4 RASD1  0.017466408                -838                  hyper      \n",
       "5 RASD1  0.024018043                -738                  hyper      \n",
       "6 RASD1 -0.007288118                -719                  hypo       "
      ]
     },
     "metadata": {},
     "output_type": "display_data"
    }
   ],
   "source": [
    "long <- mid %>% filter(Gene==\"RASD1\")\n",
    "\n",
    "head(long)"
   ]
  },
  {
   "cell_type": "code",
   "execution_count": 25,
   "metadata": {},
   "outputs": [
    {
     "name": "stderr",
     "output_type": "stream",
     "text": [
      "Warning message:\n",
      "\"Removed 1 rows containing missing values (geom_point).\""
     ]
    },
    {
     "data": {},
     "metadata": {},
     "output_type": "display_data"
    },
    {
     "data": {
      "image/png": "[encoded data removed]",
      "text/plain": [
       "plot without title"
      ]
     },
     "metadata": {},
     "output_type": "display_data"
    }
   ],
   "source": [
    "ggplot(long, aes(x=meth.pos.by.gene.start, y=after.vs.before.delta.beta, color=methylation)) + geom_point(size=.9) + scale_x_continuous(limits = c(-2500, 2500)) + scale_y_continuous(limits = c(-.5, .5)) # +  geom_line() # + geom_bar(aes(fill=methylation), stat=\"identity\")"
   ]
  },
  {
   "cell_type": "code",
   "execution_count": 29,
   "metadata": {},
   "outputs": [
    {
     "data": {},
     "metadata": {},
     "output_type": "display_data"
    },
    {
     "data": {
      "image/png": "[encoded data removed]",
      "text/plain": [
       "plot without title"
      ]
     },
     "metadata": {},
     "output_type": "display_data"
    }
   ],
   "source": [
    "ggplot(long, aes(x=meth.pos.by.gene.start, color=methylation, fill=methylation)) + geom_density(alpha=0.1)"
   ]
  },
  {
   "cell_type": "code",
   "execution_count": null,
   "metadata": {},
   "outputs": [],
   "source": []
  }
 ],
 "metadata": {
  "kernelspec": {
   "display_name": "R",
   "language": "R",
   "name": "ir"
  },
  "language_info": {
   "codemirror_mode": "r",
   "file_extension": ".r",
   "mimetype": "text/x-r-source",
   "name": "R",
   "pygments_lexer": "r",
   "version": "3.4.3"
  }
 },
 "nbformat": 4,
 "nbformat_minor": 2
}
