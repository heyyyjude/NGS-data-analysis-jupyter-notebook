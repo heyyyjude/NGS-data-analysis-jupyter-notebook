{
 "cells": [
  {
   "cell_type": "code",
   "execution_count": 4,
   "metadata": {},
   "outputs": [],
   "source": [
    "import matplotlib.pyplot as plt\n",
    "import pandas as pd\n",
    "\n",
    "from matplotlib_venn import venn3\n",
    "from dplython import (DplyFrame, X, diamonds, select, sift, sample_n,\n",
    "    sample_frac, head, arrange, mutate, group_by, summarize, DelayFunction) "
   ]
  },
  {
   "cell_type": "code",
   "execution_count": 5,
   "metadata": {},
   "outputs": [
    {
     "data": {
      "text/html": [
       "<div>\n",
       "<style scoped>\n",
       "    .dataframe tbody tr th:only-of-type {\n",
       "        vertical-align: middle;\n",
       "    }\n",
       "\n",
       "    .dataframe tbody tr th {\n",
       "        vertical-align: top;\n",
       "    }\n",
       "\n",
       "    .dataframe thead th {\n",
       "        text-align: right;\n",
       "    }\n",
       "</style>\n",
       "<table border=\"1\" class=\"dataframe\">\n",
       "  <thead>\n",
       "    <tr style=\"text-align: right;\">\n",
       "      <th></th>\n",
       "      <th>PJY</th>\n",
       "      <th>YJS</th>\n",
       "      <th>YYJ</th>\n",
       "    </tr>\n",
       "  </thead>\n",
       "  <tbody>\n",
       "    <tr>\n",
       "      <th>0</th>\n",
       "      <td>SYNGR1</td>\n",
       "      <td>CD44</td>\n",
       "      <td>CLEC16A</td>\n",
       "    </tr>\n",
       "    <tr>\n",
       "      <th>1</th>\n",
       "      <td>SIGLEC6</td>\n",
       "      <td>IKZF2</td>\n",
       "      <td>TCF7</td>\n",
       "    </tr>\n",
       "    <tr>\n",
       "      <th>2</th>\n",
       "      <td>GATA3</td>\n",
       "      <td>GALC</td>\n",
       "      <td>SYNGR1</td>\n",
       "    </tr>\n",
       "    <tr>\n",
       "      <th>3</th>\n",
       "      <td>LPP</td>\n",
       "      <td>LRRC16A</td>\n",
       "      <td>GRAP2</td>\n",
       "    </tr>\n",
       "    <tr>\n",
       "      <th>4</th>\n",
       "      <td>SLC26A1</td>\n",
       "      <td>PTPRC</td>\n",
       "      <td>SIGLEC6</td>\n",
       "    </tr>\n",
       "  </tbody>\n",
       "</table>\n",
       "</div>"
      ],
      "text/plain": [
       "       PJY      YJS      YYJ\n",
       "0   SYNGR1     CD44  CLEC16A\n",
       "1  SIGLEC6    IKZF2     TCF7\n",
       "2    GATA3     GALC   SYNGR1\n",
       "3      LPP  LRRC16A    GRAP2\n",
       "4  SLC26A1    PTPRC  SIGLEC6"
      ]
     },
     "execution_count": 5,
     "metadata": {},
     "output_type": "execute_result"
    }
   ],
   "source": [
    "up = pd.read_csv(\"up-cluster.csv\")\n",
    "up.head()"
   ]
  },
  {
   "cell_type": "code",
   "execution_count": 22,
   "metadata": {},
   "outputs": [],
   "source": [
    "pjy_up = up[\"PJY\"].tolist()\n",
    "yjs_up = up[\"YJS\"].tolist()\n",
    "yyj_up = up[\"YYJ\"].tolist()"
   ]
  },
  {
   "cell_type": "code",
   "execution_count": 23,
   "metadata": {},
   "outputs": [
    {
     "data": {
      "text/plain": [
       "pandas.core.series.Series"
      ]
     },
     "execution_count": 23,
     "metadata": {},
     "output_type": "execute_result"
    }
   ],
   "source": [
    "type(up[\"PJY\"])"
   ]
  },
  {
   "cell_type": "code",
   "execution_count": 24,
   "metadata": {},
   "outputs": [
    {
     "data": {
      "image/png": "[encoded data removed]",
      "text/plain": [
       "<matplotlib.figure.Figure at 0x270a5578f98>"
      ]
     },
     "metadata": {},
     "output_type": "display_data"
    }
   ],
   "source": [
    "venn3([set(pjy_up), set(yjs_up), set(yyj_up)], set_labels=(\"PJY\", \"YJS\", \"YYJ\"))\n",
    "plt.title(\"Number of Increased genes\")\n",
    "plt.show()"
   ]
  },
  {
   "cell_type": "code",
   "execution_count": 21,
   "metadata": {},
   "outputs": [
    {
     "data": {
      "text/html": [
       "<div>\n",
       "<style scoped>\n",
       "    .dataframe tbody tr th:only-of-type {\n",
       "        vertical-align: middle;\n",
       "    }\n",
       "\n",
       "    .dataframe tbody tr th {\n",
       "        vertical-align: top;\n",
       "    }\n",
       "\n",
       "    .dataframe thead th {\n",
       "        text-align: right;\n",
       "    }\n",
       "</style>\n",
       "<table border=\"1\" class=\"dataframe\">\n",
       "  <thead>\n",
       "    <tr style=\"text-align: right;\">\n",
       "      <th></th>\n",
       "      <th>PJY</th>\n",
       "      <th>YJS</th>\n",
       "      <th>YYJ</th>\n",
       "    </tr>\n",
       "  </thead>\n",
       "  <tbody>\n",
       "    <tr>\n",
       "      <th>0</th>\n",
       "      <td>CDKN1B</td>\n",
       "      <td>IL2</td>\n",
       "      <td>PLAT</td>\n",
       "    </tr>\n",
       "    <tr>\n",
       "      <th>1</th>\n",
       "      <td>NCF2</td>\n",
       "      <td>CDKN1B</td>\n",
       "      <td>SLC15A4</td>\n",
       "    </tr>\n",
       "    <tr>\n",
       "      <th>2</th>\n",
       "      <td>IL2RA</td>\n",
       "      <td>PPP2CA</td>\n",
       "      <td>RORC</td>\n",
       "    </tr>\n",
       "    <tr>\n",
       "      <th>3</th>\n",
       "      <td>IL10</td>\n",
       "      <td>EDEM3</td>\n",
       "      <td>TERT</td>\n",
       "    </tr>\n",
       "    <tr>\n",
       "      <th>4</th>\n",
       "      <td>SLC15A4</td>\n",
       "      <td>FCGR3B</td>\n",
       "      <td>ENTHD1</td>\n",
       "    </tr>\n",
       "  </tbody>\n",
       "</table>\n",
       "</div>"
      ],
      "text/plain": [
       "       PJY     YJS      YYJ\n",
       "0   CDKN1B     IL2     PLAT\n",
       "1     NCF2  CDKN1B  SLC15A4\n",
       "2    IL2RA  PPP2CA     RORC\n",
       "3     IL10   EDEM3     TERT\n",
       "4  SLC15A4  FCGR3B   ENTHD1"
      ]
     },
     "execution_count": 21,
     "metadata": {},
     "output_type": "execute_result"
    }
   ],
   "source": [
    "down = pd.read_csv(\"down-cluster.csv\")\n",
    "down.head()"
   ]
  },
  {
   "cell_type": "code",
   "execution_count": 25,
   "metadata": {},
   "outputs": [],
   "source": [
    "pjy_down = down[\"PJY\"].tolist()\n",
    "yjs_down = down[\"YJS\"].tolist()\n",
    "yyj_down = down[\"YYJ\"].tolist()"
   ]
  },
  {
   "cell_type": "code",
   "execution_count": 26,
   "metadata": {},
   "outputs": [
    {
     "data": {
      "image/png": "[encoded data removed]",
      "text/plain": [
       "<matplotlib.figure.Figure at 0x270a5ea2e10>"
      ]
     },
     "metadata": {},
     "output_type": "display_data"
    }
   ],
   "source": [
    "venn3([set(pjy_down), set(yjs_down), set(yyj_down)], set_labels=(\"PJY\", \"YJS\", \"YYJ\"))\n",
    "plt.title(\"Number of Decreased genes\")\n",
    "plt.show()"
   ]
  },
  {
   "cell_type": "code",
   "execution_count": 27,
   "metadata": {},
   "outputs": [
    {
     "name": "stdout",
     "output_type": "stream",
     "text": [
      "{'UBE2L3', 'ZC2HC1A', 'CLEC16A', 'SYNGR1', 'TMEM86B', 'SLC26A1', 'GALC', 'SIGLEC6', 'FAM86B3P', 'RASGRP1', 'PTPRC', 'BACH2', 'ETS1', 'IRAK1', 'BANK1', 'TIMMDC1', 'TYK2', 'IRF7', 'IKZF2', 'IKZF1', 'GATA3', 'RASGRP3', 'IRF8', 'LRRC16A', 'IL12A', 'IKZF3', 'STAT4'}\n"
     ]
    }
   ],
   "source": [
    "ups = set(pjy_up).intersection(set(yjs_up))\n",
    "ups = ups.intersection(set(yyj_up))\n",
    "print(ups)"
   ]
  },
  {
   "cell_type": "code",
   "execution_count": null,
   "metadata": {},
   "outputs": [],
   "source": []
  }
 ],
 "metadata": {
  "kernelspec": {
   "display_name": "Python 3",
   "language": "python",
   "name": "python3"
  },
  "language_info": {
   "codemirror_mode": {
    "name": "ipython",
    "version": 3
   },
   "file_extension": ".py",
   "mimetype": "text/x-python",
   "name": "python",
   "nbconvert_exporter": "python",
   "pygments_lexer": "ipython3",
   "version": "3.6.4"
  }
 },
 "nbformat": 4,
 "nbformat_minor": 2
}
