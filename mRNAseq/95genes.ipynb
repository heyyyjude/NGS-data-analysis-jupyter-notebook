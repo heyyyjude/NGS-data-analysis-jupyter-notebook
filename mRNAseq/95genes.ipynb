{
 "cells": [
  {
   "cell_type": "code",
   "execution_count": 2,
   "metadata": {},
   "outputs": [],
   "source": [
    "library(tidyverse)\n",
    "library(readxl)"
   ]
  },
  {
   "cell_type": "code",
   "execution_count": 3,
   "metadata": {},
   "outputs": [
    {
     "data": {
      "text/html": [
       "<table>\n",
       "<thead><tr><th scope=col>gene_name</th><th scope=col>0</th><th scope=col>7</th><th scope=col>35</th><th scope=col>63</th><th scope=col>84</th></tr></thead>\n",
       "<tbody>\n",
       "\t<tr><td>TSPAN6  </td><td>  0.02  </td><td> 0.05   </td><td>  0.08  </td><td> 0.02   </td><td> 0.00   </td></tr>\n",
       "\t<tr><td>TNMD    </td><td>  0.00  </td><td> 0.00   </td><td>  0.00  </td><td> 0.00   </td><td> 0.00   </td></tr>\n",
       "\t<tr><td>DPM1    </td><td> 23.80  </td><td>19.33   </td><td> 27.79  </td><td>14.55   </td><td>17.38   </td></tr>\n",
       "\t<tr><td>SCYL3   </td><td>  8.18  </td><td> 8.39   </td><td>  7.71  </td><td> 6.15   </td><td> 5.34   </td></tr>\n",
       "\t<tr><td>C1orf112</td><td>  5.57  </td><td> 4.36   </td><td>  6.25  </td><td> 2.98   </td><td> 3.60   </td></tr>\n",
       "\t<tr><td>FGR     </td><td>141.06  </td><td>85.04   </td><td>119.37  </td><td>91.18   </td><td>99.23   </td></tr>\n",
       "</tbody>\n",
       "</table>\n"
      ],
      "text/latex": [
       "\\begin{tabular}{r|llllll}\n",
       " gene\\_name & 0 & 7 & 35 & 63 & 84\\\\\n",
       "\\hline\n",
       "\t TSPAN6   &   0.02   &  0.05    &   0.08   &  0.02    &  0.00   \\\\\n",
       "\t TNMD     &   0.00   &  0.00    &   0.00   &  0.00    &  0.00   \\\\\n",
       "\t DPM1     &  23.80   & 19.33    &  27.79   & 14.55    & 17.38   \\\\\n",
       "\t SCYL3    &   8.18   &  8.39    &   7.71   &  6.15    &  5.34   \\\\\n",
       "\t C1orf112 &   5.57   &  4.36    &   6.25   &  2.98    &  3.60   \\\\\n",
       "\t FGR      & 141.06   & 85.04    & 119.37   & 91.18    & 99.23   \\\\\n",
       "\\end{tabular}\n"
      ],
      "text/markdown": [
       "\n",
       "gene_name | 0 | 7 | 35 | 63 | 84 | \n",
       "|---|---|---|---|---|---|\n",
       "| TSPAN6   |   0.02   |  0.05    |   0.08   |  0.02    |  0.00    | \n",
       "| TNMD     |   0.00   |  0.00    |   0.00   |  0.00    |  0.00    | \n",
       "| DPM1     |  23.80   | 19.33    |  27.79   | 14.55    | 17.38    | \n",
       "| SCYL3    |   8.18   |  8.39    |   7.71   |  6.15    |  5.34    | \n",
       "| C1orf112 |   5.57   |  4.36    |   6.25   |  2.98    |  3.60    | \n",
       "| FGR      | 141.06   | 85.04    | 119.37   | 91.18    | 99.23    | \n",
       "\n",
       "\n"
      ],
      "text/plain": [
       "  gene_name 0      7     35     63    84   \n",
       "1 TSPAN6      0.02  0.05   0.08  0.02  0.00\n",
       "2 TNMD        0.00  0.00   0.00  0.00  0.00\n",
       "3 DPM1       23.80 19.33  27.79 14.55 17.38\n",
       "4 SCYL3       8.18  8.39   7.71  6.15  5.34\n",
       "5 C1orf112    5.57  4.36   6.25  2.98  3.60\n",
       "6 FGR       141.06 85.04 119.37 91.18 99.23"
      ]
     },
     "metadata": {},
     "output_type": "display_data"
    }
   ],
   "source": [
    "yyj <- read_excel(\"YYJ.xlsx\")\n",
    "head(yyj)"
   ]
  },
  {
   "cell_type": "code",
   "execution_count": 4,
   "metadata": {},
   "outputs": [
    {
     "data": {
      "text/html": [
       "<table>\n",
       "<thead><tr><th scope=col>gene_name</th><th scope=col>0</th><th scope=col>5</th><th scope=col>26</th><th scope=col>49</th><th scope=col>83</th><th scope=col>132</th></tr></thead>\n",
       "<tbody>\n",
       "\t<tr><td>TSPAN6  </td><td>  0.08  </td><td>  0.04  </td><td>  0.06  </td><td>  0.02  </td><td>  0.15  </td><td>  0.02  </td></tr>\n",
       "\t<tr><td>TNMD    </td><td>  0.00  </td><td>  0.00  </td><td>  0.00  </td><td>  0.00  </td><td>  0.00  </td><td>  0.00  </td></tr>\n",
       "\t<tr><td>DPM1    </td><td> 19.37  </td><td> 25.96  </td><td> 12.03  </td><td>  8.90  </td><td> 15.82  </td><td> 13.60  </td></tr>\n",
       "\t<tr><td>SCYL3   </td><td>  8.43  </td><td> 10.95  </td><td>  7.06  </td><td>  5.88  </td><td>  5.61  </td><td>  6.01  </td></tr>\n",
       "\t<tr><td>C1orf112</td><td>  4.51  </td><td>  2.77  </td><td>  3.24  </td><td>  2.60  </td><td>  2.13  </td><td>  1.57  </td></tr>\n",
       "\t<tr><td>FGR     </td><td>253.72  </td><td>251.19  </td><td>233.27  </td><td>218.05  </td><td>132.15  </td><td>143.92  </td></tr>\n",
       "</tbody>\n",
       "</table>\n"
      ],
      "text/latex": [
       "\\begin{tabular}{r|lllllll}\n",
       " gene\\_name & 0 & 5 & 26 & 49 & 83 & 132\\\\\n",
       "\\hline\n",
       "\t TSPAN6   &   0.08   &   0.04   &   0.06   &   0.02   &   0.15   &   0.02  \\\\\n",
       "\t TNMD     &   0.00   &   0.00   &   0.00   &   0.00   &   0.00   &   0.00  \\\\\n",
       "\t DPM1     &  19.37   &  25.96   &  12.03   &   8.90   &  15.82   &  13.60  \\\\\n",
       "\t SCYL3    &   8.43   &  10.95   &   7.06   &   5.88   &   5.61   &   6.01  \\\\\n",
       "\t C1orf112 &   4.51   &   2.77   &   3.24   &   2.60   &   2.13   &   1.57  \\\\\n",
       "\t FGR      & 253.72   & 251.19   & 233.27   & 218.05   & 132.15   & 143.92  \\\\\n",
       "\\end{tabular}\n"
      ],
      "text/markdown": [
       "\n",
       "gene_name | 0 | 5 | 26 | 49 | 83 | 132 | \n",
       "|---|---|---|---|---|---|\n",
       "| TSPAN6   |   0.08   |   0.04   |   0.06   |   0.02   |   0.15   |   0.02   | \n",
       "| TNMD     |   0.00   |   0.00   |   0.00   |   0.00   |   0.00   |   0.00   | \n",
       "| DPM1     |  19.37   |  25.96   |  12.03   |   8.90   |  15.82   |  13.60   | \n",
       "| SCYL3    |   8.43   |  10.95   |   7.06   |   5.88   |   5.61   |   6.01   | \n",
       "| C1orf112 |   4.51   |   2.77   |   3.24   |   2.60   |   2.13   |   1.57   | \n",
       "| FGR      | 253.72   | 251.19   | 233.27   | 218.05   | 132.15   | 143.92   | \n",
       "\n",
       "\n"
      ],
      "text/plain": [
       "  gene_name 0      5      26     49     83     132   \n",
       "1 TSPAN6      0.08   0.04   0.06   0.02   0.15   0.02\n",
       "2 TNMD        0.00   0.00   0.00   0.00   0.00   0.00\n",
       "3 DPM1       19.37  25.96  12.03   8.90  15.82  13.60\n",
       "4 SCYL3       8.43  10.95   7.06   5.88   5.61   6.01\n",
       "5 C1orf112    4.51   2.77   3.24   2.60   2.13   1.57\n",
       "6 FGR       253.72 251.19 233.27 218.05 132.15 143.92"
      ]
     },
     "metadata": {},
     "output_type": "display_data"
    }
   ],
   "source": [
    "yjs <- read_excel(\"YJS.xlsx\")\n",
    "head(yjs)"
   ]
  },
  {
   "cell_type": "code",
   "execution_count": 6,
   "metadata": {},
   "outputs": [
    {
     "data": {
      "text/html": [
       "<table>\n",
       "<thead><tr><th scope=col>gene_name</th><th scope=col>0</th><th scope=col>3</th><th scope=col>7</th><th scope=col>28</th><th scope=col>89</th></tr></thead>\n",
       "<tbody>\n",
       "\t<tr><td>TSPAN6  </td><td>  0.05  </td><td>  0.13  </td><td>  0.17  </td><td>  0.15  </td><td>  0.23  </td></tr>\n",
       "\t<tr><td>TNMD    </td><td>  0.00  </td><td>  0.00  </td><td>  0.00  </td><td>  0.00  </td><td>  0.00  </td></tr>\n",
       "\t<tr><td>DPM1    </td><td> 25.45  </td><td> 25.23  </td><td> 24.03  </td><td>  9.57  </td><td> 17.52  </td></tr>\n",
       "\t<tr><td>SCYL3   </td><td>  9.06  </td><td>  8.28  </td><td> 10.29  </td><td>  8.52  </td><td>  7.78  </td></tr>\n",
       "\t<tr><td>C1orf112</td><td>  5.94  </td><td>  5.02  </td><td>  5.99  </td><td>  2.92  </td><td>  4.06  </td></tr>\n",
       "\t<tr><td>FGR     </td><td>161.68  </td><td>155.48  </td><td>173.03  </td><td>220.30  </td><td>128.38  </td></tr>\n",
       "</tbody>\n",
       "</table>\n"
      ],
      "text/latex": [
       "\\begin{tabular}{r|llllll}\n",
       " gene\\_name & 0 & 3 & 7 & 28 & 89\\\\\n",
       "\\hline\n",
       "\t TSPAN6   &   0.05   &   0.13   &   0.17   &   0.15   &   0.23  \\\\\n",
       "\t TNMD     &   0.00   &   0.00   &   0.00   &   0.00   &   0.00  \\\\\n",
       "\t DPM1     &  25.45   &  25.23   &  24.03   &   9.57   &  17.52  \\\\\n",
       "\t SCYL3    &   9.06   &   8.28   &  10.29   &   8.52   &   7.78  \\\\\n",
       "\t C1orf112 &   5.94   &   5.02   &   5.99   &   2.92   &   4.06  \\\\\n",
       "\t FGR      & 161.68   & 155.48   & 173.03   & 220.30   & 128.38  \\\\\n",
       "\\end{tabular}\n"
      ],
      "text/markdown": [
       "\n",
       "gene_name | 0 | 3 | 7 | 28 | 89 | \n",
       "|---|---|---|---|---|---|\n",
       "| TSPAN6   |   0.05   |   0.13   |   0.17   |   0.15   |   0.23   | \n",
       "| TNMD     |   0.00   |   0.00   |   0.00   |   0.00   |   0.00   | \n",
       "| DPM1     |  25.45   |  25.23   |  24.03   |   9.57   |  17.52   | \n",
       "| SCYL3    |   9.06   |   8.28   |  10.29   |   8.52   |   7.78   | \n",
       "| C1orf112 |   5.94   |   5.02   |   5.99   |   2.92   |   4.06   | \n",
       "| FGR      | 161.68   | 155.48   | 173.03   | 220.30   | 128.38   | \n",
       "\n",
       "\n"
      ],
      "text/plain": [
       "  gene_name 0      3      7      28     89    \n",
       "1 TSPAN6      0.05   0.13   0.17   0.15   0.23\n",
       "2 TNMD        0.00   0.00   0.00   0.00   0.00\n",
       "3 DPM1       25.45  25.23  24.03   9.57  17.52\n",
       "4 SCYL3       9.06   8.28  10.29   8.52   7.78\n",
       "5 C1orf112    5.94   5.02   5.99   2.92   4.06\n",
       "6 FGR       161.68 155.48 173.03 220.30 128.38"
      ]
     },
     "metadata": {},
     "output_type": "display_data"
    }
   ],
   "source": [
    "pjy <- read_excel(\"PJY.xlsx\")\n",
    "head(pjy)"
   ]
  },
  {
   "cell_type": "code",
   "execution_count": 7,
   "metadata": {},
   "outputs": [
    {
     "data": {
      "text/html": [
       "<table>\n",
       "<thead><tr><th scope=col>gene_name</th><th scope=col>0</th><th scope=col>3</th><th scope=col>8</th></tr></thead>\n",
       "<tbody>\n",
       "\t<tr><td>TSPAN6  </td><td> 0.54   </td><td>  0.36  </td><td> 0.50   </td></tr>\n",
       "\t<tr><td>TNMD    </td><td> 0.04   </td><td>  0.00  </td><td> 0.00   </td></tr>\n",
       "\t<tr><td>DPM1    </td><td>27.16   </td><td> 13.15  </td><td>22.40   </td></tr>\n",
       "\t<tr><td>SCYL3   </td><td>14.19   </td><td> 10.77  </td><td>11.42   </td></tr>\n",
       "\t<tr><td>C1orf112</td><td> 4.15   </td><td>  4.43  </td><td> 5.37   </td></tr>\n",
       "\t<tr><td>FGR     </td><td>97.98   </td><td>119.73  </td><td>87.73   </td></tr>\n",
       "</tbody>\n",
       "</table>\n"
      ],
      "text/latex": [
       "\\begin{tabular}{r|llll}\n",
       " gene\\_name & 0 & 3 & 8\\\\\n",
       "\\hline\n",
       "\t TSPAN6   &  0.54    &   0.36   &  0.50   \\\\\n",
       "\t TNMD     &  0.04    &   0.00   &  0.00   \\\\\n",
       "\t DPM1     & 27.16    &  13.15   & 22.40   \\\\\n",
       "\t SCYL3    & 14.19    &  10.77   & 11.42   \\\\\n",
       "\t C1orf112 &  4.15    &   4.43   &  5.37   \\\\\n",
       "\t FGR      & 97.98    & 119.73   & 87.73   \\\\\n",
       "\\end{tabular}\n"
      ],
      "text/markdown": [
       "\n",
       "gene_name | 0 | 3 | 8 | \n",
       "|---|---|---|---|---|---|\n",
       "| TSPAN6   |  0.54    |   0.36   |  0.50    | \n",
       "| TNMD     |  0.04    |   0.00   |  0.00    | \n",
       "| DPM1     | 27.16    |  13.15   | 22.40    | \n",
       "| SCYL3    | 14.19    |  10.77   | 11.42    | \n",
       "| C1orf112 |  4.15    |   4.43   |  5.37    | \n",
       "| FGR      | 97.98    | 119.73   | 87.73    | \n",
       "\n",
       "\n"
      ],
      "text/plain": [
       "  gene_name 0     3      8    \n",
       "1 TSPAN6     0.54   0.36  0.50\n",
       "2 TNMD       0.04   0.00  0.00\n",
       "3 DPM1      27.16  13.15 22.40\n",
       "4 SCYL3     14.19  10.77 11.42\n",
       "5 C1orf112   4.15   4.43  5.37\n",
       "6 FGR       97.98 119.73 87.73"
      ]
     },
     "metadata": {},
     "output_type": "display_data"
    }
   ],
   "source": [
    "ybw <- read_excel(\"YBW.xlsx\")\n",
    "head(ybw)"
   ]
  },
  {
   "cell_type": "code",
   "execution_count": 8,
   "metadata": {},
   "outputs": [],
   "source": [
    "pjy$sample <- \"PJY\"\n",
    "ybw$sample <- \"YBW\""
   ]
  },
  {
   "cell_type": "code",
   "execution_count": 9,
   "metadata": {},
   "outputs": [],
   "source": [
    "pjy.long <- pjy %>% gather(time.point, fpkm, -gene_name, -sample,factor_key = TRUE)\n",
    "ybw.long <- ybw %>% gather(time.point, fpkm, -gene_name, -sample,factor_key = TRUE)"
   ]
  },
  {
   "cell_type": "code",
   "execution_count": 28,
   "metadata": {},
   "outputs": [
    {
     "data": {
      "text/html": [
       "<table>\n",
       "<thead><tr><th scope=col>gene_name</th><th scope=col>sample</th><th scope=col>time.point</th><th scope=col>fpkm</th></tr></thead>\n",
       "<tbody>\n",
       "\t<tr><td>TSPAN6  </td><td>PJY     </td><td>0       </td><td>  0.05  </td></tr>\n",
       "\t<tr><td>TNMD    </td><td>PJY     </td><td>0       </td><td>  0.00  </td></tr>\n",
       "\t<tr><td>DPM1    </td><td>PJY     </td><td>0       </td><td> 25.45  </td></tr>\n",
       "\t<tr><td>SCYL3   </td><td>PJY     </td><td>0       </td><td>  9.06  </td></tr>\n",
       "\t<tr><td>C1orf112</td><td>PJY     </td><td>0       </td><td>  5.94  </td></tr>\n",
       "\t<tr><td>FGR     </td><td>PJY     </td><td>0       </td><td>161.68  </td></tr>\n",
       "</tbody>\n",
       "</table>\n"
      ],
      "text/latex": [
       "\\begin{tabular}{r|llll}\n",
       " gene\\_name & sample & time.point & fpkm\\\\\n",
       "\\hline\n",
       "\t TSPAN6   & PJY      & 0        &   0.05  \\\\\n",
       "\t TNMD     & PJY      & 0        &   0.00  \\\\\n",
       "\t DPM1     & PJY      & 0        &  25.45  \\\\\n",
       "\t SCYL3    & PJY      & 0        &   9.06  \\\\\n",
       "\t C1orf112 & PJY      & 0        &   5.94  \\\\\n",
       "\t FGR      & PJY      & 0        & 161.68  \\\\\n",
       "\\end{tabular}\n"
      ],
      "text/markdown": [
       "\n",
       "gene_name | sample | time.point | fpkm | \n",
       "|---|---|---|---|---|---|\n",
       "| TSPAN6   | PJY      | 0        |   0.05   | \n",
       "| TNMD     | PJY      | 0        |   0.00   | \n",
       "| DPM1     | PJY      | 0        |  25.45   | \n",
       "| SCYL3    | PJY      | 0        |   9.06   | \n",
       "| C1orf112 | PJY      | 0        |   5.94   | \n",
       "| FGR      | PJY      | 0        | 161.68   | \n",
       "\n",
       "\n"
      ],
      "text/plain": [
       "  gene_name sample time.point fpkm  \n",
       "1 TSPAN6    PJY    0            0.05\n",
       "2 TNMD      PJY    0            0.00\n",
       "3 DPM1      PJY    0           25.45\n",
       "4 SCYL3     PJY    0            9.06\n",
       "5 C1orf112  PJY    0            5.94\n",
       "6 FGR       PJY    0          161.68"
      ]
     },
     "metadata": {},
     "output_type": "display_data"
    }
   ],
   "source": [
    "df <- rbind(pjy.long, ybw.long)\n",
    "head(df)"
   ]
  },
  {
   "cell_type": "code",
   "execution_count": 30,
   "metadata": {},
   "outputs": [
    {
     "name": "stdout",
     "output_type": "stream",
     "text": [
      "Classes 'tbl_df', 'tbl' and 'data.frame':\t462560 obs. of  4 variables:\n",
      " $ gene_name : chr  \"TSPAN6\" \"TNMD\" \"DPM1\" \"SCYL3\" ...\n",
      " $ sample    : chr  \"PJY\" \"PJY\" \"PJY\" \"PJY\" ...\n",
      " $ time.point: Factor w/ 6 levels \"0\",\"3\",\"7\",\"28\",..: 1 1 1 1 1 1 1 1 1 1 ...\n",
      " $ fpkm      : num  0.05 0 25.45 9.06 5.94 ...\n"
     ]
    }
   ],
   "source": [
    "str(df)"
   ]
  },
  {
   "cell_type": "code",
   "execution_count": 31,
   "metadata": {},
   "outputs": [
    {
     "name": "stdout",
     "output_type": "stream",
     "text": [
      "[1] \"0\"  \"3\"  \"7\"  \"28\" \"89\" \"8\" \n"
     ]
    }
   ],
   "source": [
    "print(levels(df$time.point))"
   ]
  },
  {
   "cell_type": "code",
   "execution_count": 32,
   "metadata": {},
   "outputs": [
    {
     "name": "stdout",
     "output_type": "stream",
     "text": [
      "[1] \"0\"  \"3\"  \"7\"  \"8\"  \"28\" \"89\"\n"
     ]
    }
   ],
   "source": [
    "df$time.point <- factor(df$time.point, levels = c('0', '3', '7', '8', '28', '89'))\n",
    "print(levels(df$time.point))"
   ]
  },
  {
   "cell_type": "code",
   "execution_count": 33,
   "metadata": {},
   "outputs": [
    {
     "name": "stdout",
     "output_type": "stream",
     "text": [
      "Classes 'tbl_df', 'tbl' and 'data.frame':\t462560 obs. of  4 variables:\n",
      " $ gene_name : chr  \"TSPAN6\" \"TNMD\" \"DPM1\" \"SCYL3\" ...\n",
      " $ sample    : chr  \"PJY\" \"PJY\" \"PJY\" \"PJY\" ...\n",
      " $ time.point: Factor w/ 6 levels \"0\",\"3\",\"7\",\"8\",..: 1 1 1 1 1 1 1 1 1 1 ...\n",
      " $ fpkm      : num  0.05 0 25.45 9.06 5.94 ...\n"
     ]
    }
   ],
   "source": [
    "str(df)"
   ]
  },
  {
   "cell_type": "code",
   "execution_count": 50,
   "metadata": {},
   "outputs": [
    {
     "data": {
      "text/html": [
       "<table>\n",
       "<thead><tr><th scope=col>genes</th></tr></thead>\n",
       "<tbody>\n",
       "\t<tr><td>AFF1   </td></tr>\n",
       "\t<tr><td>ARID5B </td></tr>\n",
       "\t<tr><td>ATG16L2</td></tr>\n",
       "\t<tr><td>ATG5   </td></tr>\n",
       "\t<tr><td>ATXN1  </td></tr>\n",
       "\t<tr><td>ATXN2  </td></tr>\n",
       "</tbody>\n",
       "</table>\n"
      ],
      "text/latex": [
       "\\begin{tabular}{r|l}\n",
       " genes\\\\\n",
       "\\hline\n",
       "\t AFF1   \\\\\n",
       "\t ARID5B \\\\\n",
       "\t ATG16L2\\\\\n",
       "\t ATG5   \\\\\n",
       "\t ATXN1  \\\\\n",
       "\t ATXN2  \\\\\n",
       "\\end{tabular}\n"
      ],
      "text/markdown": [
       "\n",
       "genes | \n",
       "|---|---|---|---|---|---|\n",
       "| AFF1    | \n",
       "| ARID5B  | \n",
       "| ATG16L2 | \n",
       "| ATG5    | \n",
       "| ATXN1   | \n",
       "| ATXN2   | \n",
       "\n",
       "\n"
      ],
      "text/plain": [
       "  genes  \n",
       "1 AFF1   \n",
       "2 ARID5B \n",
       "3 ATG16L2\n",
       "4 ATG5   \n",
       "5 ATXN1  \n",
       "6 ATXN2  "
      ]
     },
     "metadata": {},
     "output_type": "display_data"
    }
   ],
   "source": [
    "genes.95 <- read.csv(\"95genes-filtered.txt\", stringsAsFactors=FALSE)\n",
    "head(genes.95)"
   ]
  },
  {
   "cell_type": "code",
   "execution_count": 51,
   "metadata": {},
   "outputs": [
    {
     "name": "stdout",
     "output_type": "stream",
     "text": [
      "'data.frame':\t124 obs. of  1 variable:\n",
      " $ genes: chr  \"AFF1\" \"ARID5B\" \"ATG16L2\" \"ATG5\" ...\n"
     ]
    }
   ],
   "source": [
    "str(genes.95)"
   ]
  },
  {
   "cell_type": "code",
   "execution_count": 52,
   "metadata": {},
   "outputs": [
    {
     "data": {
      "text/html": [
       "<table>\n",
       "<thead><tr><th scope=col>gene_name</th><th scope=col>sample</th><th scope=col>time.point</th><th scope=col>fpkm</th></tr></thead>\n",
       "<tbody>\n",
       "\t<tr><td>TSPAN6  </td><td>PJY     </td><td>0       </td><td>  0.05  </td></tr>\n",
       "\t<tr><td>TNMD    </td><td>PJY     </td><td>0       </td><td>  0.00  </td></tr>\n",
       "\t<tr><td>DPM1    </td><td>PJY     </td><td>0       </td><td> 25.45  </td></tr>\n",
       "\t<tr><td>SCYL3   </td><td>PJY     </td><td>0       </td><td>  9.06  </td></tr>\n",
       "\t<tr><td>C1orf112</td><td>PJY     </td><td>0       </td><td>  5.94  </td></tr>\n",
       "\t<tr><td>FGR     </td><td>PJY     </td><td>0       </td><td>161.68  </td></tr>\n",
       "</tbody>\n",
       "</table>\n"
      ],
      "text/latex": [
       "\\begin{tabular}{r|llll}\n",
       " gene\\_name & sample & time.point & fpkm\\\\\n",
       "\\hline\n",
       "\t TSPAN6   & PJY      & 0        &   0.05  \\\\\n",
       "\t TNMD     & PJY      & 0        &   0.00  \\\\\n",
       "\t DPM1     & PJY      & 0        &  25.45  \\\\\n",
       "\t SCYL3    & PJY      & 0        &   9.06  \\\\\n",
       "\t C1orf112 & PJY      & 0        &   5.94  \\\\\n",
       "\t FGR      & PJY      & 0        & 161.68  \\\\\n",
       "\\end{tabular}\n"
      ],
      "text/markdown": [
       "\n",
       "gene_name | sample | time.point | fpkm | \n",
       "|---|---|---|---|---|---|\n",
       "| TSPAN6   | PJY      | 0        |   0.05   | \n",
       "| TNMD     | PJY      | 0        |   0.00   | \n",
       "| DPM1     | PJY      | 0        |  25.45   | \n",
       "| SCYL3    | PJY      | 0        |   9.06   | \n",
       "| C1orf112 | PJY      | 0        |   5.94   | \n",
       "| FGR      | PJY      | 0        | 161.68   | \n",
       "\n",
       "\n"
      ],
      "text/plain": [
       "  gene_name sample time.point fpkm  \n",
       "1 TSPAN6    PJY    0            0.05\n",
       "2 TNMD      PJY    0            0.00\n",
       "3 DPM1      PJY    0           25.45\n",
       "4 SCYL3     PJY    0            9.06\n",
       "5 C1orf112  PJY    0            5.94\n",
       "6 FGR       PJY    0          161.68"
      ]
     },
     "metadata": {},
     "output_type": "display_data"
    }
   ],
   "source": [
    "head(df)"
   ]
  },
  {
   "cell_type": "code",
   "execution_count": 45,
   "metadata": {},
   "outputs": [
    {
     "data": {},
     "metadata": {},
     "output_type": "display_data"
    },
    {
     "data": {
      "image/png": "[encoded data removed]",
      "text/plain": [
       "plot without title"
      ]
     },
     "metadata": {},
     "output_type": "display_data"
    }
   ],
   "source": [
    "gene <- \"CD44\"\n",
    "long <- df %>% filter(gene_name==gene)\n",
    "\n",
    "\n",
    "ggplot(long, aes(x=time.point, y=fpkm, group= 2, color=sample)) + geom_point() + \n",
    "  geom_line() + geom_text(aes(label=fpkm),hjust=0, vjust=0, size=2.5) + \n",
    "  scale_color_brewer(palette=\"Dark2\") + \n",
    "  ggtitle(gene)  + theme(plot.title = element_text(size=15, hjust=0.5))  + ylab(\"Expression(FPKM)\") + \n",
    "  xlab(\"Time point\")  + theme(axis.text=element_text(size=10, face='bold')) + facet_wrap(~sample)\n",
    "\n",
    "\n",
    "ggsave(paste0(\"filtered-95genes-plot/\",gene,'.png'), width=15, height=10, units=\"cm\")"
   ]
  },
  {
   "cell_type": "code",
   "execution_count": 38,
   "metadata": {},
   "outputs": [
    {
     "data": {
      "text/html": [
       "<table>\n",
       "<thead><tr><th scope=col>gene_name</th><th scope=col>sample</th><th scope=col>time.point</th><th scope=col>fpkm</th></tr></thead>\n",
       "<tbody>\n",
       "\t<tr><td>TSPAN6  </td><td>PJY     </td><td>0       </td><td>  0.05  </td></tr>\n",
       "\t<tr><td>TNMD    </td><td>PJY     </td><td>0       </td><td>  0.00  </td></tr>\n",
       "\t<tr><td>DPM1    </td><td>PJY     </td><td>0       </td><td> 25.45  </td></tr>\n",
       "\t<tr><td>SCYL3   </td><td>PJY     </td><td>0       </td><td>  9.06  </td></tr>\n",
       "\t<tr><td>C1orf112</td><td>PJY     </td><td>0       </td><td>  5.94  </td></tr>\n",
       "\t<tr><td>FGR     </td><td>PJY     </td><td>0       </td><td>161.68  </td></tr>\n",
       "</tbody>\n",
       "</table>\n"
      ],
      "text/latex": [
       "\\begin{tabular}{r|llll}\n",
       " gene\\_name & sample & time.point & fpkm\\\\\n",
       "\\hline\n",
       "\t TSPAN6   & PJY      & 0        &   0.05  \\\\\n",
       "\t TNMD     & PJY      & 0        &   0.00  \\\\\n",
       "\t DPM1     & PJY      & 0        &  25.45  \\\\\n",
       "\t SCYL3    & PJY      & 0        &   9.06  \\\\\n",
       "\t C1orf112 & PJY      & 0        &   5.94  \\\\\n",
       "\t FGR      & PJY      & 0        & 161.68  \\\\\n",
       "\\end{tabular}\n"
      ],
      "text/markdown": [
       "\n",
       "gene_name | sample | time.point | fpkm | \n",
       "|---|---|---|---|---|---|\n",
       "| TSPAN6   | PJY      | 0        |   0.05   | \n",
       "| TNMD     | PJY      | 0        |   0.00   | \n",
       "| DPM1     | PJY      | 0        |  25.45   | \n",
       "| SCYL3    | PJY      | 0        |   9.06   | \n",
       "| C1orf112 | PJY      | 0        |   5.94   | \n",
       "| FGR      | PJY      | 0        | 161.68   | \n",
       "\n",
       "\n"
      ],
      "text/plain": [
       "  gene_name sample time.point fpkm  \n",
       "1 TSPAN6    PJY    0            0.05\n",
       "2 TNMD      PJY    0            0.00\n",
       "3 DPM1      PJY    0           25.45\n",
       "4 SCYL3     PJY    0            9.06\n",
       "5 C1orf112  PJY    0            5.94\n",
       "6 FGR       PJY    0          161.68"
      ]
     },
     "metadata": {},
     "output_type": "display_data"
    }
   ],
   "source": [
    "head(df)"
   ]
  },
  {
   "cell_type": "code",
   "execution_count": 62,
   "metadata": {},
   "outputs": [
    {
     "name": "stdout",
     "output_type": "stream",
     "text": [
      "[1] \"AFF1\"\n",
      "[1] \"ARID5B\"\n",
      "[1] \"ATG16L2\"\n",
      "[1] \"ATG5\"\n",
      "[1] \"ATXN1\"\n",
      "[1] \"ATXN2\"\n",
      "[1] \"BACH2\"\n",
      "[1] \"BANK1\"\n",
      "[1] \"BCL6\"\n",
      "[1] \"BLK\"\n",
      "[1] \"CCL22\"\n",
      "[1] \"CD14\"\n",
      "[1] \"CD163\"\n",
      "[1] \"CD226\"\n",
      "[1] \"CD4\"\n",
      "[1] \"CD44\"\n",
      "[1] \"CD80\"\n",
      "[1] \"CDKN1B\"\n",
      "[1] \"CIITA\"\n",
      "[1] \"CLEC16A\"\n",
      "[1] \"COG6\"\n",
      "[1] \"CREBL2\"\n",
      "[1] \"CSK\"\n",
      "[1] \"CXCR5\"\n",
      "[1] \"CXorf21\"\n",
      "[1] \"DGKQ\"\n",
      "[1] \"DHCR7\"\n",
      "[1] \"DNASE1\"\n",
      "[1] \"DRAM1\"\n",
      "[1] \"EDEM3\"\n",
      "[1] \"ELF1\"\n",
      "[1] \"ENTHD1\"\n",
      "[1] \"ETS1\"\n",
      "[1] \"FAM86B3P\"\n",
      "[1] \"FAM98B\"\n",
      "[1] \"FCGR2A\"\n",
      "[1] \"FCGR3B\"\n",
      "[1] \"FCRL4\"\n",
      "[1] \"FOXP3\"\n",
      "[1] \"GALC\"\n",
      "[1] \"GATA3\"\n",
      "[1] \"GPR19\"\n",
      "[1] \"GRAP2\"\n",
      "[1] \"GRB2\"\n",
      "[1] \"GTF2I\"\n",
      "[1] \"GTF2IRD1\"\n",
      "[1] \"HLA-DRB1\"\n",
      "[1] \"ICAM1\"\n",
      "[1] \"IFIH1\"\n",
      "[1] \"IFNG\"\n",
      "[1] \"IKBKE\"\n",
      "[1] \"IKZF1\"\n",
      "[1] \"IKZF2\"\n",
      "[1] \"IKZF3\"\n",
      "[1] \"IL10\"\n",
      "[1] \"IL12A\"\n",
      "[1] \"IL12B\"\n",
      "[1] \"IL12RB2\"\n",
      "[1] \"IL2\"\n",
      "[1] \"IL21\"\n",
      "[1] \"IL2RA\"\n",
      "[1] \"IRAK1\"\n",
      "[1] \"IRF5\"\n",
      "[1] \"IRF7\"\n",
      "[1] \"IRF8\"\n",
      "[1] \"ITGAM\"\n",
      "[1] \"JAK2\"\n",
      "[1] \"JAZF1\"\n",
      "[1] \"LBH\"\n",
      "[1] \"LPP\"\n",
      "[1] \"LRRC16A\"\n",
      "[1] \"LYN\"\n",
      "[1] \"LYST\"\n",
      "[1] \"MIR146A\"\n",
      "[1] \"MRC1L1\"\n",
      "[1] \"MYNN\"\n",
      "[1] \"NCF2\"\n",
      "[1] \"OLIG3\"\n",
      "[1] \"P2RY2\"\n",
      "[1] \"PAPOLG\"\n",
      "[1] \"PCNXL3\"\n",
      "[1] \"PDCD1\"\n",
      "[1] \"PDHX\"\n",
      "[1] \"PKIA\"\n",
      "[1] \"PLAT\"\n",
      "[1] \"PLD2\"\n",
      "[1] \"PLLP\"\n",
      "[1] \"PPP2CA\"\n",
      "[1] \"PTPN22\"\n",
      "[1] \"PTPRC\"\n",
      "[1] \"PTPRH\"\n",
      "[1] \"PTTG1\"\n",
      "[1] \"PXK\"\n",
      "[1] \"RAD51B\"\n",
      "[1] \"RASGRP1\"\n",
      "[1] \"RASGRP3\"\n",
      "[1] \"RNASEH2C\"\n",
      "[1] \"RORC\"\n",
      "[1] \"SH2B3\"\n",
      "[1] \"SIGLEC6\"\n",
      "[1] \"SLC15A4\"\n",
      "[1] \"SLC26A1\"\n",
      "[1] \"SPATA8\"\n",
      "[1] \"SPRED2\"\n",
      "[1] \"ST8SIA4\"\n",
      "[1] \"STAT4\"\n",
      "[1] \"SYNGR1\"\n",
      "[1] \"TBX21\"\n",
      "[1] \"TCF7\"\n",
      "[1] \"TERT\"\n",
      "[1] \"TET3\"\n",
      "[1] \"TIMMDC1\"\n",
      "[1] \"TMEM39A\"\n",
      "[1] \"TMEM86B\"\n",
      "[1] \"TNFAIP3\"\n",
      "[1] \"TNFSF4\"\n",
      "[1] \"TNIP1\"\n",
      "[1] \"TREX1\"\n",
      "[1] \"TYK2\"\n",
      "[1] \"UBE2L3\"\n",
      "[1] \"WDFY4\"\n",
      "[1] \"ZC2HC1A\"\n",
      "[1] \"ZFP90\"\n",
      "[1] \"ZPBP2\"\n"
     ]
    }
   ],
   "source": [
    "for ( i in genes.95$genes) {\n",
    "    gene <- i\n",
    "    long <- df %>% filter(gene_name==i)\n",
    "\n",
    "\n",
    "    ggplot(long, aes(x=time.point, y=fpkm, group= 2, color=sample)) + geom_point() + \n",
    "      geom_line() + geom_text(aes(label=fpkm),hjust=0, vjust=0, size=2.5) + \n",
    "      scale_color_brewer(palette=\"Dark2\") + \n",
    "      ggtitle(gene)  + theme(plot.title = element_text(size=15, hjust=0.5))  + ylab(\"Expression(FPKM)\") + \n",
    "      xlab(\"Time point\")  + theme(axis.text=element_text(size=10, face='bold')) + facet_wrap(~sample)\n",
    "\n",
    "\n",
    "    ggsave(paste0(\"filtered-95genes-plot/\",gene,'.png'), width=15, height=10, units=\"cm\")\n",
    "    \n",
    "    }"
   ]
  },
  {
   "cell_type": "code",
   "execution_count": 63,
   "metadata": {},
   "outputs": [],
   "source": [
    "yyj$sample <- \"YYJ\"\n",
    "yjs$sample <- \"YJS\"\n",
    "\n",
    "\n",
    "yyj.long <- yyj %>% gather(time.point, fpkm, -gene_name, -sample,factor_key = TRUE)\n",
    "yjs.long <- yjs %>% gather(time.point, fpkm, -gene_name, -sample,factor_key = TRUE)"
   ]
  },
  {
   "cell_type": "code",
   "execution_count": 64,
   "metadata": {},
   "outputs": [
    {
     "name": "stdout",
     "output_type": "stream",
     "text": [
      "Classes 'tbl_df', 'tbl' and 'data.frame':\t636020 obs. of  4 variables:\n",
      " $ gene_name : chr  \"TSPAN6\" \"TNMD\" \"DPM1\" \"SCYL3\" ...\n",
      " $ sample    : chr  \"YYJ\" \"YYJ\" \"YYJ\" \"YYJ\" ...\n",
      " $ time.point: Factor w/ 10 levels \"0\",\"7\",\"35\",\"63\",..: 1 1 1 1 1 1 1 1 1 1 ...\n",
      " $ fpkm      : num  0.02 0 23.8 8.18 5.57 ...\n"
     ]
    }
   ],
   "source": [
    "df <- rbind(yyj.long, yjs.long)\n",
    "\n",
    "str(df)"
   ]
  },
  {
   "cell_type": "code",
   "execution_count": 65,
   "metadata": {},
   "outputs": [
    {
     "name": "stdout",
     "output_type": "stream",
     "text": [
      " [1] \"0\"   \"7\"   \"35\"  \"63\"  \"84\"  \"5\"   \"26\"  \"49\"  \"83\"  \"132\"\n"
     ]
    }
   ],
   "source": [
    "print(levels(df$time.point))"
   ]
  },
  {
   "cell_type": "code",
   "execution_count": 66,
   "metadata": {},
   "outputs": [],
   "source": [
    "df$time.point <- factor(df$time.point, levels = c('0', '5', '7', '26', '35', '49','63', '83', '84', '132'))"
   ]
  },
  {
   "cell_type": "code",
   "execution_count": 67,
   "metadata": {},
   "outputs": [
    {
     "name": "stdout",
     "output_type": "stream",
     "text": [
      "Classes 'tbl_df', 'tbl' and 'data.frame':\t636020 obs. of  4 variables:\n",
      " $ gene_name : chr  \"TSPAN6\" \"TNMD\" \"DPM1\" \"SCYL3\" ...\n",
      " $ sample    : chr  \"YYJ\" \"YYJ\" \"YYJ\" \"YYJ\" ...\n",
      " $ time.point: Factor w/ 10 levels \"0\",\"5\",\"7\",\"26\",..: 1 1 1 1 1 1 1 1 1 1 ...\n",
      " $ fpkm      : num  0.02 0 23.8 8.18 5.57 ...\n"
     ]
    }
   ],
   "source": [
    "str(df)"
   ]
  },
  {
   "cell_type": "code",
   "execution_count": 71,
   "metadata": {},
   "outputs": [],
   "source": [
    "for ( i in genes.95$genes) {\n",
    "    gene <- i\n",
    "    long <- df %>% filter(gene_name==i)\n",
    "\n",
    "\n",
    "    ggplot(long, aes(x=time.point, y=fpkm, group= 2, color=sample)) + geom_point() + \n",
    "      geom_line() + geom_text(aes(label=fpkm),hjust=0, vjust=0, size=2.5) + \n",
    "      scale_color_brewer(palette=\"Dark2\") + \n",
    "      ggtitle(gene)  + theme(plot.title = element_text(size=15, hjust=0.5))  + ylab(\"Expression(FPKM)\") + \n",
    "      xlab(\"Time point\")  + theme(axis.text=element_text(size=10, face='bold')) + facet_wrap(~sample)\n",
    "\n",
    "\n",
    "    ggsave(paste0(\"filtered-95genes-plot/urgent/\",gene,'.png'), width=15, height=10, units=\"cm\")\n",
    "    \n",
    "    }"
   ]
  },
  {
   "cell_type": "code",
   "execution_count": null,
   "metadata": {},
   "outputs": [],
   "source": []
  }
 ],
 "metadata": {
  "kernelspec": {
   "display_name": "R",
   "language": "R",
   "name": "ir"
  },
  "language_info": {
   "codemirror_mode": "r",
   "file_extension": ".r",
   "mimetype": "text/x-r-source",
   "name": "R",
   "pygments_lexer": "r",
   "version": "3.4.3"
  }
 },
 "nbformat": 4,
 "nbformat_minor": 2
}
