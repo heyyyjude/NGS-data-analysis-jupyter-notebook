{
 "cells": [
  {
   "cell_type": "code",
   "execution_count": 1,
   "metadata": {},
   "outputs": [
    {
     "name": "stderr",
     "output_type": "stream",
     "text": [
      "Loading required package: S4Vectors\n",
      "Loading required package: stats4\n",
      "Loading required package: BiocGenerics\n",
      "Loading required package: parallel\n",
      "\n",
      "Attaching package: 'BiocGenerics'\n",
      "\n",
      "The following objects are masked from 'package:parallel':\n",
      "\n",
      "    clusterApply, clusterApplyLB, clusterCall, clusterEvalQ,\n",
      "    clusterExport, clusterMap, parApply, parCapply, parLapply,\n",
      "    parLapplyLB, parRapply, parSapply, parSapplyLB\n",
      "\n",
      "The following objects are masked from 'package:stats':\n",
      "\n",
      "    IQR, mad, sd, var, xtabs\n",
      "\n",
      "The following objects are masked from 'package:base':\n",
      "\n",
      "    anyDuplicated, append, as.data.frame, cbind, colMeans, colnames,\n",
      "    colSums, do.call, duplicated, eval, evalq, Filter, Find, get, grep,\n",
      "    grepl, intersect, is.unsorted, lapply, lengths, Map, mapply, match,\n",
      "    mget, order, paste, pmax, pmax.int, pmin, pmin.int, Position, rank,\n",
      "    rbind, Reduce, rowMeans, rownames, rowSums, sapply, setdiff, sort,\n",
      "    table, tapply, union, unique, unsplit, which, which.max, which.min\n",
      "\n",
      "\n",
      "Attaching package: 'S4Vectors'\n",
      "\n",
      "The following object is masked from 'package:base':\n",
      "\n",
      "    expand.grid\n",
      "\n",
      "Loading required package: IRanges\n",
      "Loading required package: GenomicRanges\n",
      "Warning message:\n",
      "\"package 'GenomicRanges' was built under R version 3.4.4\"Loading required package: GenomeInfoDb\n",
      "Loading required package: SummarizedExperiment\n",
      "Loading required package: Biobase\n",
      "Welcome to Bioconductor\n",
      "\n",
      "    Vignettes contain introductory material; view with\n",
      "    'browseVignettes()'. To cite Bioconductor, see\n",
      "    'citation(\"Biobase\")', and for packages 'citation(\"pkgname\")'.\n",
      "\n",
      "Loading required package: DelayedArray\n",
      "Loading required package: matrixStats\n",
      "\n",
      "Attaching package: 'matrixStats'\n",
      "\n",
      "The following objects are masked from 'package:Biobase':\n",
      "\n",
      "    anyMissing, rowMedians\n",
      "\n",
      "\n",
      "Attaching package: 'DelayedArray'\n",
      "\n",
      "The following objects are masked from 'package:matrixStats':\n",
      "\n",
      "    colMaxs, colMins, colRanges, rowMaxs, rowMins, rowRanges\n",
      "\n",
      "The following object is masked from 'package:base':\n",
      "\n",
      "    apply\n",
      "\n",
      "Warning message:\n",
      "\"package 'tidyverse' was built under R version 3.4.4\"-- Attaching packages --------------------------------------- tidyverse 1.2.1 --\n",
      "√ tibble  1.4.2     √ dplyr   0.7.5\n",
      "√ tidyr   0.8.1     √ stringr 1.3.0\n",
      "√ purrr   0.2.4     √ forcats 0.3.0\n",
      "Warning message:\n",
      "\"package 'tidyr' was built under R version 3.4.4\"Warning message:\n",
      "\"package 'dplyr' was built under R version 3.4.4\"-- Conflicts ------------------------------------------ tidyverse_conflicts() --\n",
      "x dplyr::collapse()   masks IRanges::collapse()\n",
      "x dplyr::combine()    masks Biobase::combine(), BiocGenerics::combine()\n",
      "x dplyr::count()      masks matrixStats::count()\n",
      "x dplyr::desc()       masks IRanges::desc()\n",
      "x tidyr::expand()     masks S4Vectors::expand()\n",
      "x dplyr::exprs()      masks Biobase::exprs()\n",
      "x dplyr::filter()     masks stats::filter()\n",
      "x dplyr::first()      masks S4Vectors::first()\n",
      "x dplyr::lag()        masks stats::lag()\n",
      "x ggplot2::Position() masks BiocGenerics::Position(), base::Position()\n",
      "x purrr::reduce()     masks GenomicRanges::reduce(), IRanges::reduce()\n",
      "x dplyr::rename()     masks S4Vectors::rename()\n",
      "x dplyr::select()     masks biomaRt::select()\n",
      "x dplyr::slice()      masks IRanges::slice()\n",
      "\n",
      "Loading required package: AnnotationDbi\n",
      "\n",
      "Attaching package: 'AnnotationDbi'\n",
      "\n",
      "The following object is masked from 'package:dplyr':\n",
      "\n",
      "    select\n",
      "\n",
      "\n"
     ]
    }
   ],
   "source": [
    "library(\"tximport\")\n",
    "library(\"readr\")\n",
    "library(\"DESeq2\")\n",
    "library(\"ggplot2\")\n",
    "library(\"pheatmap\")\n",
    "library(\"RColorBrewer\")\n",
    "library(\"biomaRt\")\n",
    "library(\"tidyverse\")\n",
    "library(\"pcaExplorer\")\n",
    "library('exprAnalysis')\n",
    "library('org.Hs.eg.db')"
   ]
  },
  {
   "cell_type": "code",
   "execution_count": 2,
   "metadata": {},
   "outputs": [
    {
     "name": "stderr",
     "output_type": "stream",
     "text": [
      "Parsed with column specification:\n",
      "cols(\n",
      "  files.name = col_character(),\n",
      "  condition = col_character(),\n",
      "  sample = col_character()\n",
      ")\n"
     ]
    },
    {
     "data": {
      "text/html": [
       "<dl class=dl-horizontal>\n",
       "\t<dt>FL_3d.genes.results</dt>\n",
       "\t\t<dd>'E:/work/mRNA-seq/Prof.JinMiRim/FL_3d.genes.results'</dd>\n",
       "\t<dt>FL_1d.genes.results</dt>\n",
       "\t\t<dd>'E:/work/mRNA-seq/Prof.JinMiRim/FL_1d.genes.results'</dd>\n",
       "\t<dt>N_3d.genes.results</dt>\n",
       "\t\t<dd>'E:/work/mRNA-seq/Prof.JinMiRim/N_3d.genes.results'</dd>\n",
       "\t<dt>N_1d.genes.results</dt>\n",
       "\t\t<dd>'E:/work/mRNA-seq/Prof.JinMiRim/N_1d.genes.results'</dd>\n",
       "</dl>\n"
      ],
      "text/latex": [
       "\\begin{description*}\n",
       "\\item[FL\\textbackslash{}\\_3d.genes.results] 'E:/work/mRNA-seq/Prof.JinMiRim/FL\\_3d.genes.results'\n",
       "\\item[FL\\textbackslash{}\\_1d.genes.results] 'E:/work/mRNA-seq/Prof.JinMiRim/FL\\_1d.genes.results'\n",
       "\\item[N\\textbackslash{}\\_3d.genes.results] 'E:/work/mRNA-seq/Prof.JinMiRim/N\\_3d.genes.results'\n",
       "\\item[N\\textbackslash{}\\_1d.genes.results] 'E:/work/mRNA-seq/Prof.JinMiRim/N\\_1d.genes.results'\n",
       "\\end{description*}\n"
      ],
      "text/markdown": [
       "FL_3d.genes.results\n",
       ":   'E:/work/mRNA-seq/Prof.JinMiRim/FL_3d.genes.results'FL_1d.genes.results\n",
       ":   'E:/work/mRNA-seq/Prof.JinMiRim/FL_1d.genes.results'N_3d.genes.results\n",
       ":   'E:/work/mRNA-seq/Prof.JinMiRim/N_3d.genes.results'N_1d.genes.results\n",
       ":   'E:/work/mRNA-seq/Prof.JinMiRim/N_1d.genes.results'\n",
       "\n"
      ],
      "text/plain": [
       "                                 FL_3d.genes.results \n",
       "\"E:/work/mRNA-seq/Prof.JinMiRim/FL_3d.genes.results\" \n",
       "                                 FL_1d.genes.results \n",
       "\"E:/work/mRNA-seq/Prof.JinMiRim/FL_1d.genes.results\" \n",
       "                                  N_3d.genes.results \n",
       " \"E:/work/mRNA-seq/Prof.JinMiRim/N_3d.genes.results\" \n",
       "                                  N_1d.genes.results \n",
       " \"E:/work/mRNA-seq/Prof.JinMiRim/N_1d.genes.results\" "
      ]
     },
     "metadata": {},
     "output_type": "display_data"
    }
   ],
   "source": [
    "dir <- getwd()\n",
    "samples <- read_csv(file.path(dir, \"samples.csv\"))\n",
    "files <- file.path(dir, samples$files.name)\n",
    "names(files) <- paste0(samples$files.name)\n",
    "files"
   ]
  },
  {
   "cell_type": "code",
   "execution_count": 22,
   "metadata": {},
   "outputs": [
    {
     "name": "stderr",
     "output_type": "stream",
     "text": [
      "Parsed with column specification:\n",
      "cols(\n",
      "  gene_symbol = col_character(),\n",
      "  gene_id = col_character(),\n",
      "  `transcript_id(s)` = col_character(),\n",
      "  length = col_double(),\n",
      "  effective_length = col_double(),\n",
      "  expected_count = col_double(),\n",
      "  TPM = col_double(),\n",
      "  FPKM = col_double()\n",
      ")\n",
      "Parsed with column specification:\n",
      "cols(\n",
      "  gene_symbol = col_character(),\n",
      "  gene_id = col_character(),\n",
      "  `transcript_id(s)` = col_character(),\n",
      "  length = col_double(),\n",
      "  effective_length = col_double(),\n",
      "  expected_count = col_double(),\n",
      "  TPM = col_double(),\n",
      "  FPKM = col_double()\n",
      ")\n",
      "Parsed with column specification:\n",
      "cols(\n",
      "  gene_symbol = col_character(),\n",
      "  gene_id = col_character(),\n",
      "  `transcript_id(s)` = col_character(),\n",
      "  length = col_double(),\n",
      "  effective_length = col_double(),\n",
      "  expected_count = col_double(),\n",
      "  TPM = col_double(),\n",
      "  FPKM = col_double()\n",
      ")\n",
      "Parsed with column specification:\n",
      "cols(\n",
      "  gene_symbol = col_character(),\n",
      "  gene_id = col_character(),\n",
      "  `transcript_id(s)` = col_character(),\n",
      "  length = col_double(),\n",
      "  effective_length = col_double(),\n",
      "  expected_count = col_double(),\n",
      "  TPM = col_double(),\n",
      "  FPKM = col_double()\n",
      ")\n"
     ]
    }
   ],
   "source": [
    "modify_csv <- function(files.list) {\n",
    "  for (i in files.list) {\n",
    "    tmp <- read_tsv(i)\n",
    "    tmp$effective_length[tmp$effective_length==0] <- 1\n",
    "    write_tsv(tmp, i)\n",
    "  }\n",
    "}\n",
    "modify_csv(files.list = files)"
   ]
  },
  {
   "cell_type": "code",
   "execution_count": 14,
   "metadata": {},
   "outputs": [
    {
     "name": "stderr",
     "output_type": "stream",
     "text": [
      "reading in files with read_tsv\n",
      "1 2 3 4 \n",
      "using counts and average transcript lengths from tximport\n",
      "estimating size factors\n",
      "using 'avgTxLength' from assays(dds), correcting for library size\n",
      "estimating dispersions\n",
      "gene-wise dispersion estimates\n",
      "mean-dispersion relationship\n",
      "final dispersion estimates\n",
      "fitting model and testing\n"
     ]
    }
   ],
   "source": [
    "txi.rsem <- tximport(files, type = \"rsem\")\n",
    "\n",
    "condition <- factor(samples$condition)\n",
    "\n",
    "coldata <- data.frame(samples = samples$sample, condition=condition)\n",
    "\n",
    "#rownames(coldata) <- names(files)\n",
    "rownames(coldata) <- names(samples$sample)\n",
    "\n",
    "ddsTxi <- DESeqDataSetFromTximport(txi.rsem, colData = coldata, design = ~condition)\n",
    "\n",
    "colnames(ddsTxi) <- samples$sample\n",
    "\n",
    "dds <- ddsTxi[ rowSums(counts(ddsTxi)) > 1, ]\n",
    "\n",
    "dds$condition <-factor(dds$condition, levels=c(\"one\", \"three\"))\n",
    "\n",
    "deg.dds <- DESeq(dds)\n",
    "res <- results(deg.dds, pAdjustMethod = \"fdr\", contrast=c(\"condition\",\"one\", \"three\"))"
   ]
  },
  {
   "cell_type": "code",
   "execution_count": 15,
   "metadata": {},
   "outputs": [
    {
     "data": {
      "text/plain": [
       "class: DESeqDataSet \n",
       "dim: 6 4 \n",
       "metadata(1): version\n",
       "assays(2): counts avgTxLength\n",
       "rownames(6): ENSG00000000003 ENSG00000000005 ... ENSG00000000460\n",
       "  ENSG00000000938\n",
       "rowData names(0):\n",
       "colnames(4): FL_3d FL_1d N_3d N_1d\n",
       "colData names(2): samples condition"
      ]
     },
     "metadata": {},
     "output_type": "display_data"
    }
   ],
   "source": [
    "head(ddsTxi)"
   ]
  },
  {
   "cell_type": "code",
   "execution_count": 18,
   "metadata": {
    "scrolled": true
   },
   "outputs": [],
   "source": [
    "resLFC <- lfcShrink(deg.dds, coef=2, res=res)\n",
    "resOrdered <- res[order(res$pvalue),]\n",
    "\n",
    "\n",
    "rld <- rlog(deg.dds, blind=FALSE)\n",
    "vsd <- varianceStabilizingTransformation(deg.dds, blind=FALSE)\n",
    "\n",
    "sampleDists <- dist(t(assay(rld)))\n",
    "#z <- plotPCA(rld, intgroup=c(\"condition\"))\n",
    "#plotPCA(rld, intgroup=c(\"condition\"))\n",
    "##p <- z  + theme_bw() +  #theme(axis.title.y=element_text(size=15), axis.title.x=element_text(size=15)) +\n",
    "#theme(axis.title.y=element_text(size=15), axis.title.x=element_text(size=15)) + \n",
    "#theme(axis.text.y=element_text(size=12), axis.text.x=element_text(size=12))\n",
    "#p\n",
    "#ggsave(\"pca.png\", device = \"png\")"
   ]
  },
  {
   "cell_type": "code",
   "execution_count": 33,
   "metadata": {},
   "outputs": [
    {
     "data": {},
     "metadata": {},
     "output_type": "display_data"
    },
    {
     "name": "stderr",
     "output_type": "stream",
     "text": [
      "Saving 6.67 x 6.67 in image\n"
     ]
    },
    {
     "data": {
      "image/png": "[encoded data removed]",
      "text/plain": [
       "plot without title"
      ]
     },
     "metadata": {},
     "output_type": "display_data"
    }
   ],
   "source": [
    "z <- plotPCA(rld, intgroup=c(\"condition\"))\n",
    "z <- z  + theme_bw() +  geom_label(aes(label = name))\n",
    "p <- z  + theme_bw() +  #theme(axis.title.y=element_text(size=15), axis.title.x=element_text(size=15)) +\n",
    "theme(axis.title.y=element_text(size=15), axis.title.x=element_text(size=15)) + \n",
    "theme(axis.text.y=element_text(size=12), axis.text.x=element_text(size=12))\n",
    "p\n",
    "ggsave(\"pca.png\", device = \"png\")"
   ]
  },
  {
   "cell_type": "code",
   "execution_count": 20,
   "metadata": {},
   "outputs": [
    {
     "data": {
      "text/plain": [
       "log2 fold change (MLE): condition one vs three \n",
       "Wald test p-value: condition one vs three \n",
       "DataFrame with 6 rows and 6 columns\n",
       "                  baseMean log2FoldChange     lfcSE          stat    pvalue\n",
       "                 <numeric>      <numeric> <numeric>     <numeric> <numeric>\n",
       "ENSG00000000003   21.56188  -0.1669127681 0.9314703 -0.1791928055 0.8577863\n",
       "ENSG00000000005    1.00000  -0.0002203937 3.1105029 -0.0000708547 0.9999435\n",
       "ENSG00000000419 1003.04030  -0.0539693073 0.5112191 -0.1055698200 0.9159237\n",
       "ENSG00000000457 1195.36735   0.1642446721 0.4949582  0.3318354128 0.7400135\n",
       "ENSG00000000460  375.61832  -0.3658157712 0.4735395 -0.7725137262 0.4398102\n",
       "ENSG00000000938 7806.50794   0.1228983500 0.5135938  0.2392909752 0.8108800\n",
       "                     padj\n",
       "                <numeric>\n",
       "ENSG00000000003         1\n",
       "ENSG00000000005         1\n",
       "ENSG00000000419         1\n",
       "ENSG00000000457         1\n",
       "ENSG00000000460         1\n",
       "ENSG00000000938         1"
      ]
     },
     "metadata": {},
     "output_type": "display_data"
    }
   ],
   "source": [
    "head(res)"
   ]
  },
  {
   "cell_type": "code",
   "execution_count": 22,
   "metadata": {},
   "outputs": [
    {
     "name": "stderr",
     "output_type": "stream",
     "text": [
      "Warning message:\n",
      "\"package 'bindrcpp' was built under R version 3.4.4\""
     ]
    },
    {
     "data": {
      "text/html": [
       "<table>\n",
       "<thead><tr><th scope=col>n</th></tr></thead>\n",
       "<tbody>\n",
       "\t<tr><td>238</td></tr>\n",
       "</tbody>\n",
       "</table>\n"
      ],
      "text/latex": [
       "\\begin{tabular}{r|l}\n",
       " n\\\\\n",
       "\\hline\n",
       "\t 238\\\\\n",
       "\\end{tabular}\n"
      ],
      "text/markdown": [
       "\n",
       "n | \n",
       "|---|\n",
       "| 238 | \n",
       "\n",
       "\n"
      ],
      "text/plain": [
       "  n  \n",
       "1 238"
      ]
     },
     "metadata": {},
     "output_type": "display_data"
    }
   ],
   "source": [
    "tmp <- as.data.frame(res)\n",
    "tmp %>% filter(tmp$pvalue <= 0.05) %>% summarise(n = n())"
   ]
  },
  {
   "cell_type": "code",
   "execution_count": 23,
   "metadata": {},
   "outputs": [
    {
     "data": {
      "text/html": [
       "<table>\n",
       "<thead><tr><th scope=col>baseMean</th><th scope=col>log2FoldChange</th><th scope=col>lfcSE</th><th scope=col>stat</th><th scope=col>pvalue</th><th scope=col>padj</th></tr></thead>\n",
       "<tbody>\n",
       "\t<tr><td> 100.57704  </td><td> 1.918806   </td><td>0.9581780   </td><td> 2.002557   </td><td>0.0452248521</td><td>1           </td></tr>\n",
       "\t<tr><td> 349.99473  </td><td>-1.548649   </td><td>0.6968030   </td><td>-2.222507   </td><td>0.0262490811</td><td>1           </td></tr>\n",
       "\t<tr><td>  75.65663  </td><td>-3.775471   </td><td>1.2473376   </td><td>-3.026824   </td><td>0.0024713808</td><td>1           </td></tr>\n",
       "\t<tr><td>  49.20298  </td><td> 2.754046   </td><td>0.7293624   </td><td> 3.775963   </td><td>0.0001593905</td><td>1           </td></tr>\n",
       "\t<tr><td>  65.92031  </td><td> 2.215072   </td><td>0.9335231   </td><td> 2.372809   </td><td>0.0176533923</td><td>1           </td></tr>\n",
       "\t<tr><td>1758.46077  </td><td>-1.847606   </td><td>0.9046372   </td><td>-2.042372   </td><td>0.0411145983</td><td>1           </td></tr>\n",
       "</tbody>\n",
       "</table>\n"
      ],
      "text/latex": [
       "\\begin{tabular}{r|llllll}\n",
       " baseMean & log2FoldChange & lfcSE & stat & pvalue & padj\\\\\n",
       "\\hline\n",
       "\t  100.57704   &  1.918806    & 0.9581780    &  2.002557    & 0.0452248521 & 1           \\\\\n",
       "\t  349.99473   & -1.548649    & 0.6968030    & -2.222507    & 0.0262490811 & 1           \\\\\n",
       "\t   75.65663   & -3.775471    & 1.2473376    & -3.026824    & 0.0024713808 & 1           \\\\\n",
       "\t   49.20298   &  2.754046    & 0.7293624    &  3.775963    & 0.0001593905 & 1           \\\\\n",
       "\t   65.92031   &  2.215072    & 0.9335231    &  2.372809    & 0.0176533923 & 1           \\\\\n",
       "\t 1758.46077   & -1.847606    & 0.9046372    & -2.042372    & 0.0411145983 & 1           \\\\\n",
       "\\end{tabular}\n"
      ],
      "text/markdown": [
       "\n",
       "baseMean | log2FoldChange | lfcSE | stat | pvalue | padj | \n",
       "|---|---|---|---|---|---|\n",
       "|  100.57704   |  1.918806    | 0.9581780    |  2.002557    | 0.0452248521 | 1            | \n",
       "|  349.99473   | -1.548649    | 0.6968030    | -2.222507    | 0.0262490811 | 1            | \n",
       "|   75.65663   | -3.775471    | 1.2473376    | -3.026824    | 0.0024713808 | 1            | \n",
       "|   49.20298   |  2.754046    | 0.7293624    |  3.775963    | 0.0001593905 | 1            | \n",
       "|   65.92031   |  2.215072    | 0.9335231    |  2.372809    | 0.0176533923 | 1            | \n",
       "| 1758.46077   | -1.847606    | 0.9046372    | -2.042372    | 0.0411145983 | 1            | \n",
       "\n",
       "\n"
      ],
      "text/plain": [
       "  baseMean   log2FoldChange lfcSE     stat      pvalue       padj\n",
       "1  100.57704  1.918806      0.9581780  2.002557 0.0452248521 1   \n",
       "2  349.99473 -1.548649      0.6968030 -2.222507 0.0262490811 1   \n",
       "3   75.65663 -3.775471      1.2473376 -3.026824 0.0024713808 1   \n",
       "4   49.20298  2.754046      0.7293624  3.775963 0.0001593905 1   \n",
       "5   65.92031  2.215072      0.9335231  2.372809 0.0176533923 1   \n",
       "6 1758.46077 -1.847606      0.9046372 -2.042372 0.0411145983 1   "
      ]
     },
     "metadata": {},
     "output_type": "display_data"
    }
   ],
   "source": [
    "tmp %>% filter(tmp$pvalue <= 0.05) %>% head"
   ]
  },
  {
   "cell_type": "code",
   "execution_count": 24,
   "metadata": {},
   "outputs": [
    {
     "name": "stderr",
     "output_type": "stream",
     "text": [
      "'select()' returned 1:many mapping between keys and columns\n",
      "'select()' returned 1:many mapping between keys and columns\n"
     ]
    }
   ],
   "source": [
    "deg.anno <- geneAnnotations(input=tmp,\n",
    "                               keys=row.names(tmp), \n",
    "                               column=c(\"ENTREZID\", \"SYMBOL\"), \n",
    "                               keytype=\"ENSEMBL\", organism=\"human\")"
   ]
  },
  {
   "cell_type": "code",
   "execution_count": 25,
   "metadata": {},
   "outputs": [
    {
     "data": {
      "text/html": [
       "<table>\n",
       "<thead><tr><th></th><th scope=col>baseMean</th><th scope=col>log2FoldChange</th><th scope=col>lfcSE</th><th scope=col>stat</th><th scope=col>pvalue</th><th scope=col>padj</th><th scope=col>ENTREZID</th><th scope=col>SYMBOL</th></tr></thead>\n",
       "<tbody>\n",
       "\t<tr><th scope=row>ENSG00000000003</th><td>  21.56188   </td><td>-0.1669127681</td><td>0.9314703    </td><td>-0.1791928055</td><td>0.8577863    </td><td>1            </td><td>7105         </td><td>TSPAN6       </td></tr>\n",
       "\t<tr><th scope=row>ENSG00000000005</th><td>   1.00000   </td><td>-0.0002203937</td><td>3.1105029    </td><td>-0.0000708547</td><td>0.9999435    </td><td>1            </td><td>64102        </td><td>TNMD         </td></tr>\n",
       "\t<tr><th scope=row>ENSG00000000419</th><td>1003.04030   </td><td>-0.0539693073</td><td>0.5112191    </td><td>-0.1055698200</td><td>0.9159237    </td><td>1            </td><td>8813         </td><td>DPM1         </td></tr>\n",
       "\t<tr><th scope=row>ENSG00000000457</th><td>1195.36735   </td><td> 0.1642446721</td><td>0.4949582    </td><td> 0.3318354128</td><td>0.7400135    </td><td>1            </td><td>57147        </td><td>SCYL3        </td></tr>\n",
       "\t<tr><th scope=row>ENSG00000000460</th><td> 375.61832   </td><td>-0.3658157712</td><td>0.4735395    </td><td>-0.7725137262</td><td>0.4398102    </td><td>1            </td><td>55732        </td><td>C1orf112     </td></tr>\n",
       "\t<tr><th scope=row>ENSG00000000938</th><td>7806.50794   </td><td> 0.1228983500</td><td>0.5135938    </td><td> 0.2392909752</td><td>0.8108800    </td><td>1            </td><td>2268         </td><td>FGR          </td></tr>\n",
       "</tbody>\n",
       "</table>\n"
      ],
      "text/latex": [
       "\\begin{tabular}{r|llllllll}\n",
       "  & baseMean & log2FoldChange & lfcSE & stat & pvalue & padj & ENTREZID & SYMBOL\\\\\n",
       "\\hline\n",
       "\tENSG00000000003 &   21.56188    & -0.1669127681 & 0.9314703     & -0.1791928055 & 0.8577863     & 1             & 7105          & TSPAN6       \\\\\n",
       "\tENSG00000000005 &    1.00000    & -0.0002203937 & 3.1105029     & -0.0000708547 & 0.9999435     & 1             & 64102         & TNMD         \\\\\n",
       "\tENSG00000000419 & 1003.04030    & -0.0539693073 & 0.5112191     & -0.1055698200 & 0.9159237     & 1             & 8813          & DPM1         \\\\\n",
       "\tENSG00000000457 & 1195.36735    &  0.1642446721 & 0.4949582     &  0.3318354128 & 0.7400135     & 1             & 57147         & SCYL3        \\\\\n",
       "\tENSG00000000460 &  375.61832    & -0.3658157712 & 0.4735395     & -0.7725137262 & 0.4398102     & 1             & 55732         & C1orf112     \\\\\n",
       "\tENSG00000000938 & 7806.50794    &  0.1228983500 & 0.5135938     &  0.2392909752 & 0.8108800     & 1             & 2268          & FGR          \\\\\n",
       "\\end{tabular}\n"
      ],
      "text/markdown": [
       "\n",
       "| <!--/--> | baseMean | log2FoldChange | lfcSE | stat | pvalue | padj | ENTREZID | SYMBOL | \n",
       "|---|---|---|---|---|---|\n",
       "| ENSG00000000003 |   21.56188    | -0.1669127681 | 0.9314703     | -0.1791928055 | 0.8577863     | 1             | 7105          | TSPAN6        | \n",
       "| ENSG00000000005 |    1.00000    | -0.0002203937 | 3.1105029     | -0.0000708547 | 0.9999435     | 1             | 64102         | TNMD          | \n",
       "| ENSG00000000419 | 1003.04030    | -0.0539693073 | 0.5112191     | -0.1055698200 | 0.9159237     | 1             | 8813          | DPM1          | \n",
       "| ENSG00000000457 | 1195.36735    |  0.1642446721 | 0.4949582     |  0.3318354128 | 0.7400135     | 1             | 57147         | SCYL3         | \n",
       "| ENSG00000000460 |  375.61832    | -0.3658157712 | 0.4735395     | -0.7725137262 | 0.4398102     | 1             | 55732         | C1orf112      | \n",
       "| ENSG00000000938 | 7806.50794    |  0.1228983500 | 0.5135938     |  0.2392909752 | 0.8108800     | 1             | 2268          | FGR           | \n",
       "\n",
       "\n"
      ],
      "text/plain": [
       "                baseMean   log2FoldChange lfcSE     stat          pvalue   \n",
       "ENSG00000000003   21.56188 -0.1669127681  0.9314703 -0.1791928055 0.8577863\n",
       "ENSG00000000005    1.00000 -0.0002203937  3.1105029 -0.0000708547 0.9999435\n",
       "ENSG00000000419 1003.04030 -0.0539693073  0.5112191 -0.1055698200 0.9159237\n",
       "ENSG00000000457 1195.36735  0.1642446721  0.4949582  0.3318354128 0.7400135\n",
       "ENSG00000000460  375.61832 -0.3658157712  0.4735395 -0.7725137262 0.4398102\n",
       "ENSG00000000938 7806.50794  0.1228983500  0.5135938  0.2392909752 0.8108800\n",
       "                padj ENTREZID SYMBOL  \n",
       "ENSG00000000003 1    7105     TSPAN6  \n",
       "ENSG00000000005 1    64102    TNMD    \n",
       "ENSG00000000419 1    8813     DPM1    \n",
       "ENSG00000000457 1    57147    SCYL3   \n",
       "ENSG00000000460 1    55732    C1orf112\n",
       "ENSG00000000938 1    2268     FGR     "
      ]
     },
     "metadata": {},
     "output_type": "display_data"
    }
   ],
   "source": [
    "head(deg.anno)"
   ]
  },
  {
   "cell_type": "code",
   "execution_count": 28,
   "metadata": {},
   "outputs": [
    {
     "data": {
      "text/html": [
       "<table>\n",
       "<thead><tr><th></th><th scope=col>SYMBOL</th><th scope=col>ENTREZID</th><th scope=col>log2FoldChange</th><th scope=col>pvalue</th><th scope=col>padj</th><th scope=col>baseMean</th><th scope=col>lfcSE</th><th scope=col>stat</th></tr></thead>\n",
       "<tbody>\n",
       "\t<tr><th scope=row>ENSG00000000003</th><td>TSPAN6       </td><td>7105         </td><td>-0.1669127681</td><td>0.8577863    </td><td>1            </td><td>  21.56188   </td><td>0.9314703    </td><td>-0.1791928055</td></tr>\n",
       "\t<tr><th scope=row>ENSG00000000005</th><td>TNMD         </td><td>64102        </td><td>-0.0002203937</td><td>0.9999435    </td><td>1            </td><td>   1.00000   </td><td>3.1105029    </td><td>-0.0000708547</td></tr>\n",
       "\t<tr><th scope=row>ENSG00000000419</th><td>DPM1         </td><td>8813         </td><td>-0.0539693073</td><td>0.9159237    </td><td>1            </td><td>1003.04030   </td><td>0.5112191    </td><td>-0.1055698200</td></tr>\n",
       "\t<tr><th scope=row>ENSG00000000457</th><td>SCYL3        </td><td>57147        </td><td> 0.1642446721</td><td>0.7400135    </td><td>1            </td><td>1195.36735   </td><td>0.4949582    </td><td> 0.3318354128</td></tr>\n",
       "\t<tr><th scope=row>ENSG00000000460</th><td>C1orf112     </td><td>55732        </td><td>-0.3658157712</td><td>0.4398102    </td><td>1            </td><td> 375.61832   </td><td>0.4735395    </td><td>-0.7725137262</td></tr>\n",
       "\t<tr><th scope=row>ENSG00000000938</th><td>FGR          </td><td>2268         </td><td> 0.1228983500</td><td>0.8108800    </td><td>1            </td><td>7806.50794   </td><td>0.5135938    </td><td> 0.2392909752</td></tr>\n",
       "</tbody>\n",
       "</table>\n"
      ],
      "text/latex": [
       "\\begin{tabular}{r|llllllll}\n",
       "  & SYMBOL & ENTREZID & log2FoldChange & pvalue & padj & baseMean & lfcSE & stat\\\\\n",
       "\\hline\n",
       "\tENSG00000000003 & TSPAN6        & 7105          & -0.1669127681 & 0.8577863     & 1             &   21.56188    & 0.9314703     & -0.1791928055\\\\\n",
       "\tENSG00000000005 & TNMD          & 64102         & -0.0002203937 & 0.9999435     & 1             &    1.00000    & 3.1105029     & -0.0000708547\\\\\n",
       "\tENSG00000000419 & DPM1          & 8813          & -0.0539693073 & 0.9159237     & 1             & 1003.04030    & 0.5112191     & -0.1055698200\\\\\n",
       "\tENSG00000000457 & SCYL3         & 57147         &  0.1642446721 & 0.7400135     & 1             & 1195.36735    & 0.4949582     &  0.3318354128\\\\\n",
       "\tENSG00000000460 & C1orf112      & 55732         & -0.3658157712 & 0.4398102     & 1             &  375.61832    & 0.4735395     & -0.7725137262\\\\\n",
       "\tENSG00000000938 & FGR           & 2268          &  0.1228983500 & 0.8108800     & 1             & 7806.50794    & 0.5135938     &  0.2392909752\\\\\n",
       "\\end{tabular}\n"
      ],
      "text/markdown": [
       "\n",
       "| <!--/--> | SYMBOL | ENTREZID | log2FoldChange | pvalue | padj | baseMean | lfcSE | stat | \n",
       "|---|---|---|---|---|---|\n",
       "| ENSG00000000003 | TSPAN6        | 7105          | -0.1669127681 | 0.8577863     | 1             |   21.56188    | 0.9314703     | -0.1791928055 | \n",
       "| ENSG00000000005 | TNMD          | 64102         | -0.0002203937 | 0.9999435     | 1             |    1.00000    | 3.1105029     | -0.0000708547 | \n",
       "| ENSG00000000419 | DPM1          | 8813          | -0.0539693073 | 0.9159237     | 1             | 1003.04030    | 0.5112191     | -0.1055698200 | \n",
       "| ENSG00000000457 | SCYL3         | 57147         |  0.1642446721 | 0.7400135     | 1             | 1195.36735    | 0.4949582     |  0.3318354128 | \n",
       "| ENSG00000000460 | C1orf112      | 55732         | -0.3658157712 | 0.4398102     | 1             |  375.61832    | 0.4735395     | -0.7725137262 | \n",
       "| ENSG00000000938 | FGR           | 2268          |  0.1228983500 | 0.8108800     | 1             | 7806.50794    | 0.5135938     |  0.2392909752 | \n",
       "\n",
       "\n"
      ],
      "text/plain": [
       "                SYMBOL   ENTREZID log2FoldChange pvalue    padj baseMean  \n",
       "ENSG00000000003 TSPAN6   7105     -0.1669127681  0.8577863 1      21.56188\n",
       "ENSG00000000005 TNMD     64102    -0.0002203937  0.9999435 1       1.00000\n",
       "ENSG00000000419 DPM1     8813     -0.0539693073  0.9159237 1    1003.04030\n",
       "ENSG00000000457 SCYL3    57147     0.1642446721  0.7400135 1    1195.36735\n",
       "ENSG00000000460 C1orf112 55732    -0.3658157712  0.4398102 1     375.61832\n",
       "ENSG00000000938 FGR      2268      0.1228983500  0.8108800 1    7806.50794\n",
       "                lfcSE     stat         \n",
       "ENSG00000000003 0.9314703 -0.1791928055\n",
       "ENSG00000000005 3.1105029 -0.0000708547\n",
       "ENSG00000000419 0.5112191 -0.1055698200\n",
       "ENSG00000000457 0.4949582  0.3318354128\n",
       "ENSG00000000460 0.4735395 -0.7725137262\n",
       "ENSG00000000938 0.5135938  0.2392909752"
      ]
     },
     "metadata": {},
     "output_type": "display_data"
    }
   ],
   "source": [
    "deg.anno <- dplyr::select(deg.anno, \"SYMBOL\", \"ENTREZID\", \"log2FoldChange\", \"pvalue\", 'padj', \"baseMean\", \"lfcSE\", \"stat\")\n",
    "head(deg.anno)"
   ]
  },
  {
   "cell_type": "code",
   "execution_count": 29,
   "metadata": {},
   "outputs": [],
   "source": [
    "write.csv(deg.anno, file=\"one-vs-three.csv\")"
   ]
  },
  {
   "cell_type": "code",
   "execution_count": 30,
   "metadata": {},
   "outputs": [
    {
     "data": {
      "text/html": [
       "<table>\n",
       "<thead><tr><th></th><th scope=col>SYMBOL</th><th scope=col>ENTREZID</th><th scope=col>log2FoldChange</th><th scope=col>pvalue</th><th scope=col>padj</th><th scope=col>baseMean</th><th scope=col>lfcSE</th><th scope=col>stat</th><th scope=col>sig</th></tr></thead>\n",
       "<tbody>\n",
       "\t<tr><th scope=row>ENSG00000000003</th><td>TSPAN6       </td><td>7105         </td><td>-0.1669127681</td><td>0.8577863    </td><td>1            </td><td>  21.56188   </td><td>0.9314703    </td><td>-0.1791928055</td><td>Not Sig      </td></tr>\n",
       "\t<tr><th scope=row>ENSG00000000005</th><td>TNMD         </td><td>64102        </td><td>-0.0002203937</td><td>0.9999435    </td><td>1            </td><td>   1.00000   </td><td>3.1105029    </td><td>-0.0000708547</td><td>Not Sig      </td></tr>\n",
       "\t<tr><th scope=row>ENSG00000000419</th><td>DPM1         </td><td>8813         </td><td>-0.0539693073</td><td>0.9159237    </td><td>1            </td><td>1003.04030   </td><td>0.5112191    </td><td>-0.1055698200</td><td>Not Sig      </td></tr>\n",
       "\t<tr><th scope=row>ENSG00000000457</th><td>SCYL3        </td><td>57147        </td><td> 0.1642446721</td><td>0.7400135    </td><td>1            </td><td>1195.36735   </td><td>0.4949582    </td><td> 0.3318354128</td><td>Not Sig      </td></tr>\n",
       "\t<tr><th scope=row>ENSG00000000460</th><td>C1orf112     </td><td>55732        </td><td>-0.3658157712</td><td>0.4398102    </td><td>1            </td><td> 375.61832   </td><td>0.4735395    </td><td>-0.7725137262</td><td>Not Sig      </td></tr>\n",
       "\t<tr><th scope=row>ENSG00000000938</th><td>FGR          </td><td>2268         </td><td> 0.1228983500</td><td>0.8108800    </td><td>1            </td><td>7806.50794   </td><td>0.5135938    </td><td> 0.2392909752</td><td>Not Sig      </td></tr>\n",
       "</tbody>\n",
       "</table>\n"
      ],
      "text/latex": [
       "\\begin{tabular}{r|lllllllll}\n",
       "  & SYMBOL & ENTREZID & log2FoldChange & pvalue & padj & baseMean & lfcSE & stat & sig\\\\\n",
       "\\hline\n",
       "\tENSG00000000003 & TSPAN6        & 7105          & -0.1669127681 & 0.8577863     & 1             &   21.56188    & 0.9314703     & -0.1791928055 & Not Sig      \\\\\n",
       "\tENSG00000000005 & TNMD          & 64102         & -0.0002203937 & 0.9999435     & 1             &    1.00000    & 3.1105029     & -0.0000708547 & Not Sig      \\\\\n",
       "\tENSG00000000419 & DPM1          & 8813          & -0.0539693073 & 0.9159237     & 1             & 1003.04030    & 0.5112191     & -0.1055698200 & Not Sig      \\\\\n",
       "\tENSG00000000457 & SCYL3         & 57147         &  0.1642446721 & 0.7400135     & 1             & 1195.36735    & 0.4949582     &  0.3318354128 & Not Sig      \\\\\n",
       "\tENSG00000000460 & C1orf112      & 55732         & -0.3658157712 & 0.4398102     & 1             &  375.61832    & 0.4735395     & -0.7725137262 & Not Sig      \\\\\n",
       "\tENSG00000000938 & FGR           & 2268          &  0.1228983500 & 0.8108800     & 1             & 7806.50794    & 0.5135938     &  0.2392909752 & Not Sig      \\\\\n",
       "\\end{tabular}\n"
      ],
      "text/markdown": [
       "\n",
       "| <!--/--> | SYMBOL | ENTREZID | log2FoldChange | pvalue | padj | baseMean | lfcSE | stat | sig | \n",
       "|---|---|---|---|---|---|\n",
       "| ENSG00000000003 | TSPAN6        | 7105          | -0.1669127681 | 0.8577863     | 1             |   21.56188    | 0.9314703     | -0.1791928055 | Not Sig       | \n",
       "| ENSG00000000005 | TNMD          | 64102         | -0.0002203937 | 0.9999435     | 1             |    1.00000    | 3.1105029     | -0.0000708547 | Not Sig       | \n",
       "| ENSG00000000419 | DPM1          | 8813          | -0.0539693073 | 0.9159237     | 1             | 1003.04030    | 0.5112191     | -0.1055698200 | Not Sig       | \n",
       "| ENSG00000000457 | SCYL3         | 57147         |  0.1642446721 | 0.7400135     | 1             | 1195.36735    | 0.4949582     |  0.3318354128 | Not Sig       | \n",
       "| ENSG00000000460 | C1orf112      | 55732         | -0.3658157712 | 0.4398102     | 1             |  375.61832    | 0.4735395     | -0.7725137262 | Not Sig       | \n",
       "| ENSG00000000938 | FGR           | 2268          |  0.1228983500 | 0.8108800     | 1             | 7806.50794    | 0.5135938     |  0.2392909752 | Not Sig       | \n",
       "\n",
       "\n"
      ],
      "text/plain": [
       "                SYMBOL   ENTREZID log2FoldChange pvalue    padj baseMean  \n",
       "ENSG00000000003 TSPAN6   7105     -0.1669127681  0.8577863 1      21.56188\n",
       "ENSG00000000005 TNMD     64102    -0.0002203937  0.9999435 1       1.00000\n",
       "ENSG00000000419 DPM1     8813     -0.0539693073  0.9159237 1    1003.04030\n",
       "ENSG00000000457 SCYL3    57147     0.1642446721  0.7400135 1    1195.36735\n",
       "ENSG00000000460 C1orf112 55732    -0.3658157712  0.4398102 1     375.61832\n",
       "ENSG00000000938 FGR      2268      0.1228983500  0.8108800 1    7806.50794\n",
       "                lfcSE     stat          sig    \n",
       "ENSG00000000003 0.9314703 -0.1791928055 Not Sig\n",
       "ENSG00000000005 3.1105029 -0.0000708547 Not Sig\n",
       "ENSG00000000419 0.5112191 -0.1055698200 Not Sig\n",
       "ENSG00000000457 0.4949582  0.3318354128 Not Sig\n",
       "ENSG00000000460 0.4735395 -0.7725137262 Not Sig\n",
       "ENSG00000000938 0.5135938  0.2392909752 Not Sig"
      ]
     },
     "metadata": {},
     "output_type": "display_data"
    }
   ],
   "source": [
    "deg.anno$sig <- ifelse(deg.anno$pvalue < 0.05, \"P-value<0.05\", \"Not Sig\")\n",
    "head(deg.anno)\n"
   ]
  },
  {
   "cell_type": "code",
   "execution_count": 32,
   "metadata": {},
   "outputs": [
    {
     "name": "stderr",
     "output_type": "stream",
     "text": [
      "Saving 6.67 x 6.67 in image\n"
     ]
    },
    {
     "data": {
      "image/png": "[encoded data removed]",
      "text/plain": [
       "plot without title"
      ]
     },
     "metadata": {},
     "output_type": "display_data"
    }
   ],
   "source": [
    "DEgenes_DESeq <- deg.anno[which(abs(deg.anno$log2FoldChange) >= log2(2) & deg.anno$pvalue < 0.05),]\n",
    "\n",
    "p <- ggplot2::ggplot(deg.anno, ggplot2::aes(log2FoldChange, -log10(pvalue))) +\n",
    "  ggplot2::geom_point(ggplot2::aes(col = sig)) +\n",
    "  ggplot2::scale_color_manual(values = c(\"black\", \"red\")) +\n",
    "  ggplot2::ggtitle(\"one-vs-three\") + ggplot2::theme_bw() + ggplot2::ylim(0,15) + ggplot2::xlim(-15,15) + \n",
    "  theme(axis.title.y=element_text(size=15), axis.title.x=element_text(size=15)) + \n",
    "theme(axis.text.y=element_text(size=12), axis.text.x=element_text(size=12))\n",
    "\n",
    "print(p)\n",
    "ggsave(\"one-vs-three-volcano.plot.png\")"
   ]
  },
  {
   "cell_type": "code",
   "execution_count": null,
   "metadata": {},
   "outputs": [],
   "source": []
  }
 ],
 "metadata": {
  "kernelspec": {
   "display_name": "R",
   "language": "R",
   "name": "ir"
  },
  "language_info": {
   "codemirror_mode": "r",
   "file_extension": ".r",
   "mimetype": "text/x-r-source",
   "name": "R",
   "pygments_lexer": "r",
   "version": "3.4.3"
  }
 },
 "nbformat": 4,
 "nbformat_minor": 2
}
